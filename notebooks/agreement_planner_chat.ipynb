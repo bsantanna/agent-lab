{
 "cells": [
  {
   "cell_type": "code",
   "execution_count": null,
   "id": "initial_id",
   "metadata": {
    "collapsed": true
   },
   "outputs": [],
   "source": [
    "%%capture\n",
    "\n",
    "import os\n",
    "\n",
    "os.chdir(\"..\")\n",
    "\n",
    "from dotenv import load_dotenv\n",
    "\n",
    "load_dotenv()\n",
    "\n",
    "from IPython.display import Markdown, display\n",
    "import json\n",
    "\n",
    "from notebooks import experiment_utils\n",
    "from app.core.container import Container\n",
    "from app.interface.api.messages.schema import MessageRequest\n",
    "\n",
    "# graph rendering\n",
    "import nest_asyncio\n",
    "\n",
    "nest_asyncio.apply()\n",
    "\n",
    "# start dependency injection container\n",
    "container = Container()\n",
    "container.init_resources()\n",
    "container.wire(modules=[__name__])"
   ]
  },
  {
   "cell_type": "code",
   "execution_count": null,
   "id": "a9dd7233ecf28e11",
   "metadata": {},
   "outputs": [],
   "source": [
    "agent = experiment_utils.create_xai_agent(\n",
    "    agent_type=\"agreement_planner\",\n",
    "    llm_tag=\"grok-2-vision\",\n",
    "    api_key=os.getenv(\"XAI_API_KEY\"),\n",
    ")"
   ]
  },
  {
   "cell_type": "code",
   "execution_count": null,
   "id": "6c35815f0e38aad6",
   "metadata": {},
   "outputs": [],
   "source": [
    "# get agent instance\n",
    "agreement_planner_agent = container.agreement_planner_agent()\n",
    "\n",
    "# get checkpointer instance\n",
    "graph_persistence_factory = container.graph_persistence_factory()\n",
    "checkpointer = graph_persistence_factory.build_checkpoint_saver()\n",
    "\n",
    "# get config\n",
    "agent_config = agreement_planner_agent.get_config(agent[\"id\"])\n",
    "\n",
    "# Create Graph\n",
    "workflow_builder = agreement_planner_agent.get_workflow_builder(agent[\"id\"])\n",
    "workflow = workflow_builder.compile(checkpointer=checkpointer)\n",
    "experiment_utils.print_graph(workflow)"
   ]
  },
  {
   "cell_type": "code",
   "execution_count": null,
   "id": "3220135d6c50d78e",
   "metadata": {},
   "outputs": [],
   "source": [
    "message_content = \"Tenho dívida de cartão de crédito e empréstimos pessoais no Itaú\"\n",
    "\n",
    "message = MessageRequest(\n",
    "    message_role=\"human\",\n",
    "    message_content=message_content,\n",
    "    agent_id=agent[\"id\"],\n",
    ")\n",
    "\n",
    "inputs = agreement_planner_agent.get_input_params(message)\n",
    "result = workflow.invoke(inputs, agent_config)\n",
    "ai_message_content, workflow_state = agreement_planner_agent.format_response(result)"
   ]
  },
  {
   "cell_type": "code",
   "execution_count": null,
   "id": "140870800724598e",
   "metadata": {},
   "outputs": [],
   "source": [
    "display(Markdown(ai_message_content))"
   ]
  },
  {
   "cell_type": "code",
   "execution_count": null,
   "id": "3e04fa4a35f5acc8",
   "metadata": {},
   "outputs": [],
   "source": [
    "display(\n",
    "    Markdown(\n",
    "        f\"**Execution Plan:**\\n```json\\n{json.dumps(workflow_state.get('execution_plan'), ensure_ascii=False, indent=2)}\\n```\"\n",
    "    )\n",
    ")"
   ]
  },
  {
   "cell_type": "code",
   "execution_count": null,
   "id": "535aa4d1004f5c85",
   "metadata": {},
   "outputs": [],
   "source": [
    "display(\n",
    "    Markdown(\n",
    "        f\"**Agreement Plan:**\\n```json\\n{json.dumps(workflow_state.get('agreement_plan'), ensure_ascii=False, indent=2)}\\n```\"\n",
    "    )\n",
    ")"
   ]
  },
  {
   "cell_type": "code",
   "execution_count": null,
   "id": "63bffa4bf4790b39",
   "metadata": {},
   "outputs": [],
   "source": []
  }
 ],
 "metadata": {
  "kernelspec": {
   "display_name": "Python 3",
   "language": "python",
   "name": "python3"
  },
  "language_info": {
   "codemirror_mode": {
    "name": "ipython",
    "version": 2
   },
   "file_extension": ".py",
   "mimetype": "text/x-python",
   "name": "python",
   "nbconvert_exporter": "python",
   "pygments_lexer": "ipython2",
   "version": "2.7.6"
  }
 },
 "nbformat": 4,
 "nbformat_minor": 5
}
