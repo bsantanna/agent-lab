{
 "cells": [
  {
   "metadata": {},
   "cell_type": "markdown",
   "source": [
    "### Agent-Lab: Embeddings Service\n",
    "\n",
    "Objective of this notebook is generating embeddings for static documents using REST API.\n",
    "\n",
    "#### Preparation steps:\n",
    "\n",
    "Before executing the notebook perform the following preparation steps.\n",
    "\n",
    "1. Start Docker containers: `docker compose up -d --build`\n",
    "\n",
    "2. Verify application is up and running, with web browser: `http://localhost:18000/docs`\n",
    "\n",
    "3. Inside project root directory, create a `.env` file with env vars with correct values:\n",
    "\n",
    "    ```\n",
    "    OLLAMA_ENDPOINT=\"http://localhost:11434\"\n",
    "    OLLAMA_MODEL_TAG=\"phi4-mini:latest\"\n",
    "    ```\n",
    "\n",
    "---\n",
    "\n"
   ],
   "id": "2023ffb3cb81bfd2"
  },
  {
   "cell_type": "code",
   "id": "initial_id",
   "metadata": {
    "collapsed": true,
    "ExecuteTime": {
     "end_time": "2025-03-18T13:32:11.038878Z",
     "start_time": "2025-03-18T13:32:06.323956Z"
    }
   },
   "source": [
    "%%capture\n",
    "\n",
    "import os\n",
    "os.chdir('..')\n",
    "\n",
    "from dotenv import load_dotenv\n",
    "load_dotenv()\n",
    "\n",
    "from notebooks import experiment_utils\n",
    "from app.core.container import Container\n",
    "\n",
    "# start dependency injection container\n",
    "container = Container()\n",
    "container.init_resources()\n",
    "container.wire(modules=[__name__])"
   ],
   "outputs": [],
   "execution_count": 1
  },
  {
   "metadata": {
    "ExecuteTime": {
     "end_time": "2025-03-18T13:32:11.225142Z",
     "start_time": "2025-03-18T13:32:11.042693Z"
    }
   },
   "cell_type": "code",
   "source": [
    "# create attachment\n",
    "attachment_id = experiment_utils.create_attachment(\n",
    "    file_path=\"tests/integration/sun_tzu_the_art_of_war.zip\",\n",
    "    content_type=\"application/zip\",\n",
    ")\n"
   ],
   "id": "9ae6cdcd4dbb6335",
   "outputs": [],
   "execution_count": 2
  },
  {
   "metadata": {
    "ExecuteTime": {
     "end_time": "2025-03-18T13:32:11.465328Z",
     "start_time": "2025-03-18T13:32:11.435671Z"
    }
   },
   "cell_type": "code",
   "source": [
    "# create ollama llm with integration\n",
    "llm = experiment_utils.create_llm_with_integration(\n",
    "    llm_tag=\"phi4-mini\",\n",
    "    integration_params = {\n",
    "        \"integration_type\": \"ollama_api_v1\",\n",
    "        \"api_endpoint\": os.getenv('OLLAMA_ENDPOINT'),\n",
    "        \"api_key\": \"ollama\",\n",
    "    }\n",
    ")\n",
    "llm_id = llm['id']\n"
   ],
   "id": "207daaa779fb1628",
   "outputs": [],
   "execution_count": 3
  },
  {
   "metadata": {
    "ExecuteTime": {
     "end_time": "2025-03-18T13:32:48.974936Z",
     "start_time": "2025-03-18T13:32:13.414647Z"
    }
   },
   "cell_type": "code",
   "source": [
    "processed_attachment = experiment_utils.create_embeddings(\n",
    "    attachment_id,\n",
    "    language_model_id=llm_id,\n",
    "    collection_name='static_document_data'\n",
    ")"
   ],
   "id": "e915704d66583fcf",
   "outputs": [],
   "execution_count": 4
  },
  {
   "metadata": {
    "ExecuteTime": {
     "end_time": "2025-03-18T13:32:48.985111Z",
     "start_time": "2025-03-18T13:32:48.981837Z"
    }
   },
   "cell_type": "code",
   "source": "processed_attachment['embeddings_collection']",
   "id": "1f8c0ef72f2fef68",
   "outputs": [
    {
     "data": {
      "text/plain": [
       "'static_document_data'"
      ]
     },
     "execution_count": 5,
     "metadata": {},
     "output_type": "execute_result"
    }
   ],
   "execution_count": 5
  },
  {
   "metadata": {
    "ExecuteTime": {
     "end_time": "2025-03-18T10:15:59.578451Z",
     "start_time": "2025-03-18T10:15:59.574111Z"
    }
   },
   "cell_type": "code",
   "source": "",
   "id": "80c28baa802a8046",
   "outputs": [],
   "execution_count": null
  }
 ],
 "metadata": {
  "kernelspec": {
   "display_name": "Python 3",
   "language": "python",
   "name": "python3"
  },
  "language_info": {
   "codemirror_mode": {
    "name": "ipython",
    "version": 2
   },
   "file_extension": ".py",
   "mimetype": "text/x-python",
   "name": "python",
   "nbconvert_exporter": "python",
   "pygments_lexer": "ipython2",
   "version": "2.7.6"
  }
 },
 "nbformat": 4,
 "nbformat_minor": 5
}
