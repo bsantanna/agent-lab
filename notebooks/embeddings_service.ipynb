{
 "cells": [
  {
   "cell_type": "markdown",
   "id": "2023ffb3cb81bfd2",
   "metadata": {},
   "source": [
    "### Agent-Lab: Embeddings Service\n",
    "\n",
    "Objective of this notebook is generating embeddings for static documents using REST API.\n",
    "\n",
    "#### Preparation steps:\n",
    "\n",
    "Before executing the notebook perform the following preparation steps.\n",
    "\n",
    "1. Start Docker containers: `docker compose up -d --build`\n",
    "\n",
    "2. Verify application is up and running, with web browser: `http://localhost:18000/docs`\n",
    "\n",
    "3. Inside project root directory, create a `.env` file with env vars with correct values:\n",
    "\n",
    "    ```\n",
    "    DEVELOPING=\"True\"\n",
    "    OLLAMA_ENDPOINT=\"http://localhost:11434\"\n",
    "    ```\n",
    "\n",
    "---\n",
    "\n"
   ]
  },
  {
   "cell_type": "code",
   "id": "initial_id",
   "metadata": {
    "collapsed": true,
    "ExecuteTime": {
     "end_time": "2025-05-12T18:47:50.400881Z",
     "start_time": "2025-05-12T18:47:42.669275Z"
    }
   },
   "source": [
    "%%capture\n",
    "\n",
    "import os\n",
    "\n",
    "os.chdir(\"..\")\n",
    "\n",
    "from dotenv import load_dotenv\n",
    "\n",
    "load_dotenv()\n",
    "\n",
    "from notebooks import experiment_utils\n",
    "from app.core.container import Container\n",
    "\n",
    "# start dependency injection container\n",
    "container = Container()\n",
    "container.init_resources()\n",
    "container.wire(modules=[__name__])"
   ],
   "outputs": [],
   "execution_count": 1
  },
  {
   "cell_type": "code",
   "id": "9ae6cdcd4dbb6335",
   "metadata": {
    "ExecuteTime": {
     "end_time": "2025-05-12T18:47:52.120102Z",
     "start_time": "2025-05-12T18:47:51.506430Z"
    }
   },
   "source": [
    "# create attachment\n",
    "attachment_id = experiment_utils.create_attachment(\n",
    "    file_path=\"tests/integration/sun_tzu_the_art_of_war.zip\",\n",
    "    content_type=\"application/zip\",\n",
    ")"
   ],
   "outputs": [],
   "execution_count": 2
  },
  {
   "cell_type": "code",
   "id": "207daaa779fb1628",
   "metadata": {
    "ExecuteTime": {
     "end_time": "2025-05-12T18:47:52.488994Z",
     "start_time": "2025-05-12T18:47:52.438661Z"
    }
   },
   "source": [
    "# create ollama llm with integration\n",
    "llm = experiment_utils.create_llm_with_integration(\n",
    "    llm_tag=\"phi4-mini:latest\",\n",
    "    integration_params={\n",
    "        \"integration_type\": \"ollama_api_v1\",\n",
    "        \"api_endpoint\": os.getenv(\"OLLAMA_ENDPOINT\"),\n",
    "        \"api_key\": \"ollama\",\n",
    "    },\n",
    ")\n",
    "llm_id = llm[\"id\"]"
   ],
   "outputs": [],
   "execution_count": 3
  },
  {
   "cell_type": "code",
   "id": "e915704d66583fcf",
   "metadata": {
    "ExecuteTime": {
     "end_time": "2025-05-12T19:33:14.452487Z",
     "start_time": "2025-05-12T19:10:30.388709Z"
    }
   },
   "source": [
    "processed_attachment = experiment_utils.create_embeddings(\n",
    "    attachment_id, language_model_id=llm_id, collection_name=\"static_document_data\"\n",
    ")"
   ],
   "outputs": [],
   "execution_count": 7
  },
  {
   "cell_type": "code",
   "id": "1f8c0ef72f2fef68",
   "metadata": {
    "ExecuteTime": {
     "end_time": "2025-05-12T19:33:27.099689Z",
     "start_time": "2025-05-12T19:33:27.091467Z"
    }
   },
   "source": [
    "processed_attachment[\"embeddings_collection\"]"
   ],
   "outputs": [
    {
     "data": {
      "text/plain": [
       "'static_document_data'"
      ]
     },
     "execution_count": 8,
     "metadata": {},
     "output_type": "execute_result"
    }
   ],
   "execution_count": 8
  },
  {
   "cell_type": "code",
   "id": "80c28baa802a8046",
   "metadata": {},
   "source": [],
   "outputs": [],
   "execution_count": null
  }
 ],
 "metadata": {
  "kernelspec": {
   "display_name": "Python 3",
   "language": "python",
   "name": "python3"
  },
  "language_info": {
   "codemirror_mode": {
    "name": "ipython",
    "version": 2
   },
   "file_extension": ".py",
   "mimetype": "text/x-python",
   "name": "python",
   "nbconvert_exporter": "python",
   "pygments_lexer": "ipython2",
   "version": "2.7.6"
  }
 },
 "nbformat": 4,
 "nbformat_minor": 5
}
