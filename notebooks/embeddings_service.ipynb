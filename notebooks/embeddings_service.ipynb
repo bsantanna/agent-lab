{
 "cells": [
  {
   "cell_type": "markdown",
   "id": "2023ffb3cb81bfd2",
   "metadata": {},
   "source": [
    "### Agent-Lab: Embeddings Service\n",
    "\n",
    "Objective of this notebook is generating embeddings for static documents using REST API.\n",
    "\n",
    "#### Preparation steps:\n",
    "\n",
    "Before executing the notebook perform the following preparation steps.\n",
    "\n",
    "1. Start Docker containers: `docker compose up -d --build`\n",
    "\n",
    "2. Verify application is up and running, with web browser: `http://localhost:18000/docs`\n",
    "\n",
    "3. Inside project root directory, create a `.env` file with env vars with correct values:\n",
    "\n",
    "    ```\n",
    "    DEVELOPING=\"True\"\n",
    "    OLLAMA_ENDPOINT=\"http://localhost:11434\"\n",
    "    ```\n",
    "\n",
    "---\n",
    "\n"
   ]
  },
  {
   "cell_type": "code",
   "execution_count": 1,
   "id": "initial_id",
   "metadata": {
    "ExecuteTime": {
     "end_time": "2025-04-05T17:45:12.913581Z",
     "start_time": "2025-04-05T17:45:08.763917Z"
    },
    "collapsed": true
   },
   "outputs": [],
   "source": [
    "%%capture\n",
    "\n",
    "import os\n",
    "\n",
    "os.chdir(\"..\")\n",
    "\n",
    "from dotenv import load_dotenv\n",
    "\n",
    "load_dotenv()\n",
    "\n",
    "from notebooks import experiment_utils\n",
    "from app.core.container import Container\n",
    "\n",
    "# start dependency injection container\n",
    "container = Container()\n",
    "container.init_resources()\n",
    "container.wire(modules=[__name__])"
   ]
  },
  {
   "cell_type": "code",
   "execution_count": 2,
   "id": "9ae6cdcd4dbb6335",
   "metadata": {
    "ExecuteTime": {
     "end_time": "2025-04-05T17:45:13.334619Z",
     "start_time": "2025-04-05T17:45:13.000215Z"
    }
   },
   "outputs": [],
   "source": [
    "# create attachment\n",
    "attachment_id = experiment_utils.create_attachment(\n",
    "    file_path=\"tests/integration/sun_tzu_the_art_of_war.zip\",\n",
    "    content_type=\"application/zip\",\n",
    ")"
   ]
  },
  {
   "cell_type": "code",
   "execution_count": 3,
   "id": "207daaa779fb1628",
   "metadata": {
    "ExecuteTime": {
     "end_time": "2025-04-05T17:45:13.481886Z",
     "start_time": "2025-04-05T17:45:13.450753Z"
    }
   },
   "outputs": [],
   "source": [
    "# create ollama llm with integration\n",
    "llm = experiment_utils.create_llm_with_integration(\n",
    "    llm_tag=\"phi4-mini:latest\",\n",
    "    integration_params={\n",
    "        \"integration_type\": \"ollama_api_v1\",\n",
    "        \"api_endpoint\": os.getenv(\"OLLAMA_ENDPOINT\"),\n",
    "        \"api_key\": \"ollama\",\n",
    "    },\n",
    ")\n",
    "llm_id = llm[\"id\"]"
   ]
  },
  {
   "cell_type": "code",
   "execution_count": 4,
   "id": "e915704d66583fcf",
   "metadata": {
    "ExecuteTime": {
     "end_time": "2025-04-05T17:45:58.531206Z",
     "start_time": "2025-04-05T17:45:13.588221Z"
    }
   },
   "outputs": [],
   "source": [
    "processed_attachment = experiment_utils.create_embeddings(\n",
    "    attachment_id, language_model_id=llm_id, collection_name=\"static_document_data\"\n",
    ")"
   ]
  },
  {
   "cell_type": "code",
   "execution_count": 5,
   "id": "1f8c0ef72f2fef68",
   "metadata": {
    "ExecuteTime": {
     "end_time": "2025-04-05T17:45:58.691565Z",
     "start_time": "2025-04-05T17:45:58.670366Z"
    }
   },
   "outputs": [
    {
     "data": {
      "text/plain": [
       "'static_document_data'"
      ]
     },
     "execution_count": 5,
     "metadata": {},
     "output_type": "execute_result"
    }
   ],
   "source": [
    "processed_attachment[\"embeddings_collection\"]"
   ]
  },
  {
   "cell_type": "code",
   "execution_count": null,
   "id": "80c28baa802a8046",
   "metadata": {
    "ExecuteTime": {
     "end_time": "2025-04-05T17:43:24.173761512Z",
     "start_time": "2025-03-26T22:13:57.297745Z"
    }
   },
   "outputs": [],
   "source": []
  }
 ],
 "metadata": {
  "kernelspec": {
   "display_name": "Python 3",
   "language": "python",
   "name": "python3"
  },
  "language_info": {
   "codemirror_mode": {
    "name": "ipython",
    "version": 2
   },
   "file_extension": ".py",
   "mimetype": "text/x-python",
   "name": "python",
   "nbconvert_exporter": "python",
   "pygments_lexer": "ipython2",
   "version": "2.7.6"
  }
 },
 "nbformat": 4,
 "nbformat_minor": 5
}
