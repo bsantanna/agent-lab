{
 "cells": [
  {
   "cell_type": "code",
   "id": "initial_id",
   "metadata": {
    "collapsed": true,
    "ExecuteTime": {
     "end_time": "2025-03-07T15:53:42.981251Z",
     "start_time": "2025-03-07T15:53:38.936189Z"
    }
   },
   "source": [
    "%%capture\n",
    "\n",
    "import os\n",
    "os.chdir('..')\n",
    "\n",
    "from dotenv import load_dotenv\n",
    "load_dotenv()\n",
    "\n",
    "from notebooks import experiment_utils\n",
    "from app.core.container import Container\n",
    "\n",
    "# start dependency injection container\n",
    "container = Container()\n",
    "container.init_resources()\n",
    "container.wire(modules=[__name__])"
   ],
   "outputs": [],
   "execution_count": 1
  },
  {
   "metadata": {
    "ExecuteTime": {
     "end_time": "2025-03-07T15:53:43.096814Z",
     "start_time": "2025-03-07T15:53:42.986355Z"
    }
   },
   "cell_type": "code",
   "source": [
    "# create attachment\n",
    "attachment_id = experiment_utils.create_attachment(\n",
    "    file_path=\"tests/integration/sun_tzu_the_art_of_war.zip\",\n",
    "    content_type=\"application/zip\",\n",
    ")\n"
   ],
   "id": "9ae6cdcd4dbb6335",
   "outputs": [],
   "execution_count": 2
  },
  {
   "metadata": {
    "ExecuteTime": {
     "end_time": "2025-03-07T15:53:43.282063Z",
     "start_time": "2025-03-07T15:53:43.249731Z"
    }
   },
   "cell_type": "code",
   "source": [
    "# create ollama llm with integration\n",
    "llm = experiment_utils.create_llm_with_integration(\n",
    "    llm_tag=\"phi3\",\n",
    "    integration_params = {\n",
    "        \"integration_type\": \"ollama_api_v1\",\n",
    "        \"api_endpoint\": os.getenv('OLLAMA_ENDPOINT'),\n",
    "        \"api_key\": \"ollama\",\n",
    "    }\n",
    ")\n",
    "llm_id = llm['id']\n"
   ],
   "id": "207daaa779fb1628",
   "outputs": [],
   "execution_count": 3
  },
  {
   "metadata": {
    "ExecuteTime": {
     "end_time": "2025-03-07T15:53:47.370683Z",
     "start_time": "2025-03-07T15:53:43.293109Z"
    }
   },
   "cell_type": "code",
   "source": [
    "processed_attachment = experiment_utils.create_embeddings(\n",
    "    attachment_id,\n",
    "    language_model_id=llm_id,\n",
    "    collection_name='static_document_data'\n",
    ")"
   ],
   "id": "e915704d66583fcf",
   "outputs": [],
   "execution_count": 4
  },
  {
   "metadata": {
    "ExecuteTime": {
     "end_time": "2025-03-07T15:53:47.384412Z",
     "start_time": "2025-03-07T15:53:47.378902Z"
    }
   },
   "cell_type": "code",
   "source": "processed_attachment['embeddings_collection']",
   "id": "1f8c0ef72f2fef68",
   "outputs": [
    {
     "data": {
      "text/plain": [
       "'static_document_data'"
      ]
     },
     "execution_count": 5,
     "metadata": {},
     "output_type": "execute_result"
    }
   ],
   "execution_count": 5
  },
  {
   "metadata": {
    "ExecuteTime": {
     "end_time": "2025-03-07T15:53:47.550135Z",
     "start_time": "2025-03-07T15:53:47.547479Z"
    }
   },
   "cell_type": "code",
   "source": "",
   "id": "f74c9660505e38ca",
   "outputs": [],
   "execution_count": null
  }
 ],
 "metadata": {
  "kernelspec": {
   "display_name": "Python 3",
   "language": "python",
   "name": "python3"
  },
  "language_info": {
   "codemirror_mode": {
    "name": "ipython",
    "version": 2
   },
   "file_extension": ".py",
   "mimetype": "text/x-python",
   "name": "python",
   "nbconvert_exporter": "python",
   "pygments_lexer": "ipython2",
   "version": "2.7.6"
  }
 },
 "nbformat": 4,
 "nbformat_minor": 5
}
