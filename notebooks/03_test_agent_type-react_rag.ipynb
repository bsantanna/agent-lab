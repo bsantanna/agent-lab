{
 "cells": [
  {
   "cell_type": "markdown",
   "id": "64f16bc9dac3dcc0",
   "metadata": {},
   "source": [
    "### Agent-Lab: ReACT RAG Agent\n",
    "\n",
    "Objective of this notebook is evaluating and adapting the implementation of [ReAct Agent](https://langchain-ai.github.io/langgraph/how-tos/create-react-agent/) with retrieval evaluation.\n",
    "\n",
    "---"
   ]
  },
  {
   "cell_type": "code",
   "id": "initial_id",
   "metadata": {
    "ExecuteTime": {
     "end_time": "2025-08-30T17:11:23.677034Z",
     "start_time": "2025-08-30T17:11:21.554770Z"
    }
   },
   "source": [
    "%%capture\n",
    "\n",
    "import json\n",
    "import os\n",
    "\n",
    "os.chdir(\"..\")\n",
    "\n",
    "from dotenv import load_dotenv\n",
    "\n",
    "load_dotenv()\n",
    "\n",
    "from IPython.display import Markdown, display\n",
    "\n",
    "from notebooks import experiment_utils\n",
    "from app.core.container import Container\n",
    "from app.interface.api.messages.schema import MessageRequest\n",
    "\n",
    "# graph rendering\n",
    "import nest_asyncio\n",
    "\n",
    "nest_asyncio.apply()\n",
    "\n",
    "# start dependency injection container\n",
    "container = Container()\n",
    "container.init_resources()\n",
    "container.wire(modules=[__name__])\n"
   ],
   "outputs": [],
   "execution_count": 1
  },
  {
   "metadata": {},
   "cell_type": "markdown",
   "source": [
    "---\n",
    "### XAI ReACT RAG Agent"
   ],
   "id": "1dd2c8220157de3"
  },
  {
   "cell_type": "code",
   "id": "797e52d2-0565-4fee-8a08-463ec7c91b09",
   "metadata": {
    "ExecuteTime": {
     "end_time": "2025-08-30T17:11:26.177880Z",
     "start_time": "2025-08-30T17:11:23.681149Z"
    }
   },
   "source": [
    "# Create Workflow\n",
    "\n",
    "xai_agent = experiment_utils.create_xai_agent(\n",
    "    agent_type=\"adaptive_rag\", llm_tag=\"grok-code-fast\", api_key=os.getenv(\"XAI_API_KEY\")\n",
    ")\n",
    "xai_agent_config = {\n",
    "    \"configurable\": {\n",
    "        \"thread_id\": xai_agent[\"id\"],\n",
    "    },\n",
    "    \"recursion_limit\": 30,\n",
    "}\n",
    "xai_react_rag_agent = container.react_rag_agent()\n",
    "xai_workflow = xai_react_rag_agent.get_workflow(xai_agent[\"id\"],schema=\"public\")\n",
    "\n",
    "experiment_utils.print_graph(xai_workflow)"
   ],
   "outputs": [
    {
     "data": {
      "image/png": "[encoded data removed]",
      "text/plain": [
       "<IPython.core.display.Image object>"
      ]
     },
     "metadata": {},
     "output_type": "display_data"
    }
   ],
   "execution_count": 2
  },
  {
   "cell_type": "code",
   "id": "9f3a49cff851703",
   "metadata": {
    "ExecuteTime": {
     "end_time": "2025-08-30T17:11:29.554688Z",
     "start_time": "2025-08-30T17:11:26.212617Z"
    }
   },
   "source": [
    "%%capture\n",
    "\n",
    "message = MessageRequest(\n",
    "    message_role=\"human\",\n",
    "    message_content=\"What is the pinnacle of excellence?\",\n",
    "    agent_id=xai_agent[\"id\"],\n",
    ")\n",
    "\n",
    "inputs = xai_react_rag_agent.get_input_params(message, schema=\"public\")\n",
    "result = xai_workflow.invoke(inputs, xai_agent_config)\n",
    "ai_message_content, workflow_state = xai_react_rag_agent.format_response(result)"
   ],
   "outputs": [],
   "execution_count": 3
  },
  {
   "cell_type": "code",
   "id": "4056f931508d3b0",
   "metadata": {
    "ExecuteTime": {
     "end_time": "2025-08-30T17:11:29.573194Z",
     "start_time": "2025-08-30T17:11:29.569732Z"
    }
   },
   "source": [
    "display(Markdown(f\"**AI Message Content:**\\n\\n{ai_message_content}\"))"
   ],
   "outputs": [
    {
     "data": {
      "text/plain": [
       "<IPython.core.display.Markdown object>"
      ],
      "text/markdown": "**AI Message Content:**\n\nBased on the provided context from *The Art of War* by Sun Tzu, the pinnacle of excellence in warfare and leadership is achieving victory without fighting—breaking the enemy's resistance through superior strategy, secret planning, and adherence to moral law, discipline, and precise calculations (measurement, estimation, balancing chances). This involves embodying virtues like wisdom, sincerity, benevolence, courage, and strictness to ensure a flawless position where defeat is impossible and the enemy is conquered effortlessly, often unseen by the masses. It's not mere conquest, but a thunderbolt-like mastery that outwits without bloodshed."
     },
     "metadata": {},
     "output_type": "display_data"
    }
   ],
   "execution_count": 4
  },
  {
   "cell_type": "code",
   "id": "8a1b771dff7a1f24",
   "metadata": {
    "ExecuteTime": {
     "end_time": "2025-08-30T17:11:35.556207Z",
     "start_time": "2025-08-30T17:11:29.582525Z"
    }
   },
   "source": [
    "%%capture\n",
    "\n",
    "message = MessageRequest(\n",
    "    message_role=\"human\",\n",
    "    message_content=\"Kun je mijn vorige vraag en jouw antwoord herhalen in Nederlands alstublieft? Gebruik maximaal tien zinnen.\",\n",
    "    agent_id=xai_agent[\"id\"],\n",
    ")\n",
    "\n",
    "inputs = xai_react_rag_agent.get_input_params(message, schema=\"public\")\n",
    "result = xai_workflow.invoke(inputs, xai_agent_config)\n",
    "ai_message_content, workflow_state = xai_react_rag_agent.format_response(result)"
   ],
   "outputs": [],
   "execution_count": 5
  },
  {
   "cell_type": "code",
   "id": "2345b2d7bfb44d20",
   "metadata": {
    "ExecuteTime": {
     "end_time": "2025-08-30T17:11:35.575959Z",
     "start_time": "2025-08-30T17:11:35.571785Z"
    }
   },
   "source": [
    "display(Markdown(f\"**AI Message Content:**\\n\\n{ai_message_content}\"))"
   ],
   "outputs": [
    {
     "data": {
      "text/plain": [
       "<IPython.core.display.Markdown object>"
      ],
      "text/markdown": "**AI Message Content:**\n\n### Vorige vraag:\nWat is het toppunt van uitmuntendheid?\n\n### Mijn vorige antwoord:\nGebaseerd op de verstrekte context uit *De Kunst van het Oorlogvoeren* van Sun Tzu, is het toppunt van uitmuntendheid in oorlogvoering en leiderschap het bereiken van overwinning zonder te vechten. Dit gebeurt door de weerstand van de vijand te breken via superieure strategie, geheime planning, en naleving van de morele wet, discipline, en nauwkeurige berekeningen zoals meting, schatting en balanceren van kansen. Het omvat het belichamen van deugden zoals wijsheid, oprechtheid, welwillendheid, moed en strengheid. Dit verzekert een foutloze positie waarin nederlaag onmogelijk is en de vijand moeiteloos wordt overwonnen. Vaak blijft deze overwinning ongezien door de massa's. Het gaat niet om louter verovering, maar om een bliksemachtige beheersing die zonder bloedvergieten overtroeft. Dit benadrukt dat ware uitmuntendheid ligt in slimheid en morele kracht, niet in brute kracht."
     },
     "metadata": {},
     "output_type": "display_data"
    }
   ],
   "execution_count": 6
  },
  {
   "metadata": {},
   "cell_type": "markdown",
   "source": [
    "---\n",
    "### Anthropic ReACT RAG Agent"
   ],
   "id": "9584994be5057cb0"
  },
  {
   "cell_type": "code",
   "id": "49439622-0dcb-4ad6-8d7b-7991c7010356",
   "metadata": {
    "ExecuteTime": {
     "end_time": "2025-08-30T17:13:57.817350Z",
     "start_time": "2025-08-30T17:13:57.697245Z"
    }
   },
   "source": [
    "# Create Workflow\n",
    "\n",
    "anthropic_agent = experiment_utils.create_anthropic_agent(\n",
    "    agent_type=\"adaptive_rag\", llm_tag=\"claude-sonnet-4-20250514\", api_key=os.getenv(\"ANTHROPIC_API_KEY\")\n",
    ")\n",
    "anthropic_agent_config = {\n",
    "    \"configurable\": {\n",
    "        \"thread_id\": anthropic_agent[\"id\"],\n",
    "    },\n",
    "    \"recursion_limit\": 30,\n",
    "}\n",
    "anthropic_react_rag_agent = container.react_rag_agent()\n",
    "anthropic_workflow = anthropic_react_rag_agent.get_workflow(anthropic_agent[\"id\"],schema=\"public\")"
   ],
   "outputs": [],
   "execution_count": 7
  },
  {
   "metadata": {
    "ExecuteTime": {
     "end_time": "2025-08-30T17:14:26.829174Z",
     "start_time": "2025-08-30T17:14:22.285644Z"
    }
   },
   "cell_type": "code",
   "source": [
    "%%capture\n",
    "\n",
    "message = MessageRequest(\n",
    "    message_role=\"human\",\n",
    "    message_content=\"What is the pinnacle of excellence?\",\n",
    "    agent_id=anthropic_agent[\"id\"],\n",
    ")\n",
    "\n",
    "inputs = anthropic_react_rag_agent.get_input_params(message, schema=\"public\")\n",
    "result = anthropic_workflow.invoke(inputs, anthropic_agent_config)\n",
    "ai_message_content, workflow_state = anthropic_react_rag_agent.format_response(result)"
   ],
   "id": "d95e6641414f5e54",
   "outputs": [],
   "execution_count": 8
  },
  {
   "metadata": {
    "ExecuteTime": {
     "end_time": "2025-08-30T17:14:37.979793Z",
     "start_time": "2025-08-30T17:14:37.976303Z"
    }
   },
   "cell_type": "code",
   "source": "display(Markdown(f\"**AI Message Content:**\\n\\n{ai_message_content}\"))",
   "id": "82acbe98b7a250e5",
   "outputs": [
    {
     "data": {
      "text/plain": [
       "<IPython.core.display.Markdown object>"
      ],
      "text/markdown": "**AI Message Content:**\n\nBased on the context provided, the pinnacle of excellence is **achieving victory without fighting**. \n\nAccording to this ancient strategic wisdom, supreme excellence consists in \"breaking the enemy's resistance without fighting\" rather than winning through battle. The highest form of skill involves:\n\n- Planning secretly and moving strategically\n- Disrupting the enemy's plans and schemes\n- Winning \"without shedding a drop of blood\"\n- Making defeat impossible through careful positioning and preparation\n\nTrue excellence is described as accomplishing what \"the world's coarse thumb and finger fail to plumb\" - achieving results that go beyond what ordinary observers can appreciate or understand. It's about complete victory through superior strategy, wisdom, and preparation rather than through direct confrontation."
     },
     "metadata": {},
     "output_type": "display_data"
    }
   ],
   "execution_count": 9
  },
  {
   "metadata": {
    "ExecuteTime": {
     "end_time": "2025-08-30T17:15:29.456964Z",
     "start_time": "2025-08-30T17:15:22.241377Z"
    }
   },
   "cell_type": "code",
   "source": [
    "%%capture\n",
    "\n",
    "message = MessageRequest(\n",
    "    message_role=\"human\",\n",
    "    message_content=\"Kun je mijn vorige vraag en jouw antwoord herhalen in Nederlands alstublieft? Gebruik maximaal tien zinnen.\",\n",
    "    agent_id=anthropic_agent[\"id\"],\n",
    ")\n",
    "\n",
    "inputs = anthropic_react_rag_agent.get_input_params(message, schema=\"public\")\n",
    "result = anthropic_workflow.invoke(inputs, anthropic_agent_config)\n",
    "ai_message_content, workflow_state = anthropic_react_rag_agent.format_response(result)"
   ],
   "id": "a5257ff6348cd88b",
   "outputs": [],
   "execution_count": 10
  },
  {
   "metadata": {
    "ExecuteTime": {
     "end_time": "2025-08-30T17:15:30.336985Z",
     "start_time": "2025-08-30T17:15:30.334674Z"
    }
   },
   "cell_type": "code",
   "source": "display(Markdown(f\"**AI Message Content:**\\n\\n{ai_message_content}\"))",
   "id": "21e4735e82c720fa",
   "outputs": [
    {
     "data": {
      "text/plain": [
       "<IPython.core.display.Markdown object>"
      ],
      "text/markdown": "**AI Message Content:**\n\n**Mijn vorige vraag:** \"What is the pinnacle of excellence?\"\n\n**Mijn antwoord in het Nederlands:**\n\nHet hoogtepunt van excellentie is **overwinning behalen zonder te vechten**. Volgens deze oude strategische wijsheid bestaat opperste excellentie uit \"de weerstand van de vijand breken zonder te vechten\" in plaats van winnen door gevecht. De hoogste vorm van vaardigheid omvat geheim plannen en strategisch bewegen. Het gaat om het verstoren van vijandelijke plannen en schema's. Winnen \"zonder een druppel bloed te vergieten\" is het doel. Ware excellentie betekent het bereiken van wat gewone waarnemers niet kunnen begrijpen of waarderen. Het draait om complete overwinning door superieure strategie, wijsheid en voorbereiding. Dit is belangrijker dan directe confrontatie. Nederlaag onmogelijk maken door zorgvuldige positionering en voorbereiding is essentieel."
     },
     "metadata": {},
     "output_type": "display_data"
    }
   ],
   "execution_count": 11
  },
  {
   "metadata": {},
   "cell_type": "markdown",
   "source": [
    "---\n",
    "### Ollama ReACT RAG Agent"
   ],
   "id": "9b39edce922b83c4"
  },
  {
   "metadata": {
    "ExecuteTime": {
     "end_time": "2025-08-30T17:19:16.432487Z",
     "start_time": "2025-08-30T17:19:16.265739Z"
    }
   },
   "cell_type": "code",
   "source": [
    "# Create Workflow\n",
    "\n",
    "ollama_agent = experiment_utils.create_ollama_agent(\n",
    "    agent_type=\"adaptive_rag\", llm_tag=\"gpt-oss:latest\",\n",
    "    ollama_endpoint=os.getenv(\"OLLAMA_ENDPOINT\"),\n",
    ")\n",
    "ollama_agent_config = {\n",
    "    \"configurable\": {\n",
    "        \"thread_id\": ollama_agent[\"id\"],\n",
    "    },\n",
    "    \"recursion_limit\": 30,\n",
    "}\n",
    "ollama_react_rag_agent = container.react_rag_agent()\n",
    "ollama_workflow = ollama_react_rag_agent.get_workflow(ollama_agent[\"id\"],schema=\"public\")"
   ],
   "id": "9933d12b5bffa7e0",
   "outputs": [],
   "execution_count": 14
  },
  {
   "metadata": {
    "ExecuteTime": {
     "end_time": "2025-08-30T17:19:48.153498Z",
     "start_time": "2025-08-30T17:19:16.981800Z"
    }
   },
   "cell_type": "code",
   "source": [
    "%%capture\n",
    "\n",
    "message = MessageRequest(\n",
    "    message_role=\"human\",\n",
    "    message_content=\"What is the pinnacle of excellence?\",\n",
    "    agent_id=ollama_agent[\"id\"],\n",
    ")\n",
    "\n",
    "inputs = ollama_react_rag_agent.get_input_params(message, schema=\"public\")\n",
    "result = ollama_workflow.invoke(inputs, ollama_agent_config)\n",
    "ai_message_content, workflow_state = ollama_react_rag_agent.format_response(result)"
   ],
   "id": "4fb83bacae56afea",
   "outputs": [],
   "execution_count": 15
  },
  {
   "metadata": {
    "ExecuteTime": {
     "end_time": "2025-08-30T17:19:52.030849Z",
     "start_time": "2025-08-30T17:19:52.024926Z"
    }
   },
   "cell_type": "code",
   "source": "display(Markdown(f\"**AI Message Content:**\\n\\n{ai_message_content}\"))",
   "id": "b8deeaab02e2883f",
   "outputs": [
    {
     "data": {
      "text/plain": [
       "<IPython.core.display.Markdown object>"
      ],
      "text/markdown": "**AI Message Content:**\n\nThe pinnacle of excellence is to win without fighting – to break the enemy’s resistance by out‑maneuvering and out‑planning them, so that victory comes without bloodshed."
     },
     "metadata": {},
     "output_type": "display_data"
    }
   ],
   "execution_count": 16
  },
  {
   "metadata": {
    "ExecuteTime": {
     "end_time": "2025-08-30T17:20:37.735191Z",
     "start_time": "2025-08-30T17:20:19.782266Z"
    }
   },
   "cell_type": "code",
   "source": [
    "%%capture\n",
    "\n",
    "message = MessageRequest(\n",
    "    message_role=\"human\",\n",
    "    message_content=\"Kun je mijn vorige vraag en jouw antwoord herhalen in Nederlands alstublieft? Gebruik maximaal tien zinnen.\",\n",
    "    agent_id=ollama_agent[\"id\"],\n",
    ")\n",
    "\n",
    "inputs = ollama_react_rag_agent.get_input_params(message, schema=\"public\")\n",
    "result = ollama_workflow.invoke(inputs, ollama_agent_config)\n",
    "ai_message_content, workflow_state = ollama_react_rag_agent.format_response(result)"
   ],
   "id": "d52e019d7f8aaa6d",
   "outputs": [],
   "execution_count": 17
  },
  {
   "metadata": {
    "ExecuteTime": {
     "end_time": "2025-08-30T17:20:37.759136Z",
     "start_time": "2025-08-30T17:20:37.754866Z"
    }
   },
   "cell_type": "code",
   "source": "display(Markdown(f\"**AI Message Content:**\\n\\n{ai_message_content}\"))",
   "id": "575f116348c78482",
   "outputs": [
    {
     "data": {
      "text/plain": [
       "<IPython.core.display.Markdown object>"
      ],
      "text/markdown": "**AI Message Content:**\n\n**Vraag:** Wat is het toppunt van uitmuntendheid?  \n\n**Antwoord:** Het toppunt van uitmuntendheid is om te winnen zonder te vechten – door de vijandelijke weerstand te breken via slimme manoeuvres en planning, zodat de overwinning zonder bloedvergieten komt."
     },
     "metadata": {},
     "output_type": "display_data"
    }
   ],
   "execution_count": 18
  },
  {
   "metadata": {},
   "cell_type": "markdown",
   "source": [
    "---\n",
    "### OpenAI ReACT RAG Agent"
   ],
   "id": "16b516e07963b8fb"
  },
  {
   "metadata": {
    "ExecuteTime": {
     "end_time": "2025-08-30T18:41:37.611278Z",
     "start_time": "2025-08-30T18:41:37.360109Z"
    }
   },
   "cell_type": "code",
   "source": [
    "# Create Workflow\n",
    "\n",
    "openai_agent = experiment_utils.create_openai_agent(\n",
    "    agent_type=\"adaptive_rag\", llm_tag=\"gpt-5-nano\", api_key=os.getenv(\"OPENAI_API_KEY\")\n",
    ")\n",
    "openai_agent_config = {\n",
    "    \"configurable\": {\n",
    "        \"thread_id\": openai_agent[\"id\"],\n",
    "    },\n",
    "    \"recursion_limit\": 30,\n",
    "}\n",
    "openai_react_rag_agent = container.react_rag_agent()\n",
    "openai_workflow = openai_react_rag_agent.get_workflow(openai_agent[\"id\"],schema=\"public\")"
   ],
   "id": "c6708acc32708bde",
   "outputs": [],
   "execution_count": 19
  },
  {
   "metadata": {
    "ExecuteTime": {
     "end_time": "2025-08-30T18:42:14.803213Z",
     "start_time": "2025-08-30T18:42:10.488492Z"
    }
   },
   "cell_type": "code",
   "source": [
    "%%capture\n",
    "\n",
    "message = MessageRequest(\n",
    "    message_role=\"human\",\n",
    "    message_content=\"What is the pinnacle of excellence?\",\n",
    "    agent_id=openai_agent[\"id\"],\n",
    ")\n",
    "\n",
    "inputs = openai_react_rag_agent.get_input_params(message, schema=\"public\")\n",
    "result = openai_workflow.invoke(inputs, openai_agent_config)\n",
    "ai_message_content, workflow_state = openai_react_rag_agent.format_response(result)"
   ],
   "id": "e940604c92a9d8e8",
   "outputs": [],
   "execution_count": 20
  },
  {
   "metadata": {
    "ExecuteTime": {
     "end_time": "2025-08-30T18:42:19.083338Z",
     "start_time": "2025-08-30T18:42:19.080561Z"
    }
   },
   "cell_type": "code",
   "source": "display(Markdown(f\"**AI Message Content:**\\n\\n{ai_message_content}\"))",
   "id": "fcd8feb6ff1bc3e2",
   "outputs": [
    {
     "data": {
      "text/plain": [
       "<IPython.core.display.Markdown object>"
      ],
      "text/markdown": "**AI Message Content:**\n\nSupreme excellence is breaking the enemy’s resistance without fighting (i.e., winning without bloodshed)."
     },
     "metadata": {},
     "output_type": "display_data"
    }
   ],
   "execution_count": 21
  },
  {
   "metadata": {
    "ExecuteTime": {
     "end_time": "2025-08-30T18:43:01.433935Z",
     "start_time": "2025-08-30T18:42:56.401284Z"
    }
   },
   "cell_type": "code",
   "source": [
    "%%capture\n",
    "\n",
    "message = MessageRequest(\n",
    "    message_role=\"human\",\n",
    "    message_content=\"Kun je mijn vorige vraag en jouw antwoord herhalen in Nederlands alstublieft? Gebruik maximaal tien zinnen.\",\n",
    "    agent_id=openai_agent[\"id\"],\n",
    ")\n",
    "\n",
    "inputs = openai_react_rag_agent.get_input_params(message, schema=\"public\")\n",
    "result = openai_workflow.invoke(inputs, openai_agent_config)\n",
    "ai_message_content, workflow_state = openai_react_rag_agent.format_response(result)"
   ],
   "id": "abce7abc2a1bb4ce",
   "outputs": [],
   "execution_count": 22
  },
  {
   "metadata": {
    "ExecuteTime": {
     "end_time": "2025-08-30T18:43:03.284346Z",
     "start_time": "2025-08-30T18:43:03.281145Z"
    }
   },
   "cell_type": "code",
   "source": "display(Markdown(f\"**AI Message Content:**\\n\\n{ai_message_content}\"))",
   "id": "12bc66970609acf6",
   "outputs": [
    {
     "data": {
      "text/plain": [
       "<IPython.core.display.Markdown object>"
      ],
      "text/markdown": "**AI Message Content:**\n\nVraag: Wat is het toppunt van uitmuntendheid?\nAntwoord: Het toppunt van uitmuntendheid is het breken van de weerstand van de vijand zonder te vechten (oftewel winnen zonder bloedvergieten)."
     },
     "metadata": {},
     "output_type": "display_data"
    }
   ],
   "execution_count": 23
  },
  {
   "metadata": {},
   "cell_type": "code",
   "outputs": [],
   "execution_count": null,
   "source": "",
   "id": "48578e25f2c9556c"
  }
 ],
 "metadata": {
  "kernelspec": {
   "display_name": "Python 3 (ipykernel)",
   "language": "python",
   "name": "python3"
  },
  "language_info": {
   "codemirror_mode": {
    "name": "ipython",
    "version": 3
   },
   "file_extension": ".py",
   "mimetype": "text/x-python",
   "name": "python",
   "nbconvert_exporter": "python",
   "pygments_lexer": "ipython3",
   "version": "3.11.11"
  }
 },
 "nbformat": 4,
 "nbformat_minor": 5
}
