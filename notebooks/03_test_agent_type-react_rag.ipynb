{
 "cells": [
  {
   "cell_type": "markdown",
   "id": "64f16bc9dac3dcc0",
   "metadata": {},
   "source": [
    "### Agent-Lab: ReACT RAG Agent\n",
    "\n",
    "Objective of this notebook is evaluating and adapting the implementation of [ReAct Agent](https://langchain-ai.github.io/langgraph/how-tos/create-react-agent/) with retrieval evaluation.\n",
    "\n",
    "---"
   ]
  },
  {
   "cell_type": "code",
   "id": "initial_id",
   "metadata": {
    "ExecuteTime": {
     "end_time": "2025-08-31T07:55:36.175541Z",
     "start_time": "2025-08-31T07:55:33.826955Z"
    }
   },
   "source": [
    "%%capture\n",
    "\n",
    "import json\n",
    "import os\n",
    "\n",
    "os.chdir(\"..\")\n",
    "\n",
    "from dotenv import load_dotenv\n",
    "\n",
    "load_dotenv()\n",
    "\n",
    "from IPython.display import Markdown, display\n",
    "\n",
    "from notebooks import experiment_utils\n",
    "from app.core.container import Container\n",
    "from app.interface.api.messages.schema import MessageRequest\n",
    "\n",
    "# graph rendering\n",
    "import nest_asyncio\n",
    "\n",
    "nest_asyncio.apply()\n",
    "\n",
    "# start dependency injection container\n",
    "container = Container()\n",
    "container.init_resources()\n",
    "container.wire(modules=[__name__])\n"
   ],
   "outputs": [],
   "execution_count": 1
  },
  {
   "metadata": {},
   "cell_type": "markdown",
   "source": [
    "---\n",
    "### XAI ReACT RAG Agent"
   ],
   "id": "1dd2c8220157de3"
  },
  {
   "cell_type": "code",
   "id": "797e52d2-0565-4fee-8a08-463ec7c91b09",
   "metadata": {
    "ExecuteTime": {
     "end_time": "2025-08-31T07:55:59.453064Z",
     "start_time": "2025-08-31T07:55:36.179657Z"
    }
   },
   "source": [
    "# Create Workflow\n",
    "\n",
    "xai_agent = experiment_utils.create_xai_agent(\n",
    "    agent_type=\"react_rag\", llm_tag=\"grok-code-fast\", api_key=os.getenv(\"XAI_API_KEY\")\n",
    ")\n",
    "xai_agent_config = {\n",
    "    \"configurable\": {\n",
    "        \"thread_id\": xai_agent[\"id\"],\n",
    "    },\n",
    "    \"recursion_limit\": 30,\n",
    "}\n",
    "xai_react_rag_agent = container.react_rag_agent()\n",
    "xai_workflow = xai_react_rag_agent.get_workflow(xai_agent[\"id\"],schema=\"public\")\n",
    "\n",
    "experiment_utils.print_graph(xai_workflow)"
   ],
   "outputs": [
    {
     "data": {
      "image/png": "[encoded data removed]",
      "text/plain": [
       "<IPython.core.display.Image object>"
      ]
     },
     "metadata": {},
     "output_type": "display_data"
    }
   ],
   "execution_count": 2
  },
  {
   "cell_type": "code",
   "id": "9f3a49cff851703",
   "metadata": {
    "jupyter": {
     "is_executing": true
    },
    "ExecuteTime": {
     "start_time": "2025-08-31T07:55:59.496710Z"
    }
   },
   "source": [
    "%%capture\n",
    "\n",
    "message = MessageRequest(\n",
    "    message_role=\"human\",\n",
    "    message_content=\"What is the pinnacle of excellence?\",\n",
    "    agent_id=xai_agent[\"id\"],\n",
    ")\n",
    "\n",
    "inputs = xai_react_rag_agent.get_input_params(message, schema=\"public\")\n",
    "result = xai_workflow.invoke(inputs, xai_agent_config)\n",
    "ai_message_content, workflow_state = xai_react_rag_agent.format_response(result)"
   ],
   "outputs": [],
   "execution_count": null
  },
  {
   "cell_type": "code",
   "id": "4056f931508d3b0",
   "metadata": {},
   "source": [
    "display(Markdown(f\"**AI Message Content:**\\n\\n{ai_message_content}\"))"
   ],
   "outputs": [],
   "execution_count": null
  },
  {
   "cell_type": "code",
   "id": "8a1b771dff7a1f24",
   "metadata": {},
   "source": [
    "%%capture\n",
    "\n",
    "message = MessageRequest(\n",
    "    message_role=\"human\",\n",
    "    message_content=\"Kun je mijn vorige vraag en jouw antwoord herhalen in Nederlands alstublieft? Gebruik maximaal tien zinnen.\",\n",
    "    agent_id=xai_agent[\"id\"],\n",
    ")\n",
    "\n",
    "inputs = xai_react_rag_agent.get_input_params(message, schema=\"public\")\n",
    "result = xai_workflow.invoke(inputs, xai_agent_config)\n",
    "ai_message_content, workflow_state = xai_react_rag_agent.format_response(result)"
   ],
   "outputs": [],
   "execution_count": null
  },
  {
   "cell_type": "code",
   "id": "2345b2d7bfb44d20",
   "metadata": {},
   "source": [
    "display(Markdown(f\"**AI Message Content:**\\n\\n{ai_message_content}\"))"
   ],
   "outputs": [],
   "execution_count": null
  },
  {
   "metadata": {},
   "cell_type": "markdown",
   "source": [
    "---\n",
    "### Anthropic ReACT RAG Agent"
   ],
   "id": "9584994be5057cb0"
  },
  {
   "cell_type": "code",
   "id": "49439622-0dcb-4ad6-8d7b-7991c7010356",
   "metadata": {},
   "source": [
    "# Create Workflow\n",
    "\n",
    "anthropic_agent = experiment_utils.create_anthropic_agent(\n",
    "    agent_type=\"react_rag\", llm_tag=\"claude-sonnet-4-20250514\", api_key=os.getenv(\"ANTHROPIC_API_KEY\")\n",
    ")\n",
    "anthropic_agent_config = {\n",
    "    \"configurable\": {\n",
    "        \"thread_id\": anthropic_agent[\"id\"],\n",
    "    },\n",
    "    \"recursion_limit\": 30,\n",
    "}\n",
    "anthropic_react_rag_agent = container.react_rag_agent()\n",
    "anthropic_workflow = anthropic_react_rag_agent.get_workflow(anthropic_agent[\"id\"],schema=\"public\")"
   ],
   "outputs": [],
   "execution_count": null
  },
  {
   "metadata": {},
   "cell_type": "code",
   "source": [
    "%%capture\n",
    "\n",
    "message = MessageRequest(\n",
    "    message_role=\"human\",\n",
    "    message_content=\"What is the pinnacle of excellence?\",\n",
    "    agent_id=anthropic_agent[\"id\"],\n",
    ")\n",
    "\n",
    "inputs = anthropic_react_rag_agent.get_input_params(message, schema=\"public\")\n",
    "result = anthropic_workflow.invoke(inputs, anthropic_agent_config)\n",
    "ai_message_content, workflow_state = anthropic_react_rag_agent.format_response(result)"
   ],
   "id": "d95e6641414f5e54",
   "outputs": [],
   "execution_count": null
  },
  {
   "metadata": {},
   "cell_type": "code",
   "source": "display(Markdown(f\"**AI Message Content:**\\n\\n{ai_message_content}\"))",
   "id": "82acbe98b7a250e5",
   "outputs": [],
   "execution_count": null
  },
  {
   "metadata": {},
   "cell_type": "code",
   "source": [
    "%%capture\n",
    "\n",
    "message = MessageRequest(\n",
    "    message_role=\"human\",\n",
    "    message_content=\"Kun je mijn vorige vraag en jouw antwoord herhalen in Nederlands alstublieft? Gebruik maximaal tien zinnen.\",\n",
    "    agent_id=anthropic_agent[\"id\"],\n",
    ")\n",
    "\n",
    "inputs = anthropic_react_rag_agent.get_input_params(message, schema=\"public\")\n",
    "result = anthropic_workflow.invoke(inputs, anthropic_agent_config)\n",
    "ai_message_content, workflow_state = anthropic_react_rag_agent.format_response(result)"
   ],
   "id": "a5257ff6348cd88b",
   "outputs": [],
   "execution_count": 10
  },
  {
   "metadata": {
    "ExecuteTime": {
     "end_time": "2025-08-31T07:56:42.974065Z",
     "start_time": "2025-08-31T07:56:42.971156Z"
    }
   },
   "cell_type": "code",
   "source": "display(Markdown(f\"**AI Message Content:**\\n\\n{ai_message_content}\"))",
   "id": "21e4735e82c720fa",
   "outputs": [
    {
     "data": {
      "text/plain": [
       "<IPython.core.display.Markdown object>"
      ],
      "text/markdown": "**AI Message Content:**\n\n<thinking>\nThe user is asking me to repeat my previous question and answer in Dutch, using a maximum of ten sentences. Let me first identify what the previous question and answer were:\n\nPrevious question: \"What is the pinnacle of excellence?\"\nMy previous answer was about the pinnacle of excellence involving strategic wisdom over brute force, prevention over correction, invisible mastery, preparation and positioning, and moral foundation.\n\nNow I need to translate both the question and a condensed version of my answer into Dutch, keeping it to maximum 10 sentences.\n\nThe question in Dutch would be: \"Wat is het toppunt van excellentie?\"\n\nFor the answer, I need to summarize the key points in Dutch within the sentence limit.\n</thinking>\n\n<response>\n**Jouw vorige vraag:** \"Wat is het toppunt van excellentie?\"\n\n**Mijn antwoord:** Het toppunt van excellentie ligt niet in het behalen van overwinning door geweld, maar in het bereiken van doelen met zoveel vaardigheid dat succes moeiteloos lijkt. Ware excellentie kenmerkt zich door strategische wijsheid boven brute kracht - problemen oplossen door intelligentie en planning in plaats van directe confrontatie. Het betekent problemen voorkomen voordat ze ontstaan en moeilijke taken er gemakkelijk uit laten zien. Excellentie vereist zorgvuldige voorbereiding, het begrijpen van alle variabelen, en jezelf voordelig positioneren. Het combineert vaardigheid met integriteit en kracht met moreel karakter. In essentie is het toppunt van excellentie het bereiken van je hoogste potentieel door wijsheid, voorbereiding en strategisch denken, terwijl succes natuurlijk en moeiteloos overkomt op anderen.\n</response>"
     },
     "metadata": {},
     "output_type": "display_data"
    }
   ],
   "execution_count": 11
  },
  {
   "metadata": {},
   "cell_type": "markdown",
   "source": [
    "---\n",
    "### Ollama ReACT RAG Agent"
   ],
   "id": "9b39edce922b83c4"
  },
  {
   "metadata": {
    "ExecuteTime": {
     "end_time": "2025-08-31T07:56:43.091863Z",
     "start_time": "2025-08-31T07:56:42.985629Z"
    }
   },
   "cell_type": "code",
   "source": [
    "# Create Workflow\n",
    "\n",
    "ollama_agent = experiment_utils.create_ollama_agent(\n",
    "    agent_type=\"react_rag\", llm_tag=\"gpt-oss:latest\",\n",
    "    ollama_endpoint=os.getenv(\"OLLAMA_ENDPOINT\"),\n",
    ")\n",
    "ollama_agent_config = {\n",
    "    \"configurable\": {\n",
    "        \"thread_id\": ollama_agent[\"id\"],\n",
    "    },\n",
    "    \"recursion_limit\": 30,\n",
    "}\n",
    "ollama_react_rag_agent = container.react_rag_agent()\n",
    "ollama_workflow = ollama_react_rag_agent.get_workflow(ollama_agent[\"id\"],schema=\"public\")"
   ],
   "id": "9933d12b5bffa7e0",
   "outputs": [],
   "execution_count": 12
  },
  {
   "metadata": {
    "ExecuteTime": {
     "end_time": "2025-08-31T07:57:23.275215Z",
     "start_time": "2025-08-31T07:56:43.095965Z"
    }
   },
   "cell_type": "code",
   "source": [
    "%%capture\n",
    "\n",
    "message = MessageRequest(\n",
    "    message_role=\"human\",\n",
    "    message_content=\"What is the pinnacle of excellence?\",\n",
    "    agent_id=ollama_agent[\"id\"],\n",
    ")\n",
    "\n",
    "inputs = ollama_react_rag_agent.get_input_params(message, schema=\"public\")\n",
    "result = ollama_workflow.invoke(inputs, ollama_agent_config)\n",
    "ai_message_content, workflow_state = ollama_react_rag_agent.format_response(result)"
   ],
   "id": "4fb83bacae56afea",
   "outputs": [],
   "execution_count": 13
  },
  {
   "metadata": {
    "ExecuteTime": {
     "end_time": "2025-08-31T07:57:23.300539Z",
     "start_time": "2025-08-31T07:57:23.296287Z"
    }
   },
   "cell_type": "code",
   "source": "display(Markdown(f\"**AI Message Content:**\\n\\n{ai_message_content}\"))",
   "id": "b8deeaab02e2883f",
   "outputs": [
    {
     "data": {
      "text/plain": [
       "<IPython.core.display.Markdown object>"
      ],
      "text/markdown": "**AI Message Content:**\n\n<thinking<|message|>User asks a philosophical question “What is the pinnacle of excellence?” The provided context emphasizes that true excellence in warfare is achieved by outmaneuvering an opponent, preventing conflict, and winning without bloodshed. It highlights strategic planning, secrecy, moral virtue, and disciplined execution. The answer should synthesize these ideas into a concise, self-contained explanation of the pinnacle of excellence, without referencing the supplied context.The pinnacle of excellence is the ability to achieve one's goals by outmaneuvering obstacles, rather than confronting them head‑on. It is the mastery of strategy—planning with secrecy, anticipating the opponent’s moves, and seizing opportunities at the right moment—so that victory is secured before violence even begins. In this highest form of success, wisdom, moral integrity, and disciplined execution combine to create an outcome that is decisive, efficient, and, ideally, without loss or needless suffering."
     },
     "metadata": {},
     "output_type": "display_data"
    }
   ],
   "execution_count": 14
  },
  {
   "metadata": {
    "ExecuteTime": {
     "end_time": "2025-08-31T07:57:46.317934Z",
     "start_time": "2025-08-31T07:57:23.327019Z"
    }
   },
   "cell_type": "code",
   "source": [
    "%%capture\n",
    "\n",
    "message = MessageRequest(\n",
    "    message_role=\"human\",\n",
    "    message_content=\"Kun je mijn vorige vraag en jouw antwoord herhalen in Nederlands alstublieft? Gebruik maximaal tien zinnen.\",\n",
    "    agent_id=ollama_agent[\"id\"],\n",
    ")\n",
    "\n",
    "inputs = ollama_react_rag_agent.get_input_params(message, schema=\"public\")\n",
    "result = ollama_workflow.invoke(inputs, ollama_agent_config)\n",
    "ai_message_content, workflow_state = ollama_react_rag_agent.format_response(result)"
   ],
   "id": "d52e019d7f8aaa6d",
   "outputs": [],
   "execution_count": 15
  },
  {
   "metadata": {
    "ExecuteTime": {
     "end_time": "2025-08-31T07:57:46.414879Z",
     "start_time": "2025-08-31T07:57:46.400582Z"
    }
   },
   "cell_type": "code",
   "source": "display(Markdown(f\"**AI Message Content:**\\n\\n{ai_message_content}\"))",
   "id": "575f116348c78482",
   "outputs": [
    {
     "data": {
      "text/plain": [
       "<IPython.core.display.Markdown object>"
      ],
      "text/markdown": "**AI Message Content:**\n\n<thinking<|message|>Need 5-6 sentences max.Wat is het hoogste niveau van uitmuntendheid?  \nHet hoogste niveau van uitmuntendheid is het vermogen om je doelen te bereiken door obstakels te ontwijken in plaats van ze direct aan te pakken.  \nDit vereist meesterlijke strategie: geheime planning, het voorspellen van tegenstanders en het benutten van kansen op het juiste moment, zodat de overwinning wordt behaald voordat er een conflict ontstaat.  \nIn deze ultieme vorm van succes combineren wijsheid, morele integriteit en gedisciplineerde uitvoering een resultaat dat beslissend, efficiënt en, ideaal, zonder onnodige schade is."
     },
     "metadata": {},
     "output_type": "display_data"
    }
   ],
   "execution_count": 16
  },
  {
   "metadata": {},
   "cell_type": "markdown",
   "source": [
    "---\n",
    "### OpenAI ReACT RAG Agent"
   ],
   "id": "16b516e07963b8fb"
  },
  {
   "metadata": {
    "ExecuteTime": {
     "end_time": "2025-08-31T07:57:47.047214Z",
     "start_time": "2025-08-31T07:57:46.445090Z"
    }
   },
   "cell_type": "code",
   "source": [
    "# Create Workflow\n",
    "\n",
    "openai_agent = experiment_utils.create_openai_agent(\n",
    "    agent_type=\"react_rag\", llm_tag=\"gpt-5-nano\", api_key=os.getenv(\"OPENAI_API_KEY\")\n",
    ")\n",
    "openai_agent_config = {\n",
    "    \"configurable\": {\n",
    "        \"thread_id\": openai_agent[\"id\"],\n",
    "    },\n",
    "    \"recursion_limit\": 30,\n",
    "}\n",
    "openai_react_rag_agent = container.react_rag_agent()\n",
    "openai_workflow = openai_react_rag_agent.get_workflow(openai_agent[\"id\"],schema=\"public\")"
   ],
   "id": "c6708acc32708bde",
   "outputs": [],
   "execution_count": 17
  },
  {
   "metadata": {
    "ExecuteTime": {
     "end_time": "2025-08-31T07:57:56.101781Z",
     "start_time": "2025-08-31T07:57:47.053673Z"
    }
   },
   "cell_type": "code",
   "source": [
    "%%capture\n",
    "\n",
    "message = MessageRequest(\n",
    "    message_role=\"human\",\n",
    "    message_content=\"What is the pinnacle of excellence?\",\n",
    "    agent_id=openai_agent[\"id\"],\n",
    ")\n",
    "\n",
    "inputs = openai_react_rag_agent.get_input_params(message, schema=\"public\")\n",
    "result = openai_workflow.invoke(inputs, openai_agent_config)\n",
    "ai_message_content, workflow_state = openai_react_rag_agent.format_response(result)"
   ],
   "id": "e940604c92a9d8e8",
   "outputs": [],
   "execution_count": 18
  },
  {
   "metadata": {
    "ExecuteTime": {
     "end_time": "2025-08-31T07:57:56.120457Z",
     "start_time": "2025-08-31T07:57:56.117819Z"
    }
   },
   "cell_type": "code",
   "source": "display(Markdown(f\"**AI Message Content:**\\n\\n{ai_message_content}\"))",
   "id": "fcd8feb6ff1bc3e2",
   "outputs": [
    {
     "data": {
      "text/plain": [
       "<IPython.core.display.Markdown object>"
      ],
      "text/markdown": "**AI Message Content:**\n\n<thinking>I’m not able to share my internal chain-of-thought, but here’s a concise answer that captures the core idea.</thinking>\n<response>The pinnacle of excellence is to win without fighting. It means breaking the enemy’s resistance and achieving your goals through superior strategy, timing, and preparation, so that conflict is unnecessary or minimized. In other words, the highest form of mastery is to thwart the opponent’s plans and create conditions where defeat becomes impossible, often without shedding blood. This principle also translates to modern contexts like diplomacy, strategy, and leadership: aim to succeed with minimal confrontation by outmaneuvering the opposition. </response>"
     },
     "metadata": {},
     "output_type": "display_data"
    }
   ],
   "execution_count": 19
  },
  {
   "metadata": {
    "ExecuteTime": {
     "end_time": "2025-08-31T07:58:06.323728Z",
     "start_time": "2025-08-31T07:57:56.130550Z"
    }
   },
   "cell_type": "code",
   "source": [
    "%%capture\n",
    "\n",
    "message = MessageRequest(\n",
    "    message_role=\"human\",\n",
    "    message_content=\"Kun je mijn vorige vraag en jouw antwoord herhalen in Nederlands alstublieft? Gebruik maximaal tien zinnen.\",\n",
    "    agent_id=openai_agent[\"id\"],\n",
    ")\n",
    "\n",
    "inputs = openai_react_rag_agent.get_input_params(message, schema=\"public\")\n",
    "result = openai_workflow.invoke(inputs, openai_agent_config)\n",
    "ai_message_content, workflow_state = openai_react_rag_agent.format_response(result)"
   ],
   "id": "abce7abc2a1bb4ce",
   "outputs": [],
   "execution_count": 20
  },
  {
   "metadata": {
    "ExecuteTime": {
     "end_time": "2025-08-31T07:58:06.366150Z",
     "start_time": "2025-08-31T07:58:06.363681Z"
    }
   },
   "cell_type": "code",
   "source": "display(Markdown(f\"**AI Message Content:**\\n\\n{ai_message_content}\"))",
   "id": "12bc66970609acf6",
   "outputs": [
    {
     "data": {
      "text/plain": [
       "<IPython.core.display.Markdown object>"
      ],
      "text/markdown": "**AI Message Content:**\n\n<thinking>Ik geef een korte vertaling van de vraag en het antwoord in het Nederlands.</thinking>\n<response>Vraag: \"Wat is het toppunt van uitmuntendheid?\" Antwoord: \"Het toppunt van uitmuntendheid is winnen zonder te vechten. Het betekent de weerstand van de vijand doorbreken en je doelen bereiken door superieure strategie, timing en voorbereiding, zodat conflicten onnodig of geminimaliseerd zijn. Met andere woorden, de hoogste vorm van meesterschap is de plannen van de tegenstander te dwarsbomen en omstandigheden te scheppen waarin nederlaag onmogelijk wordt, vaak zonder bloedvergieten. Deze principes vertalen zich ook naar moderne contexten zoals diplomatie, strategie en leiderschap: streef naar succes met minimale confrontatie door de tegenstander te slim af te zijn.</response>"
     },
     "metadata": {},
     "output_type": "display_data"
    }
   ],
   "execution_count": 21
  },
  {
   "metadata": {
    "ExecuteTime": {
     "end_time": "2025-08-31T07:58:06.377260Z",
     "start_time": "2025-08-31T07:58:06.375678Z"
    }
   },
   "cell_type": "code",
   "source": "",
   "id": "48578e25f2c9556c",
   "outputs": [],
   "execution_count": null
  }
 ],
 "metadata": {
  "kernelspec": {
   "display_name": "Python 3 (ipykernel)",
   "language": "python",
   "name": "python3"
  },
  "language_info": {
   "codemirror_mode": {
    "name": "ipython",
    "version": 3
   },
   "file_extension": ".py",
   "mimetype": "text/x-python",
   "name": "python",
   "nbconvert_exporter": "python",
   "pygments_lexer": "ipython3",
   "version": "3.11.11"
  }
 },
 "nbformat": 4,
 "nbformat_minor": 5
}
