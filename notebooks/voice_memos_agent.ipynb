{
 "cells": [
  {
   "cell_type": "code",
   "id": "initial_id",
   "metadata": {
    "collapsed": true,
    "ExecuteTime": {
     "end_time": "2025-04-10T18:41:51.221030Z",
     "start_time": "2025-04-10T18:41:40.542173Z"
    }
   },
   "source": [
    "%%capture\n",
    "\n",
    "import json\n",
    "import os\n",
    "os.chdir('..')\n",
    "\n",
    "from IPython.display import Audio, Markdown, display\n",
    "\n",
    "from dotenv import load_dotenv\n",
    "load_dotenv()\n",
    "\n",
    "from notebooks import experiment_utils\n",
    "from app.core.container import Container\n",
    "from app.interface.api.messages.schema import MessageRequest\n",
    "\n",
    "# start dependency injection container\n",
    "container = Container()\n",
    "container.init_resources()\n",
    "container.wire(modules=[__name__])"
   ],
   "outputs": [],
   "execution_count": 1
  },
  {
   "metadata": {
    "ExecuteTime": {
     "end_time": "2025-04-10T18:41:51.572948Z",
     "start_time": "2025-04-10T18:41:51.230554Z"
    }
   },
   "cell_type": "code",
   "source": [
    "# create agent\n",
    "agent = experiment_utils.create_openai_agent(\n",
    "    agent_type=\"voice_memos\",\n",
    "    llm_tag=\"gpt-4o-mini-2024-07-18\",\n",
    "    api_key=os.getenv(\"OPENAI_API_KEY\")\n",
    ")"
   ],
   "id": "f6667dff5fe9329",
   "outputs": [],
   "execution_count": 2
  },
  {
   "metadata": {
    "ExecuteTime": {
     "end_time": "2025-04-10T18:41:51.928642Z",
     "start_time": "2025-04-10T18:41:51.780616Z"
    }
   },
   "cell_type": "code",
   "source": [
    "# create attachment\n",
    "attachment_id = experiment_utils.create_attachment(\n",
    "    file_path=\"tests/integration/voice_memos_01_pt_BR.mp3\",\n",
    "    content_type=\"audio/mp3\"\n",
    ")"
   ],
   "id": "fdd681c6d3116eac",
   "outputs": [],
   "execution_count": 3
  },
  {
   "metadata": {
    "ExecuteTime": {
     "end_time": "2025-04-10T18:41:52.080708Z",
     "start_time": "2025-04-10T18:41:51.948985Z"
    }
   },
   "cell_type": "code",
   "source": [
    "# get agent instance\n",
    "voice_memos_agent = container.voice_memos_agent()\n",
    "\n",
    "# get checkpointer instance\n",
    "graph_persistence_factory = container.graph_persistence_factory()\n",
    "checkpointer = graph_persistence_factory.build_checkpoint_saver()\n",
    "\n",
    "# Create Graph\n",
    "workflow_builder = voice_memos_agent.get_workflow_builder(agent[\"id\"])\n",
    "workflow = workflow_builder.compile(checkpointer=checkpointer)\n",
    "#experiment_utils.print_graph(workflow)"
   ],
   "id": "b3b3aef5e2372054",
   "outputs": [],
   "execution_count": 4
  },
  {
   "metadata": {
    "ExecuteTime": {
     "end_time": "2025-04-10T18:48:29.191726Z",
     "start_time": "2025-04-10T18:42:01.087006Z"
    }
   },
   "cell_type": "code",
   "source": [
    "%%capture\n",
    "\n",
    "message = MessageRequest(\n",
    "    message_role=\"human\",\n",
    "    message_content=\"You are studying this material, please generate a comprehensive audio analysis, explain with details. Make sure your analysis does not overlook details.\",\n",
    "    agent_id=agent[\"id\"],\n",
    "    attachment_id=attachment_id\n",
    ")\n",
    "\n",
    "inputs = voice_memos_agent.get_input_params(message)\n",
    "config = voice_memos_agent.get_config(agent[\"id\"])\n",
    "result = workflow.invoke(inputs, config)\n",
    "ai_message_content, workflow_state = voice_memos_agent.format_response(result)"
   ],
   "id": "86ec368c8d168c61",
   "outputs": [
    {
     "ename": "KeyboardInterrupt",
     "evalue": "",
     "output_type": "error",
     "traceback": [
      "\u001B[0;31m---------------------------------------------------------------------------\u001B[0m",
      "\u001B[0;31mKeyboardInterrupt\u001B[0m                         Traceback (most recent call last)",
      "Cell \u001B[0;32mIn[5], line 10\u001B[0m\n\u001B[1;32m      8\u001B[0m inputs \u001B[38;5;241m=\u001B[39m voice_memos_agent\u001B[38;5;241m.\u001B[39mget_input_params(message)\n\u001B[1;32m      9\u001B[0m config \u001B[38;5;241m=\u001B[39m voice_memos_agent\u001B[38;5;241m.\u001B[39mget_config(agent[\u001B[38;5;124m\"\u001B[39m\u001B[38;5;124mid\u001B[39m\u001B[38;5;124m\"\u001B[39m])\n\u001B[0;32m---> 10\u001B[0m result \u001B[38;5;241m=\u001B[39m workflow\u001B[38;5;241m.\u001B[39minvoke(inputs, config)\n\u001B[1;32m     11\u001B[0m ai_message_content, workflow_state \u001B[38;5;241m=\u001B[39m voice_memos_agent\u001B[38;5;241m.\u001B[39mformat_response(result)\n",
      "File \u001B[0;32m~/miniconda3/envs/dev/lib/python3.11/site-packages/langgraph/pregel/__init__.py:2367\u001B[0m, in \u001B[0;36mPregel.invoke\u001B[0;34m(self, input, config, stream_mode, output_keys, interrupt_before, interrupt_after, debug, **kwargs)\u001B[0m\n\u001B[1;32m   2365\u001B[0m \u001B[38;5;28;01melse\u001B[39;00m:\n\u001B[1;32m   2366\u001B[0m     chunks \u001B[38;5;241m=\u001B[39m []\n\u001B[0;32m-> 2367\u001B[0m \u001B[38;5;28;01mfor\u001B[39;00m chunk \u001B[38;5;129;01min\u001B[39;00m \u001B[38;5;28mself\u001B[39m\u001B[38;5;241m.\u001B[39mstream(\n\u001B[1;32m   2368\u001B[0m     \u001B[38;5;28minput\u001B[39m,\n\u001B[1;32m   2369\u001B[0m     config,\n\u001B[1;32m   2370\u001B[0m     stream_mode\u001B[38;5;241m=\u001B[39mstream_mode,\n\u001B[1;32m   2371\u001B[0m     output_keys\u001B[38;5;241m=\u001B[39moutput_keys,\n\u001B[1;32m   2372\u001B[0m     interrupt_before\u001B[38;5;241m=\u001B[39minterrupt_before,\n\u001B[1;32m   2373\u001B[0m     interrupt_after\u001B[38;5;241m=\u001B[39minterrupt_after,\n\u001B[1;32m   2374\u001B[0m     debug\u001B[38;5;241m=\u001B[39mdebug,\n\u001B[1;32m   2375\u001B[0m     \u001B[38;5;241m*\u001B[39m\u001B[38;5;241m*\u001B[39mkwargs,\n\u001B[1;32m   2376\u001B[0m ):\n\u001B[1;32m   2377\u001B[0m     \u001B[38;5;28;01mif\u001B[39;00m stream_mode \u001B[38;5;241m==\u001B[39m \u001B[38;5;124m\"\u001B[39m\u001B[38;5;124mvalues\u001B[39m\u001B[38;5;124m\"\u001B[39m:\n\u001B[1;32m   2378\u001B[0m         latest \u001B[38;5;241m=\u001B[39m chunk\n",
      "File \u001B[0;32m~/miniconda3/envs/dev/lib/python3.11/site-packages/langgraph/pregel/__init__.py:2023\u001B[0m, in \u001B[0;36mPregel.stream\u001B[0;34m(self, input, config, stream_mode, output_keys, interrupt_before, interrupt_after, debug, subgraphs)\u001B[0m\n\u001B[1;32m   2017\u001B[0m     get_waiter \u001B[38;5;241m=\u001B[39m \u001B[38;5;28;01mNone\u001B[39;00m  \u001B[38;5;66;03m# type: ignore[assignment]\u001B[39;00m\n\u001B[1;32m   2018\u001B[0m \u001B[38;5;66;03m# Similarly to Bulk Synchronous Parallel / Pregel model\u001B[39;00m\n\u001B[1;32m   2019\u001B[0m \u001B[38;5;66;03m# computation proceeds in steps, while there are channel updates.\u001B[39;00m\n\u001B[1;32m   2020\u001B[0m \u001B[38;5;66;03m# Channel updates from step N are only visible in step N+1\u001B[39;00m\n\u001B[1;32m   2021\u001B[0m \u001B[38;5;66;03m# channels are guaranteed to be immutable for the duration of the step,\u001B[39;00m\n\u001B[1;32m   2022\u001B[0m \u001B[38;5;66;03m# with channel updates applied only at the transition between steps.\u001B[39;00m\n\u001B[0;32m-> 2023\u001B[0m \u001B[38;5;28;01mwhile\u001B[39;00m loop\u001B[38;5;241m.\u001B[39mtick(input_keys\u001B[38;5;241m=\u001B[39m\u001B[38;5;28mself\u001B[39m\u001B[38;5;241m.\u001B[39minput_channels):\n\u001B[1;32m   2024\u001B[0m     \u001B[38;5;28;01mfor\u001B[39;00m _ \u001B[38;5;129;01min\u001B[39;00m runner\u001B[38;5;241m.\u001B[39mtick(\n\u001B[1;32m   2025\u001B[0m         loop\u001B[38;5;241m.\u001B[39mtasks\u001B[38;5;241m.\u001B[39mvalues(),\n\u001B[1;32m   2026\u001B[0m         timeout\u001B[38;5;241m=\u001B[39m\u001B[38;5;28mself\u001B[39m\u001B[38;5;241m.\u001B[39mstep_timeout,\n\u001B[0;32m   (...)\u001B[0m\n\u001B[1;32m   2029\u001B[0m     ):\n\u001B[1;32m   2030\u001B[0m         \u001B[38;5;66;03m# emit output\u001B[39;00m\n\u001B[1;32m   2031\u001B[0m         \u001B[38;5;28;01myield from\u001B[39;00m output()\n",
      "File \u001B[0;32m~/miniconda3/envs/dev/lib/python3.11/site-packages/langgraph/pregel/loop.py:466\u001B[0m, in \u001B[0;36mPregelLoop.tick\u001B[0;34m(self, input_keys)\u001B[0m\n\u001B[1;32m    463\u001B[0m     \u001B[38;5;28;01mreturn\u001B[39;00m \u001B[38;5;28;01mFalse\u001B[39;00m\n\u001B[1;32m    465\u001B[0m \u001B[38;5;66;03m# prepare next tasks\u001B[39;00m\n\u001B[0;32m--> 466\u001B[0m \u001B[38;5;28mself\u001B[39m\u001B[38;5;241m.\u001B[39mtasks \u001B[38;5;241m=\u001B[39m prepare_next_tasks(\n\u001B[1;32m    467\u001B[0m     \u001B[38;5;28mself\u001B[39m\u001B[38;5;241m.\u001B[39mcheckpoint,\n\u001B[1;32m    468\u001B[0m     \u001B[38;5;28mself\u001B[39m\u001B[38;5;241m.\u001B[39mcheckpoint_pending_writes,\n\u001B[1;32m    469\u001B[0m     \u001B[38;5;28mself\u001B[39m\u001B[38;5;241m.\u001B[39mnodes,\n\u001B[1;32m    470\u001B[0m     \u001B[38;5;28mself\u001B[39m\u001B[38;5;241m.\u001B[39mchannels,\n\u001B[1;32m    471\u001B[0m     \u001B[38;5;28mself\u001B[39m\u001B[38;5;241m.\u001B[39mmanaged,\n\u001B[1;32m    472\u001B[0m     \u001B[38;5;28mself\u001B[39m\u001B[38;5;241m.\u001B[39mconfig,\n\u001B[1;32m    473\u001B[0m     \u001B[38;5;28mself\u001B[39m\u001B[38;5;241m.\u001B[39mstep,\n\u001B[1;32m    474\u001B[0m     for_execution\u001B[38;5;241m=\u001B[39m\u001B[38;5;28;01mTrue\u001B[39;00m,\n\u001B[1;32m    475\u001B[0m     manager\u001B[38;5;241m=\u001B[39m\u001B[38;5;28mself\u001B[39m\u001B[38;5;241m.\u001B[39mmanager,\n\u001B[1;32m    476\u001B[0m     store\u001B[38;5;241m=\u001B[39m\u001B[38;5;28mself\u001B[39m\u001B[38;5;241m.\u001B[39mstore,\n\u001B[1;32m    477\u001B[0m     checkpointer\u001B[38;5;241m=\u001B[39m\u001B[38;5;28mself\u001B[39m\u001B[38;5;241m.\u001B[39mcheckpointer,\n\u001B[1;32m    478\u001B[0m )\n\u001B[1;32m    479\u001B[0m \u001B[38;5;28mself\u001B[39m\u001B[38;5;241m.\u001B[39mto_interrupt \u001B[38;5;241m=\u001B[39m []\n\u001B[1;32m    481\u001B[0m \u001B[38;5;66;03m# produce debug output\u001B[39;00m\n",
      "File \u001B[0;32m~/miniconda3/envs/dev/lib/python3.11/site-packages/langgraph/pregel/algo.py:399\u001B[0m, in \u001B[0;36mprepare_next_tasks\u001B[0;34m(checkpoint, pending_writes, processes, channels, managed, config, step, for_execution, store, checkpointer, manager)\u001B[0m\n\u001B[1;32m    396\u001B[0m \u001B[38;5;66;03m# Check if any processes should be run in next step\u001B[39;00m\n\u001B[1;32m    397\u001B[0m \u001B[38;5;66;03m# If so, prepare the values to be passed to them\u001B[39;00m\n\u001B[1;32m    398\u001B[0m \u001B[38;5;28;01mfor\u001B[39;00m name \u001B[38;5;129;01min\u001B[39;00m processes:\n\u001B[0;32m--> 399\u001B[0m     \u001B[38;5;28;01mif\u001B[39;00m task \u001B[38;5;241m:=\u001B[39m prepare_single_task(\n\u001B[1;32m    400\u001B[0m         (PULL, name),\n\u001B[1;32m    401\u001B[0m         \u001B[38;5;28;01mNone\u001B[39;00m,\n\u001B[1;32m    402\u001B[0m         checkpoint\u001B[38;5;241m=\u001B[39mcheckpoint,\n\u001B[1;32m    403\u001B[0m         pending_writes\u001B[38;5;241m=\u001B[39mpending_writes,\n\u001B[1;32m    404\u001B[0m         processes\u001B[38;5;241m=\u001B[39mprocesses,\n\u001B[1;32m    405\u001B[0m         channels\u001B[38;5;241m=\u001B[39mchannels,\n\u001B[1;32m    406\u001B[0m         managed\u001B[38;5;241m=\u001B[39mmanaged,\n\u001B[1;32m    407\u001B[0m         config\u001B[38;5;241m=\u001B[39mconfig,\n\u001B[1;32m    408\u001B[0m         step\u001B[38;5;241m=\u001B[39mstep,\n\u001B[1;32m    409\u001B[0m         for_execution\u001B[38;5;241m=\u001B[39mfor_execution,\n\u001B[1;32m    410\u001B[0m         store\u001B[38;5;241m=\u001B[39mstore,\n\u001B[1;32m    411\u001B[0m         checkpointer\u001B[38;5;241m=\u001B[39mcheckpointer,\n\u001B[1;32m    412\u001B[0m         manager\u001B[38;5;241m=\u001B[39mmanager,\n\u001B[1;32m    413\u001B[0m     ):\n\u001B[1;32m    414\u001B[0m         tasks\u001B[38;5;241m.\u001B[39mappend(task)\n\u001B[1;32m    415\u001B[0m \u001B[38;5;28;01mreturn\u001B[39;00m {t\u001B[38;5;241m.\u001B[39mid: t \u001B[38;5;28;01mfor\u001B[39;00m t \u001B[38;5;129;01min\u001B[39;00m tasks}\n",
      "File \u001B[0;32m~/miniconda3/envs/dev/lib/python3.11/site-packages/langgraph/pregel/algo.py:743\u001B[0m, in \u001B[0;36mprepare_single_task\u001B[0;34m(task_path, task_id_checksum, checkpoint, pending_writes, processes, channels, managed, config, step, for_execution, store, checkpointer, manager)\u001B[0m\n\u001B[1;32m    694\u001B[0m             metadata\u001B[38;5;241m.\u001B[39mupdate(proc\u001B[38;5;241m.\u001B[39mmetadata)\n\u001B[1;32m    695\u001B[0m         writes \u001B[38;5;241m=\u001B[39m deque()\n\u001B[1;32m    696\u001B[0m         \u001B[38;5;28;01mreturn\u001B[39;00m PregelExecutableTask(\n\u001B[1;32m    697\u001B[0m             name,\n\u001B[1;32m    698\u001B[0m             val,\n\u001B[1;32m    699\u001B[0m             node,\n\u001B[1;32m    700\u001B[0m             writes,\n\u001B[1;32m    701\u001B[0m             patch_config(\n\u001B[1;32m    702\u001B[0m                 merge_configs(\n\u001B[1;32m    703\u001B[0m                     config, {\u001B[38;5;124m\"\u001B[39m\u001B[38;5;124mmetadata\u001B[39m\u001B[38;5;124m\"\u001B[39m: metadata, \u001B[38;5;124m\"\u001B[39m\u001B[38;5;124mtags\u001B[39m\u001B[38;5;124m\"\u001B[39m: proc\u001B[38;5;241m.\u001B[39mtags}\n\u001B[1;32m    704\u001B[0m                 ),\n\u001B[1;32m    705\u001B[0m                 run_name\u001B[38;5;241m=\u001B[39mname,\n\u001B[1;32m    706\u001B[0m                 callbacks\u001B[38;5;241m=\u001B[39m(\n\u001B[1;32m    707\u001B[0m                     manager\u001B[38;5;241m.\u001B[39mget_child(\u001B[38;5;124mf\u001B[39m\u001B[38;5;124m\"\u001B[39m\u001B[38;5;124mgraph:step:\u001B[39m\u001B[38;5;132;01m{\u001B[39;00mstep\u001B[38;5;132;01m}\u001B[39;00m\u001B[38;5;124m\"\u001B[39m)\n\u001B[1;32m    708\u001B[0m                     \u001B[38;5;28;01mif\u001B[39;00m manager\n\u001B[1;32m    709\u001B[0m                     \u001B[38;5;28;01melse\u001B[39;00m \u001B[38;5;28;01mNone\u001B[39;00m\n\u001B[1;32m    710\u001B[0m                 ),\n\u001B[1;32m    711\u001B[0m                 configurable\u001B[38;5;241m=\u001B[39m{\n\u001B[1;32m    712\u001B[0m                     CONFIG_KEY_TASK_ID: task_id,\n\u001B[1;32m    713\u001B[0m                     \u001B[38;5;66;03m# deque.extend is thread-safe\u001B[39;00m\n\u001B[1;32m    714\u001B[0m                     CONFIG_KEY_SEND: partial(\n\u001B[1;32m    715\u001B[0m                         local_write,\n\u001B[1;32m    716\u001B[0m                         writes\u001B[38;5;241m.\u001B[39mextend,\n\u001B[1;32m    717\u001B[0m                         processes\u001B[38;5;241m.\u001B[39mkeys(),\n\u001B[1;32m    718\u001B[0m                     ),\n\u001B[1;32m    719\u001B[0m                     CONFIG_KEY_READ: partial(\n\u001B[1;32m    720\u001B[0m                         local_read,\n\u001B[1;32m    721\u001B[0m                         step,\n\u001B[1;32m    722\u001B[0m                         checkpoint,\n\u001B[1;32m    723\u001B[0m                         channels,\n\u001B[1;32m    724\u001B[0m                         managed,\n\u001B[1;32m    725\u001B[0m                         PregelTaskWrites(\n\u001B[1;32m    726\u001B[0m                             task_path[:\u001B[38;5;241m3\u001B[39m], name, writes, triggers\n\u001B[1;32m    727\u001B[0m                         ),\n\u001B[1;32m    728\u001B[0m                         config,\n\u001B[1;32m    729\u001B[0m                     ),\n\u001B[1;32m    730\u001B[0m                     CONFIG_KEY_STORE: (\n\u001B[1;32m    731\u001B[0m                         store \u001B[38;5;129;01mor\u001B[39;00m configurable\u001B[38;5;241m.\u001B[39mget(CONFIG_KEY_STORE)\n\u001B[1;32m    732\u001B[0m                     ),\n\u001B[1;32m    733\u001B[0m                     CONFIG_KEY_CHECKPOINTER: (\n\u001B[1;32m    734\u001B[0m                         checkpointer\n\u001B[1;32m    735\u001B[0m                         \u001B[38;5;129;01mor\u001B[39;00m configurable\u001B[38;5;241m.\u001B[39mget(CONFIG_KEY_CHECKPOINTER)\n\u001B[1;32m    736\u001B[0m                     ),\n\u001B[1;32m    737\u001B[0m                     CONFIG_KEY_CHECKPOINT_MAP: {\n\u001B[1;32m    738\u001B[0m                         \u001B[38;5;241m*\u001B[39m\u001B[38;5;241m*\u001B[39mconfigurable\u001B[38;5;241m.\u001B[39mget(CONFIG_KEY_CHECKPOINT_MAP, {}),\n\u001B[1;32m    739\u001B[0m                         parent_ns: checkpoint[\u001B[38;5;124m\"\u001B[39m\u001B[38;5;124mid\u001B[39m\u001B[38;5;124m\"\u001B[39m],\n\u001B[1;32m    740\u001B[0m                     },\n\u001B[1;32m    741\u001B[0m                     CONFIG_KEY_CHECKPOINT_ID: \u001B[38;5;28;01mNone\u001B[39;00m,\n\u001B[1;32m    742\u001B[0m                     CONFIG_KEY_CHECKPOINT_NS: task_checkpoint_ns,\n\u001B[0;32m--> 743\u001B[0m                     CONFIG_KEY_SCRATCHPAD: _scratchpad(\n\u001B[1;32m    744\u001B[0m                         pending_writes,\n\u001B[1;32m    745\u001B[0m                         task_id,\n\u001B[1;32m    746\u001B[0m                     ),\n\u001B[1;32m    747\u001B[0m                     CONFIG_KEY_PREVIOUS: checkpoint[\u001B[38;5;124m\"\u001B[39m\u001B[38;5;124mchannel_values\u001B[39m\u001B[38;5;124m\"\u001B[39m]\u001B[38;5;241m.\u001B[39mget(\n\u001B[1;32m    748\u001B[0m                         PREVIOUS, \u001B[38;5;28;01mNone\u001B[39;00m\n\u001B[1;32m    749\u001B[0m                     ),\n\u001B[1;32m    750\u001B[0m                 },\n\u001B[1;32m    751\u001B[0m             ),\n\u001B[1;32m    752\u001B[0m             triggers,\n\u001B[1;32m    753\u001B[0m             proc\u001B[38;5;241m.\u001B[39mretry_policy,\n\u001B[1;32m    754\u001B[0m             \u001B[38;5;28;01mNone\u001B[39;00m,\n\u001B[1;32m    755\u001B[0m             task_id,\n\u001B[1;32m    756\u001B[0m             task_path[:\u001B[38;5;241m3\u001B[39m],\n\u001B[1;32m    757\u001B[0m             writers\u001B[38;5;241m=\u001B[39mproc\u001B[38;5;241m.\u001B[39mflat_writers,\n\u001B[1;32m    758\u001B[0m             subgraphs\u001B[38;5;241m=\u001B[39mproc\u001B[38;5;241m.\u001B[39msubgraphs,\n\u001B[1;32m    759\u001B[0m         )\n\u001B[1;32m    760\u001B[0m \u001B[38;5;28;01melse\u001B[39;00m:\n\u001B[1;32m    761\u001B[0m     \u001B[38;5;28;01mreturn\u001B[39;00m PregelTask(task_id, name, task_path[:\u001B[38;5;241m3\u001B[39m])\n",
      "File \u001B[0;32m~/miniconda3/envs/dev/lib/python3.11/site-packages/langgraph/pregel/algo.py:768\u001B[0m, in \u001B[0;36m_scratchpad\u001B[0;34m(pending_writes, task_id)\u001B[0m\n\u001B[1;32m    764\u001B[0m \u001B[38;5;28;01mdef\u001B[39;00m \u001B[38;5;21m_scratchpad\u001B[39m(\n\u001B[1;32m    765\u001B[0m     pending_writes: \u001B[38;5;28mlist\u001B[39m[PendingWrite],\n\u001B[1;32m    766\u001B[0m     task_id: \u001B[38;5;28mstr\u001B[39m,\n\u001B[1;32m    767\u001B[0m ) \u001B[38;5;241m-\u001B[39m\u001B[38;5;241m>\u001B[39m PregelScratchpad:\n\u001B[0;32m--> 768\u001B[0m     null_resume_write \u001B[38;5;241m=\u001B[39m \u001B[38;5;28mnext\u001B[39m(\n\u001B[1;32m    769\u001B[0m         (w \u001B[38;5;28;01mfor\u001B[39;00m w \u001B[38;5;129;01min\u001B[39;00m pending_writes \u001B[38;5;28;01mif\u001B[39;00m w[\u001B[38;5;241m0\u001B[39m] \u001B[38;5;241m==\u001B[39m NULL_TASK_ID \u001B[38;5;129;01mand\u001B[39;00m w[\u001B[38;5;241m1\u001B[39m] \u001B[38;5;241m==\u001B[39m RESUME), \u001B[38;5;28;01mNone\u001B[39;00m\n\u001B[1;32m    770\u001B[0m     )\n\u001B[1;32m    771\u001B[0m     \u001B[38;5;66;03m# using itertools.count as an atomic counter (+= 1 is not thread-safe)\u001B[39;00m\n\u001B[1;32m    772\u001B[0m     \u001B[38;5;28;01mreturn\u001B[39;00m PregelScratchpad(\n\u001B[1;32m    773\u001B[0m         \u001B[38;5;66;03m# call\u001B[39;00m\n\u001B[1;32m    774\u001B[0m         call_counter\u001B[38;5;241m=\u001B[39mitertools\u001B[38;5;241m.\u001B[39mcount(\u001B[38;5;241m0\u001B[39m)\u001B[38;5;241m.\u001B[39m\u001B[38;5;21m__next__\u001B[39m,\n\u001B[0;32m   (...)\u001B[0m\n\u001B[1;32m    785\u001B[0m         subgraph_counter\u001B[38;5;241m=\u001B[39mitertools\u001B[38;5;241m.\u001B[39mcount(\u001B[38;5;241m0\u001B[39m)\u001B[38;5;241m.\u001B[39m\u001B[38;5;21m__next__\u001B[39m,\n\u001B[1;32m    786\u001B[0m     )\n",
      "File \u001B[0;32m~/miniconda3/envs/dev/lib/python3.11/site-packages/langgraph/pregel/algo.py:769\u001B[0m, in \u001B[0;36m<genexpr>\u001B[0;34m(.0)\u001B[0m\n\u001B[1;32m    764\u001B[0m \u001B[38;5;28;01mdef\u001B[39;00m \u001B[38;5;21m_scratchpad\u001B[39m(\n\u001B[1;32m    765\u001B[0m     pending_writes: \u001B[38;5;28mlist\u001B[39m[PendingWrite],\n\u001B[1;32m    766\u001B[0m     task_id: \u001B[38;5;28mstr\u001B[39m,\n\u001B[1;32m    767\u001B[0m ) \u001B[38;5;241m-\u001B[39m\u001B[38;5;241m>\u001B[39m PregelScratchpad:\n\u001B[1;32m    768\u001B[0m     null_resume_write \u001B[38;5;241m=\u001B[39m \u001B[38;5;28mnext\u001B[39m(\n\u001B[0;32m--> 769\u001B[0m         (w \u001B[38;5;28;01mfor\u001B[39;00m w \u001B[38;5;129;01min\u001B[39;00m pending_writes \u001B[38;5;28;01mif\u001B[39;00m w[\u001B[38;5;241m0\u001B[39m] \u001B[38;5;241m==\u001B[39m NULL_TASK_ID \u001B[38;5;129;01mand\u001B[39;00m w[\u001B[38;5;241m1\u001B[39m] \u001B[38;5;241m==\u001B[39m RESUME), \u001B[38;5;28;01mNone\u001B[39;00m\n\u001B[1;32m    770\u001B[0m     )\n\u001B[1;32m    771\u001B[0m     \u001B[38;5;66;03m# using itertools.count as an atomic counter (+= 1 is not thread-safe)\u001B[39;00m\n\u001B[1;32m    772\u001B[0m     \u001B[38;5;28;01mreturn\u001B[39;00m PregelScratchpad(\n\u001B[1;32m    773\u001B[0m         \u001B[38;5;66;03m# call\u001B[39;00m\n\u001B[1;32m    774\u001B[0m         call_counter\u001B[38;5;241m=\u001B[39mitertools\u001B[38;5;241m.\u001B[39mcount(\u001B[38;5;241m0\u001B[39m)\u001B[38;5;241m.\u001B[39m\u001B[38;5;21m__next__\u001B[39m,\n\u001B[0;32m   (...)\u001B[0m\n\u001B[1;32m    785\u001B[0m         subgraph_counter\u001B[38;5;241m=\u001B[39mitertools\u001B[38;5;241m.\u001B[39mcount(\u001B[38;5;241m0\u001B[39m)\u001B[38;5;241m.\u001B[39m\u001B[38;5;21m__next__\u001B[39m,\n\u001B[1;32m    786\u001B[0m     )\n",
      "\u001B[0;31mKeyboardInterrupt\u001B[0m: "
     ]
    }
   ],
   "execution_count": 5
  },
  {
   "metadata": {},
   "cell_type": "code",
   "source": [
    "file_path=\"tests/integration/voice_memos_01_pt_BR.mp3\"\n",
    "display(Audio(file_path))"
   ],
   "id": "fb637ad3e548fcb8",
   "outputs": [],
   "execution_count": null
  },
  {
   "metadata": {},
   "cell_type": "code",
   "source": "display(Markdown(f\"**AI Message Content:**\\n\\n{ ai_message_content }\"))",
   "id": "2a81854eacc9b46e",
   "outputs": [],
   "execution_count": null
  },
  {
   "metadata": {},
   "cell_type": "code",
   "source": "",
   "id": "135f5fd7cf942a6e",
   "outputs": [],
   "execution_count": null
  }
 ],
 "metadata": {
  "kernelspec": {
   "display_name": "Python 3",
   "language": "python",
   "name": "python3"
  },
  "language_info": {
   "codemirror_mode": {
    "name": "ipython",
    "version": 2
   },
   "file_extension": ".py",
   "mimetype": "text/x-python",
   "name": "python",
   "nbconvert_exporter": "python",
   "pygments_lexer": "ipython2",
   "version": "2.7.6"
  }
 },
 "nbformat": 4,
 "nbformat_minor": 5
}
