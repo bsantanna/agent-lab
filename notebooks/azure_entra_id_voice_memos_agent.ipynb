{
 "cells": [
  {
   "cell_type": "code",
   "id": "initial_id",
   "metadata": {
    "collapsed": true,
    "jupyter": {
     "outputs_hidden": true
    },
    "ExecuteTime": {
     "end_time": "2025-04-17T20:35:45.621160Z",
     "start_time": "2025-04-17T20:35:42.015309Z"
    }
   },
   "source": [
    "%%capture\n",
    "\n",
    "import json\n",
    "import os\n",
    "\n",
    "os.chdir(\"..\")\n",
    "\n",
    "from IPython.display import Audio, Markdown, display\n",
    "\n",
    "from dotenv import load_dotenv\n",
    "\n",
    "load_dotenv()\n",
    "\n",
    "from notebooks import experiment_utils\n",
    "from app.core.container import Container\n",
    "from app.interface.api.messages.schema import MessageRequest\n",
    "\n",
    "# start dependency injection container\n",
    "container = Container()\n",
    "container.init_resources()\n",
    "container.wire(modules=[__name__])"
   ],
   "outputs": [],
   "execution_count": 1
  },
  {
   "cell_type": "code",
   "id": "f6667dff5fe9329",
   "metadata": {
    "ExecuteTime": {
     "end_time": "2025-04-17T20:35:47.673672Z",
     "start_time": "2025-04-17T20:35:47.598749Z"
    }
   },
   "source": [
    "# create agent\n",
    "agent = experiment_utils.create_openai_agent(\n",
    "    agent_type=\"azure_entra_id_voice_memos\", llm_tag=\"o3-mini\", api_key=os.getenv(\"OPENAI_API_KEY\")\n",
    ")"
   ],
   "outputs": [],
   "execution_count": 2
  },
  {
   "cell_type": "code",
   "id": "fdd681c6d3116eac",
   "metadata": {
    "ExecuteTime": {
     "end_time": "2025-04-17T20:36:28.614843Z",
     "start_time": "2025-04-17T20:36:28.375536Z"
    }
   },
   "source": [
    "# create attachment\n",
    "attachment_id = experiment_utils.create_attachment(\n",
    "    file_path=\"tests/integration/voice_memos_01_pt_BR.mp3\", content_type=\"audio/mp3\"\n",
    ")"
   ],
   "outputs": [],
   "execution_count": 3
  },
  {
   "cell_type": "code",
   "id": "b3b3aef5e2372054",
   "metadata": {
    "ExecuteTime": {
     "end_time": "2025-04-17T20:36:30.221696Z",
     "start_time": "2025-04-17T20:36:29.499270Z"
    }
   },
   "source": [
    "# get agent instance\n",
    "voice_memos_agent = container.azure_entra_id_voice_memos_agent()\n",
    "\n",
    "# get checkpointer instance\n",
    "graph_persistence_factory = container.graph_persistence_factory()\n",
    "checkpointer = graph_persistence_factory.build_checkpoint_saver()\n",
    "\n",
    "# Create Graph\n",
    "workflow_builder = voice_memos_agent.get_workflow_builder(agent[\"id\"])\n",
    "workflow = workflow_builder.compile(checkpointer=checkpointer)\n",
    "experiment_utils.print_graph(workflow)"
   ],
   "outputs": [
    {
     "data": {
      "image/png": "[encoded data removed]",
      "text/plain": [
       "<IPython.core.display.Image object>"
      ]
     },
     "metadata": {},
     "output_type": "display_data"
    }
   ],
   "execution_count": 4
  },
  {
   "cell_type": "code",
   "id": "86ec368c8d168c61",
   "metadata": {
    "ExecuteTime": {
     "end_time": "2025-04-17T22:06:27.948402Z",
     "start_time": "2025-04-17T22:03:57.982049Z"
    }
   },
   "source": [
    "%%capture\n",
    "\n",
    "message = MessageRequest(\n",
    "    message_role=\"human\",\n",
    "    message_content=\"Analyse the given audio.\",\n",
    "    agent_id=agent[\"id\"],\n",
    "    attachment_id=attachment_id,\n",
    ")\n",
    "\n",
    "inputs = voice_memos_agent.get_input_params(message)\n",
    "config = voice_memos_agent.get_config(agent[\"id\"])\n",
    "result = workflow.invoke(inputs, config)\n",
    "ai_message_content, workflow_state = voice_memos_agent.format_response(result)"
   ],
   "outputs": [],
   "execution_count": 8
  },
  {
   "cell_type": "code",
   "id": "fb637ad3e548fcb8",
   "metadata": {},
   "source": [
    "file_path = \"tests/integration/voice_memos_01_pt_BR.mp3\"\n",
    "display(Audio(file_path))"
   ],
   "outputs": [],
   "execution_count": null
  },
  {
   "cell_type": "code",
   "id": "2a81854eacc9b46e",
   "metadata": {},
   "source": [
    "display(Markdown(f\"**AI Message Content:**\\n\\n{ai_message_content}\"))"
   ],
   "outputs": [],
   "execution_count": null
  },
  {
   "cell_type": "code",
   "id": "135f5fd7cf942a6e",
   "metadata": {},
   "source": [
    "# display(Markdown(f\"**Workflow state:**\\n```json\\n{ json.dumps(workflow_state, indent=2) }\\n```\"))\n",
    "display(\n",
    "    Markdown(\n",
    "        f\"**Structured report:**\\n```json\\n{json.dumps(workflow_state['structured_report'], ensure_ascii=False, indent=2)}\\n```\"\n",
    "    )\n",
    ")"
   ],
   "outputs": [],
   "execution_count": null
  },
  {
   "cell_type": "code",
   "id": "829c084b88e94bd9",
   "metadata": {},
   "source": [],
   "outputs": [],
   "execution_count": null
  }
 ],
 "metadata": {
  "kernelspec": {
   "display_name": "Python 3 (ipykernel)",
   "language": "python",
   "name": "python3"
  },
  "language_info": {
   "codemirror_mode": {
    "name": "ipython",
    "version": 3
   },
   "file_extension": ".py",
   "mimetype": "text/x-python",
   "name": "python",
   "nbconvert_exporter": "python",
   "pygments_lexer": "ipython3",
   "version": "3.11.11"
  }
 },
 "nbformat": 4,
 "nbformat_minor": 5
}
