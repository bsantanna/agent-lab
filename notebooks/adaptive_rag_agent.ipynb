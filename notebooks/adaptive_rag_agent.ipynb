{
 "cells": [
  {
   "cell_type": "markdown",
   "metadata": {},
   "source": [
    "### Agent-Lab: Adaptive RAG Agent\n",
    "\n",
    "---"
   ]
  },
  {
   "cell_type": "code",
   "metadata": {},
   "source": [
    "import os\n",
    "os.chdir('..')\n",
    "\n",
    "from notebooks import experiment_utils\n",
    "from app.core.container import Container\n",
    "from app.interface.api.messages.schema import MessageRequest\n",
    "\n",
    "# start dependency injection container\n",
    "container = Container()\n",
    "container.init_resources()\n",
    "container.wire(modules=[__name__])"
   ],
   "outputs": [],
   "execution_count": null
  },
  {
   "cell_type": "code",
   "metadata": {},
   "source": [
    "# create ollama agent\n",
    "agent_id = experiment_utils.create_ollama_agent(agent_type=\"adaptive_rag\", llm_tag=\"mistral-small:24b\", ollama_endpoint=\"http://jupiter.btech.software:11434\")\n",
    "# agent_id = '198b4ba1-f103-43b9-b2b8-70f8810d2f8e'"
   ],
   "outputs": [],
   "execution_count": null
  },
  {
   "cell_type": "code",
   "metadata": {},
   "source": [
    "# get agent instance\n",
    "adaptive_rag_agent = container.adaptive_rag_agent()\n",
    "\n",
    "# Create Graph\n",
    "workflow_builder = adaptive_rag_agent.get_workflow_builder(agent_id)\n",
    "workflow = workflow_builder.compile()"
   ],
   "outputs": [],
   "execution_count": null
  },
  {
   "metadata": {},
   "cell_type": "code",
   "source": "experiment_utils.print_graph(workflow)",
   "outputs": [],
   "execution_count": null
  },
  {
   "metadata": {},
   "cell_type": "code",
   "source": [
    "message = MessageRequest(\n",
    "    message_role=\"human\",\n",
    "    message_content=\"Solve the complex question: 2*2\",\n",
    "    agent_id=agent_id\n",
    ")\n",
    "inputs = adaptive_rag_agent.get_input_params(message)"
   ],
   "outputs": [],
   "execution_count": null
  },
  {
   "metadata": {},
   "cell_type": "code",
   "source": "result = workflow.invoke(inputs)",
   "outputs": [],
   "execution_count": null
  },
  {
   "metadata": {},
   "cell_type": "code",
   "source": "",
   "outputs": [],
   "execution_count": null
  }
 ],
 "metadata": {
  "kernelspec": {
   "display_name": "dev",
   "language": "python",
   "name": "python3"
  },
  "language_info": {
   "codemirror_mode": {
    "name": "ipython",
    "version": 3
   },
   "file_extension": ".py",
   "mimetype": "text/x-python",
   "name": "python",
   "nbconvert_exporter": "python",
   "pygments_lexer": "ipython3",
   "version": "3.11.11"
  }
 },
 "nbformat": 4,
 "nbformat_minor": 2
}
