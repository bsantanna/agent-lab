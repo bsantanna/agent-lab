{
 "cells": [
  {
   "cell_type": "markdown",
   "metadata": {},
   "source": [
    "### Agent-Lab: Adaptive RAG Agent\n",
    "\n",
    "Objective of this notebook is evaluating and adapting the implementation of [Adaptive RAG Agent](https://langchain-ai.github.io/langgraph/tutorials/rag/langgraph_adaptive_rag/).\n",
    "\n",
    "#### Preparation steps:\n",
    "\n",
    "Before executing the notebook perform the following preparation steps.\n",
    "\n",
    "1. Start Docker containers: `docker compose up -d --build`\n",
    "\n",
    "2. Verify application is up and running, with web browser: `http://localhost:18000/docs`\n",
    "\n",
    "3. Inside project root directory, create a `.env` file with env vars with correct values:\n",
    "\n",
    "    ```\n",
    "    DEVELOPING=\"True\"\n",
    "    OLLAMA_ENDPOINT=\"http://localhost:11434\"\n",
    "    XAI_API_KEY=\"???\"\n",
    "    ```\n",
    "\n",
    "---"
   ]
  },
  {
   "metadata": {
    "ExecuteTime": {
     "end_time": "2025-03-21T10:12:20.871599Z",
     "start_time": "2025-03-21T10:12:17.552658Z"
    }
   },
   "cell_type": "code",
   "source": [
    "%%capture\n",
    "\n",
    "import os\n",
    "os.chdir('..')\n",
    "\n",
    "from dotenv import load_dotenv\n",
    "load_dotenv()\n",
    "\n",
    "from notebooks import experiment_utils\n",
    "from app.core.container import Container\n",
    "from app.interface.api.messages.schema import MessageRequest\n",
    "\n",
    "\n",
    "# start dependency injection container\n",
    "container = Container()\n",
    "container.init_resources()\n",
    "container.wire(modules=[__name__])"
   ],
   "outputs": [],
   "execution_count": 1
  },
  {
   "cell_type": "code",
   "metadata": {
    "ExecuteTime": {
     "end_time": "2025-03-21T10:12:20.935158Z",
     "start_time": "2025-03-21T10:12:20.877028Z"
    }
   },
   "source": [
    "# create agent\n",
    "# agent = experiment_utils.create_ollama_agent(\n",
    "#     agent_type=\"adaptive_rag\",\n",
    "#     llm_tag=\"llama3.2-vision:latest\",\n",
    "#     ollama_endpoint=os.getenv(\"OLLAMA_ENDPOINT\")\n",
    "#)\n",
    "\n",
    "agent = experiment_utils.create_xai_agent(\n",
    "    agent_type=\"adaptive_rag\",\n",
    "    llm_tag=\"grok-2\",\n",
    "    api_key=os.getenv(\"XAI_API_KEY\")\n",
    ")"
   ],
   "outputs": [],
   "execution_count": 2
  },
  {
   "metadata": {
    "ExecuteTime": {
     "end_time": "2025-03-21T10:12:23.335457Z",
     "start_time": "2025-03-21T10:12:21.507013Z"
    }
   },
   "cell_type": "code",
   "source": [
    "# get agent instance\n",
    "adaptive_rag_agent = container.adaptive_rag_agent()\n",
    "\n",
    "# get checkpointer instance\n",
    "graph_persistence_factory = container.graph_persistence_factory()\n",
    "checkpointer = graph_persistence_factory.build_checkpoint_saver()\n",
    "\n",
    "# Create Graph\n",
    "workflow_builder = adaptive_rag_agent.get_workflow_builder(agent[\"id\"])\n",
    "workflow = workflow_builder.compile(checkpointer=checkpointer)\n",
    "experiment_utils.print_graph(workflow)"
   ],
   "outputs": [
    {
     "data": {
      "image/png": "[encoded data removed]",
      "text/plain": [
       "<IPython.core.display.Image object>"
      ]
     },
     "metadata": {},
     "output_type": "display_data"
    }
   ],
   "execution_count": 3
  },
  {
   "metadata": {
    "ExecuteTime": {
     "end_time": "2025-03-21T10:12:30.700069Z",
     "start_time": "2025-03-21T10:12:30.697079Z"
    }
   },
   "cell_type": "code",
   "source": [
    "agent_config = {\n",
    "    \"configurable\": {\n",
    "        \"thread_id\": agent[\"id\"],\n",
    "    },\n",
    "    \"recursion_limit\": 30\n",
    "}"
   ],
   "outputs": [],
   "execution_count": 4
  },
  {
   "metadata": {
    "ExecuteTime": {
     "end_time": "2025-03-21T10:12:40.491389Z",
     "start_time": "2025-03-21T10:12:31.815138Z"
    }
   },
   "cell_type": "code",
   "source": [
    "%%capture\n",
    "\n",
    "message = MessageRequest(\n",
    "    message_role=\"human\",\n",
    "    message_content=\"What is the pinnacle of excellence?\",\n",
    "    agent_id=agent[\"id\"]\n",
    ")\n",
    "\n",
    "inputs = adaptive_rag_agent.get_input_params(message)\n",
    "result = workflow.invoke(inputs, agent_config)"
   ],
   "outputs": [],
   "execution_count": 5
  },
  {
   "metadata": {
    "ExecuteTime": {
     "end_time": "2025-03-21T10:12:41.750619Z",
     "start_time": "2025-03-21T10:12:41.747108Z"
    }
   },
   "cell_type": "code",
   "source": "print(result['generation'])",
   "outputs": [
    {
     "name": "stdout",
     "output_type": "stream",
     "text": [
      "The pinnacle of excellence, as described in the context, is to achieve victory without fighting. This involves breaking the enemy's resistance and thwarting their plans through strategic planning and minimal confrontation, thereby avoiding bloodshed and achieving a complete victory.\n"
     ]
    }
   ],
   "execution_count": 6
  },
  {
   "metadata": {
    "ExecuteTime": {
     "end_time": "2025-03-21T10:12:52.048499Z",
     "start_time": "2025-03-21T10:12:43.353815Z"
    }
   },
   "cell_type": "code",
   "source": [
    "%%capture\n",
    "\n",
    "message = MessageRequest(\n",
    "    message_role=\"human\",\n",
    "    message_content=\"Can you repeat my previous question and answer it again but this time in dutch?\",\n",
    "    agent_id=agent[\"id\"]\n",
    ")\n",
    "\n",
    "inputs = adaptive_rag_agent.get_input_params(message)\n",
    "result = workflow.invoke(inputs, agent_config)"
   ],
   "outputs": [],
   "execution_count": 7
  },
  {
   "metadata": {
    "ExecuteTime": {
     "end_time": "2025-03-21T10:12:52.061405Z",
     "start_time": "2025-03-21T10:12:52.057316Z"
    }
   },
   "cell_type": "code",
   "source": "print(result['generation'])",
   "outputs": [
    {
     "name": "stdout",
     "output_type": "stream",
     "text": [
      "<query>Wat is de top van uitmuntendheid?</query>\n",
      "\n",
      "De top van uitmuntendheid, zoals beschreven in de context, is om een overwinning te behalen zonder te vechten. Dit houdt in dat je het verzet van de vijand breekt en hun plannen doorkruist door middel van strategische planning en minimale confrontatie, waardoor bloedvergieten wordt vermeden en een volledige overwinning wordt bereikt.\n"
     ]
    }
   ],
   "execution_count": 8
  },
  {
   "metadata": {
    "ExecuteTime": {
     "end_time": "2025-03-21T10:13:11.886713Z",
     "start_time": "2025-03-21T10:12:59.973990Z"
    }
   },
   "cell_type": "code",
   "source": [
    "%%capture\n",
    "\n",
    "message = MessageRequest(\n",
    "    message_role=\"human\",\n",
    "    message_content=\"Kun je mijn vorige vraag en jouw antwoord herhalen maar dit keer in het Portugees?\",\n",
    "    agent_id=agent[\"id\"]\n",
    ")\n",
    "\n",
    "inputs = adaptive_rag_agent.get_input_params(message)\n",
    "result = workflow.invoke(inputs, agent_config)"
   ],
   "outputs": [],
   "execution_count": 9
  },
  {
   "metadata": {
    "ExecuteTime": {
     "end_time": "2025-03-21T10:13:11.896977Z",
     "start_time": "2025-03-21T10:13:11.893219Z"
    }
   },
   "cell_type": "code",
   "source": "print(result['generation'])",
   "outputs": [
    {
     "name": "stdout",
     "output_type": "stream",
     "text": [
      "<query>Qual é o ápice da excelência?</query>\n",
      "\n",
      "O ápice da excelência, conforme descrito no contexto, é alcançar a vitória sem lutar. Isso envolve quebrar a resistência do inimigo e frustrar seus planos por meio de planejamento estratégico e confronto mínimo, evitando assim derramamento de sangue e alcançando uma vitória completa.\n"
     ]
    }
   ],
   "execution_count": 10
  },
  {
   "metadata": {
    "ExecuteTime": {
     "end_time": "2025-03-21T10:13:12.082345Z",
     "start_time": "2025-03-21T10:13:12.078377Z"
    }
   },
   "cell_type": "code",
   "source": [
    "print(f\"\\nMessage history as chain-of-thought:\")\n",
    "count = 0\n",
    "for message in result['messages']:\n",
    "    count+=1\n",
    "    print(f\"\\n---\\n#{count}:\\n{message}\")"
   ],
   "outputs": [
    {
     "name": "stdout",
     "output_type": "stream",
     "text": [
      "\n",
      "Message history as chain-of-thought:\n",
      "\n",
      "---\n",
      "#1:\n",
      "First: The human asked or stated - What is the pinnacle of excellence?\n",
      "Then: The AI responded with - The pinnacle of excellence, as described in the context, is to achieve victory without fighting. This involves breaking the enemy's resistance and thwarting their plans through strategic planning and minimal confrontation, thereby avoiding bloodshed and achieving a complete victory.\n",
      "Connection: The pinnacle of excellence, according to the context provided, is not about fighting and winning battles but rather achieving victory without engaging in combat. This is exemplified by breaking the enemy's resistance and foiling their plans through strategic foresight and minimal confrontation.\n",
      "\n",
      "---\n",
      "#2:\n",
      "First: The human asked or stated - Can you repeat my previous question and answer it again but this time in dutch?\n",
      "Then: The AI responded with - <query>Wat is de top van uitmuntendheid?</query>\n",
      "\n",
      "De top van uitmuntendheid, zoals beschreven in de context, is om een overwinning te behalen zonder te vechten. Dit houdt in dat je het verzet van de vijand breekt en hun plannen doorkruist door middel van strategische planning en minimale confrontatie, waardoor bloedvergieten wordt vermeden en een volledige overwinning wordt bereikt.\n",
      "Connection: The pinnacle of excellence, according to the context provided, is not about fighting and winning battles but rather achieving victory without engaging in combat. This is exemplified by breaking the enemy's resistance and foiling their plans through strategic foresight and minimal confrontation.\n",
      "\n",
      "---\n",
      "#3:\n",
      "First: The human asked or stated - Kun je mijn vorige vraag en jouw antwoord herhalen maar dit keer in het Portugees?\n",
      "Then: The AI responded with - <query>Qual é o ápice da excelência?</query>\n",
      "\n",
      "O ápice da excelência, conforme descrito no contexto, é alcançar a vitória sem lutar. Isso envolve quebrar a resistência do inimigo e frustrar seus planos por meio de planejamento estratégico e confronto mínimo, evitando assim derramamento de sangue e alcançando uma vitória completa.\n",
      "Connection: The pinnacle of excellence, according to the context provided, is not about fighting and winning battles but rather achieving victory without engaging in combat. This is exemplified by breaking the enemy's resistance and foiling their plans through strategic foresight and minimal confrontation.\n"
     ]
    }
   ],
   "execution_count": 11
  },
  {
   "metadata": {},
   "cell_type": "code",
   "source": "",
   "outputs": [],
   "execution_count": null
  }
 ],
 "metadata": {
  "kernelspec": {
   "display_name": "dev",
   "language": "python",
   "name": "python3"
  },
  "language_info": {
   "codemirror_mode": {
    "name": "ipython",
    "version": 3
   },
   "file_extension": ".py",
   "mimetype": "text/x-python",
   "name": "python",
   "nbconvert_exporter": "python",
   "pygments_lexer": "ipython3",
   "version": "3.11.11"
  }
 },
 "nbformat": 4,
 "nbformat_minor": 2
}
