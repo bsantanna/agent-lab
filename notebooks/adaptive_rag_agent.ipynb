{
 "cells": [
  {
   "cell_type": "markdown",
   "metadata": {},
   "source": [
    "### Agent-Lab: Adaptive RAG Agent\n",
    "\n",
    "---"
   ]
  },
  {
   "metadata": {},
   "cell_type": "code",
   "source": [
    "import os\n",
    "os.chdir('..')\n",
    "\n",
    "from notebooks import experiment_utils\n",
    "from app.core.container import Container\n",
    "from app.interface.api.messages.schema import MessageRequest\n",
    "\n",
    "# start dependency injection container\n",
    "container = Container()\n",
    "container.init_resources()\n",
    "container.wire(modules=[__name__])"
   ],
   "outputs": [],
   "execution_count": null
  },
  {
   "cell_type": "code",
   "metadata": {},
   "source": [
    "# create ollama agent\n",
    "agent_id = experiment_utils.create_ollama_agent(agent_type=\"adaptive_rag\", llm_tag=\"mistral-small:24b\", ollama_endpoint=\"http://moon.btech.software:11434\")"
   ],
   "outputs": [],
   "execution_count": null
  },
  {
   "cell_type": "code",
   "metadata": {},
   "source": [
    "# get agent instance\n",
    "adaptive_rag_agent = container.adaptive_rag_agent()\n",
    "\n",
    "# Create Graph\n",
    "workflow_builder = adaptive_rag_agent.get_workflow_builder(agent_id)\n",
    "workflow = workflow_builder.compile()"
   ],
   "outputs": [],
   "execution_count": null
  },
  {
   "metadata": {},
   "cell_type": "code",
   "source": "experiment_utils.print_graph(workflow)",
   "outputs": [],
   "execution_count": null
  },
  {
   "metadata": {},
   "cell_type": "code",
   "source": [
    "message = MessageRequest(\n",
    "    message_role=\"human\",\n",
    "    message_content=\"In general comparing the learnings from the Art of War Book in knowledge base and a stubborn colleague who does not want to collaborate and even works against a teammate, what are the common advices and approaches to handle such situations?\",\n",
    "    agent_id=agent_id\n",
    ")\n",
    "inputs = adaptive_rag_agent.get_input_params(message)"
   ],
   "outputs": [],
   "execution_count": null
  },
  {
   "metadata": {},
   "cell_type": "code",
   "source": [
    "# get document repository instance\n",
    "# document_repository = container.document_repository()\n",
    "\n",
    "# populate vectorstore with documents\n",
    "# experiment_utils.create_static_document(\n",
    "#     embeddings_model=adaptive_rag_agent.get_embeddings_model(agent_id),\n",
    "#     document_repository=document_repository,\n",
    "#     file_path=\"tests/integration/sun_tzu_the_art_of_war.zip\"\n",
    "# )"
   ],
   "outputs": [],
   "execution_count": null
  },
  {
   "metadata": {},
   "cell_type": "code",
   "source": [
    "# result = workflow.invoke(inputs)\n",
    "# result['generation']"
   ],
   "outputs": [],
   "execution_count": null
  }
 ],
 "metadata": {
  "kernelspec": {
   "display_name": "dev",
   "language": "python",
   "name": "python3"
  },
  "language_info": {
   "codemirror_mode": {
    "name": "ipython",
    "version": 3
   },
   "file_extension": ".py",
   "mimetype": "text/x-python",
   "name": "python",
   "nbconvert_exporter": "python",
   "pygments_lexer": "ipython3",
   "version": "3.11.11"
  }
 },
 "nbformat": 4,
 "nbformat_minor": 2
}
