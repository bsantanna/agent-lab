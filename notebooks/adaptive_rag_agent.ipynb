{
 "cells": [
  {
   "cell_type": "markdown",
   "metadata": {},
   "source": [
    "### Agent-Lab: Adaptive RAG Agent\n",
    "\n",
    "---"
   ]
  },
  {
   "cell_type": "code",
   "execution_count": 1,
   "metadata": {},
   "outputs": [
    {
     "name": "stderr",
     "output_type": "stream",
     "text": [
      "Overriding of current TracerProvider is not allowed\n",
      "/home/bsantanna/miniconda3/envs/dev/lib/python3.11/site-packages/pydantic/_internal/_config.py:295: PydanticDeprecatedSince20: Support for class-based `config` is deprecated, use ConfigDict instead. Deprecated in Pydantic V2.0 to be removed in V3.0. See Pydantic V2 Migration Guide at https://errors.pydantic.dev/2.10/migration/\n",
      "  warnings.warn(DEPRECATION_MESSAGE, DeprecationWarning)\n"
     ]
    }
   ],
   "source": [
    "import os\n",
    "os.chdir('..')\n",
    "\n",
    "# third party dependencies\n",
    "from langgraph.graph import END, StateGraph, START\n",
    "\n",
    "# local dependencies\n",
    "from notebooks import experiment_utils\n",
    "from app.core.container import Container\n",
    "from app.services.agent_types.adaptive_rag.agent import (\n",
    "    AgentState, \n",
    "    AdaptiveRagAgent\n",
    ")\n",
    "\n",
    "# start dependency injection container\n",
    "container = Container()\n",
    "container.init_resources()\n",
    "container.wire(modules=[__name__])"
   ]
  },
  {
   "cell_type": "code",
   "execution_count": 2,
   "metadata": {},
   "outputs": [],
   "source": [
    "# create ollama agent\n",
    "# agent_id = experiment_utils.create_ollama_agent(agent_type=\"adaptive_rag\")\n",
    "agent_id = '4c83fbb4-c4b8-475b-9a9d-031da527a5d9'"
   ]
  },
  {
   "cell_type": "code",
   "execution_count": 5,
   "metadata": {},
   "outputs": [],
   "source": [
    "# get agent instance\n",
    "adaptive_rag_agent = container.adaptive_rag_agent()\n",
    "\n",
    "# Create Graph\n",
    "workflow_builder = adaptive_rag_agent.get_workflow_builder(agent_id)"
   ]
  },
  {
   "cell_type": "code",
   "execution_count": 4,
   "metadata": {},
   "outputs": [],
   "source": [
    "# Nodes definition\n",
    "# workflow_builder.add_node(\"retrieve\", adaptive_rag_agent.retrieve)\n",
    "# workflow_builder.add_node(\"grade_documents\", adaptive_rag_agent.grade_documents)\n",
    "# workflow_builder.add_node(\"generate\", adaptive_rag_agent.generate)\n",
    "# workflow_builder.add_node(\"transform_query\", adaptive_rag_agent.transform_query)"
   ]
  },
  {
   "cell_type": "code",
   "execution_count": 6,
   "metadata": {},
   "outputs": [
    {
     "data": {
      "text/plain": [
       "<app.services.agent_types.adaptive_rag.agent.AdaptiveRagAgent at 0x752a7d791b90>"
      ]
     },
     "execution_count": 6,
     "metadata": {},
     "output_type": "execute_result"
    }
   ],
   "source": []
  },
  {
   "cell_type": "code",
   "execution_count": null,
   "metadata": {},
   "outputs": [],
   "source": []
  }
 ],
 "metadata": {
  "kernelspec": {
   "display_name": "dev",
   "language": "python",
   "name": "python3"
  },
  "language_info": {
   "codemirror_mode": {
    "name": "ipython",
    "version": 3
   },
   "file_extension": ".py",
   "mimetype": "text/x-python",
   "name": "python",
   "nbconvert_exporter": "python",
   "pygments_lexer": "ipython3",
   "version": "3.11.11"
  }
 },
 "nbformat": 4,
 "nbformat_minor": 2
}
