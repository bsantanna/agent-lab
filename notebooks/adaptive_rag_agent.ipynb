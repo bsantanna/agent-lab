{
 "cells": [
  {
   "cell_type": "markdown",
   "metadata": {},
   "source": [
    "### Agent-Lab: Adaptive RAG Agent\n",
    "\n",
    "---"
   ]
  },
  {
   "cell_type": "code",
   "metadata": {},
   "source": [
    "import os\n",
    "os.chdir('..')\n",
    "\n",
    "from notebooks import experiment_utils\n",
    "from app.core.container import Container\n",
    "\n",
    "# start dependency injection container\n",
    "container = Container()\n",
    "container.init_resources()\n",
    "container.wire(modules=[__name__])"
   ],
   "outputs": [],
   "execution_count": null
  },
  {
   "cell_type": "code",
   "metadata": {},
   "source": [
    "# create ollama agent\n",
    "# agent_id = experiment_utils.create_ollama_agent(agent_type=\"adaptive_rag\")\n",
    "agent_id = '4c83fbb4-c4b8-475b-9a9d-031da527a5d9'"
   ],
   "outputs": [],
   "execution_count": null
  },
  {
   "cell_type": "code",
   "metadata": {},
   "source": [
    "# get agent instance\n",
    "adaptive_rag_agent = container.adaptive_rag_agent()\n",
    "\n",
    "# Create Graph\n",
    "workflow_builder = adaptive_rag_agent.get_workflow_builder(agent_id)"
   ],
   "outputs": [],
   "execution_count": null
  },
  {
   "cell_type": "code",
   "metadata": {},
   "source": [
    "# Nodes definition\n",
    "# workflow_builder.add_node(\"retrieve\", adaptive_rag_agent.retrieve)\n",
    "# workflow_builder.add_node(\"grade_documents\", adaptive_rag_agent.grade_documents)\n",
    "# workflow_builder.add_node(\"generate\", adaptive_rag_agent.generate)\n",
    "# workflow_builder.add_node(\"transform_query\", adaptive_rag_agent.transform_query)"
   ],
   "outputs": [],
   "execution_count": null
  },
  {
   "cell_type": "code",
   "metadata": {},
   "source": [],
   "outputs": [],
   "execution_count": null
  }
 ],
 "metadata": {
  "kernelspec": {
   "display_name": "dev",
   "language": "python",
   "name": "python3"
  },
  "language_info": {
   "codemirror_mode": {
    "name": "ipython",
    "version": 3
   },
   "file_extension": ".py",
   "mimetype": "text/x-python",
   "name": "python",
   "nbconvert_exporter": "python",
   "pygments_lexer": "ipython3",
   "version": "3.11.11"
  }
 },
 "nbformat": 4,
 "nbformat_minor": 2
}
