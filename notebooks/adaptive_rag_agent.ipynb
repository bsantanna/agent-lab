{
 "cells": [
  {
   "cell_type": "markdown",
   "metadata": {},
   "source": [
    "# Agent-Lab \n",
    "\n",
    "## Adaptive RAG Agent\n",
    "\n",
    "### Setup \n",
    "\n",
    "```bash\n",
    "docker compose up -d\n",
    "``` "
   ]
  },
  {
   "cell_type": "code",
   "execution_count": null,
   "metadata": {},
   "outputs": [],
   "source": [
    "import os\n",
    "os.chdir('..')\n",
    "\n",
    "# third party dependencies\n",
    "from langgraph.graph import END, StateGraph, START\n",
    "\n",
    "# local dependencies\n",
    "from notebooks import experiment_utils\n",
    "from app.core.container import Container\n",
    "from app.services.agent_types.adaptive_rag.agent import (\n",
    "    AgentState, \n",
    "    AdaptiveRagAgent\n",
    ")"
   ]
  },
  {
   "cell_type": "code",
   "execution_count": null,
   "metadata": {},
   "outputs": [],
   "source": [
    "# start dependency injection container\n",
    "container = Container()\n",
    "container.init_resources()\n",
    "container.wire(modules=[__name__])\n",
    "\n",
    "# get agent instance\n",
    "adaptive_rag_agent = container.adaptive_rag_agent()"
   ]
  },
  {
   "cell_type": "code",
   "execution_count": 10,
   "metadata": {},
   "outputs": [],
   "source": [
    "# Nodes definition\n",
    "# workflow_builder.add_node(\"retrieve\", adaptive_rag_agent.retrieve)\n",
    "# workflow_builder.add_node(\"grade_documents\", adaptive_rag_agent.grade_documents)\n",
    "# workflow_builder.add_node(\"generate\", adaptive_rag_agent.generate)\n",
    "# workflow_builder.add_node(\"transform_query\", adaptive_rag_agent.transform_query)\n"
   ]
  }
 ],
 "metadata": {
  "kernelspec": {
   "display_name": "dev",
   "language": "python",
   "name": "python3"
  },
  "language_info": {
   "codemirror_mode": {
    "name": "ipython",
    "version": 3
   },
   "file_extension": ".py",
   "mimetype": "text/x-python",
   "name": "python",
   "nbconvert_exporter": "python",
   "pygments_lexer": "ipython3",
   "version": "3.11.11"
  }
 },
 "nbformat": 4,
 "nbformat_minor": 2
}
