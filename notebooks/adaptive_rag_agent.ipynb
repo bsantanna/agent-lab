{
 "cells": [
  {
   "cell_type": "markdown",
   "metadata": {},
   "source": [
    "### Agent-Lab: Adaptive RAG Agent\n",
    "\n",
    "Objective of this notebook is evaluating and adapting the implementation of [Adaptive RAG Agent](https://langchain-ai.github.io/langgraph/tutorials/rag/langgraph_adaptive_rag/).\n",
    "\n",
    "#### Preparation steps:\n",
    "\n",
    "Before executing the notebook perform the following preparation steps.\n",
    "\n",
    "1. Start Docker containers: `docker compose up -d --build`\n",
    "\n",
    "2. Verify application is up and running, with web browser: `http://localhost:18000/docs`\n",
    "\n",
    "3. Inside project root directory, create a `.env` file with env vars with correct values:\n",
    "\n",
    "    ```\n",
    "    OLLAMA_ENDPOINT=\"http://localhost:11434\"\n",
    "    OLLAMA_MODEL_TAG=\"mistral-small:24b\"\n",
    "    XAI_API_KEY=\"???\"\n",
    "    XAI_MODEL_TAG=\"grok-2-1212\"\n",
    "    ```\n",
    "\n",
    "---"
   ]
  },
  {
   "metadata": {},
   "cell_type": "code",
   "source": [
    "%%capture\n",
    "\n",
    "import os\n",
    "os.chdir('..')\n",
    "\n",
    "import warnings\n",
    "\n",
    "# Suppress all deprecation warnings\n",
    "warnings.simplefilter(\"ignore\", category=DeprecationWarning)\n",
    "warnings.simplefilter(\"ignore\", category=PendingDeprecationWarning)\n",
    "\n",
    "from dotenv import load_dotenv\n",
    "load_dotenv()\n",
    "\n",
    "from langchain import globals\n",
    "from notebooks import experiment_utils\n",
    "from app.core.container import Container\n",
    "from app.interface.api.messages.schema import MessageRequest\n",
    "\n",
    "# enable langchain debug\n",
    "# globals.set_debug(True)\n",
    "globals.set_verbose(True)\n",
    "\n",
    "# start dependency injection container\n",
    "container = Container()\n",
    "container.init_resources()\n",
    "container.wire(modules=[__name__])"
   ],
   "outputs": [],
   "execution_count": null
  },
  {
   "cell_type": "code",
   "metadata": {},
   "source": [
    "# create agent\n",
    "# agent_id = experiment_utils.create_ollama_agent(\n",
    "#     agent_type=\"adaptive_rag\",\n",
    "#     llm_tag=os.getenv(\"OLLAMA_MODEL_TAG\"),\n",
    "#     ollama_endpoint=os.getenv(\"OLLAMA_ENDPOINT\")\n",
    "#)\n",
    "\n",
    "agent_id = experiment_utils.create_xai_agent(\n",
    "    agent_type=\"adaptive_rag\",\n",
    "    llm_tag=os.getenv(\"XAI_MODEL_TAG\"),\n",
    "    api_key=os.getenv(\"XAI_API_KEY\")\n",
    ")"
   ],
   "outputs": [],
   "execution_count": null
  },
  {
   "metadata": {},
   "cell_type": "code",
   "source": [
    "# get agent instance\n",
    "adaptive_rag_agent = container.adaptive_rag_agent()\n",
    "\n",
    "# get checkpointer instance\n",
    "graph_persistence_factory = container.graph_persistence_factory()\n",
    "checkpointer = graph_persistence_factory.build_checkpoint_saver()\n",
    "\n",
    "# Create Graph\n",
    "workflow_builder = adaptive_rag_agent.get_workflow_builder(agent_id)\n",
    "workflow = workflow_builder.compile(checkpointer=checkpointer)"
   ],
   "outputs": [],
   "execution_count": null
  },
  {
   "metadata": {},
   "cell_type": "code",
   "source": "experiment_utils.print_graph(workflow)",
   "outputs": [],
   "execution_count": null
  },
  {
   "metadata": {},
   "cell_type": "code",
   "source": [
    "# get document repository instance and populate vectorstore with documents\n",
    "# document_repository = container.document_repository()\n",
    "# experiment_utils.create_static_document(\n",
    "#     embeddings_model=adaptive_rag_agent.get_embeddings_model(agent_id),\n",
    "#     document_repository=document_repository,\n",
    "#     file_path=\"tests/integration/sun_tzu_the_art_of_war.zip\"\n",
    "# )"
   ],
   "outputs": [],
   "execution_count": null
  },
  {
   "metadata": {},
   "cell_type": "code",
   "source": [
    "agent_config = {\n",
    "    \"configurable\": {\n",
    "        \"thread_id\": agent_id,\n",
    "    },\n",
    "    \"recursion_limit\": 30\n",
    "}"
   ],
   "outputs": [],
   "execution_count": null
  },
  {
   "metadata": {},
   "cell_type": "code",
   "source": [
    "%%capture\n",
    "\n",
    "message_content = (\n",
    "    \"You have access to this book 'The Art of War - Sun Tzu' available at static_document_data, \"\n",
    "    \"According to the book, what is the pinnacle of excellence? \"\n",
    ")\n",
    "\n",
    "message = MessageRequest(\n",
    "    message_role=\"human\",\n",
    "    message_content=message_content,\n",
    "    agent_id=agent_id\n",
    ")\n",
    "\n",
    "inputs = adaptive_rag_agent.get_input_params(message)\n",
    "result = workflow.invoke(inputs, agent_config)"
   ],
   "outputs": [],
   "execution_count": null
  },
  {
   "metadata": {},
   "cell_type": "code",
   "source": "print(result['generation'])",
   "outputs": [],
   "execution_count": null
  },
  {
   "metadata": {},
   "cell_type": "code",
   "source": [
    "%%capture\n",
    "\n",
    "message_content = (\n",
    "    \"Can you repeat my previous question about the art of war and answer it again but this time in dutch?\"\n",
    ")\n",
    "\n",
    "message = MessageRequest(\n",
    "    message_role=\"human\",\n",
    "    message_content=message_content,\n",
    "    agent_id=agent_id\n",
    ")\n",
    "\n",
    "inputs = adaptive_rag_agent.get_input_params(message)\n",
    "result = workflow.invoke(inputs, agent_config)"
   ],
   "outputs": [],
   "execution_count": null
  },
  {
   "metadata": {},
   "cell_type": "code",
   "source": "print(result['generation'])",
   "outputs": [],
   "execution_count": null
  },
  {
   "metadata": {},
   "cell_type": "code",
   "source": [
    "%%capture\n",
    "\n",
    "message_content = (\n",
    "    \"Kun je mijn vorige vraag en jouw antwoord herhalen maar dit keer in het Portugees?\"\n",
    ")\n",
    "\n",
    "message = MessageRequest(\n",
    "    message_role=\"human\",\n",
    "    message_content=message_content,\n",
    "    agent_id=agent_id\n",
    ")\n",
    "\n",
    "inputs = adaptive_rag_agent.get_input_params(message)\n",
    "result = workflow.invoke(inputs, agent_config)"
   ],
   "outputs": [],
   "execution_count": null
  },
  {
   "metadata": {},
   "cell_type": "code",
   "source": "print(result['generation'])",
   "outputs": [],
   "execution_count": null
  },
  {
   "metadata": {},
   "cell_type": "code",
   "source": [
    "print(f\"\\nHistory:\\n---\")\n",
    "for message in result['messages']:\n",
    "    print(f\"{message}\\n---\")"
   ],
   "outputs": [],
   "execution_count": null
  },
  {
   "metadata": {},
   "cell_type": "code",
   "source": "",
   "outputs": [],
   "execution_count": null
  }
 ],
 "metadata": {
  "kernelspec": {
   "display_name": "dev",
   "language": "python",
   "name": "python3"
  },
  "language_info": {
   "codemirror_mode": {
    "name": "ipython",
    "version": 3
   },
   "file_extension": ".py",
   "mimetype": "text/x-python",
   "name": "python",
   "nbconvert_exporter": "python",
   "pygments_lexer": "ipython3",
   "version": "3.11.11"
  }
 },
 "nbformat": 4,
 "nbformat_minor": 2
}
