{
 "cells": [
  {
   "cell_type": "markdown",
   "id": "5574425a3bb18652",
   "metadata": {},
   "source": [
    "### Agent-Lab: Multi-Agent -> Browser\n",
    "\n",
    "Objective of this notebook is evaluating and adapting a [Multi-Agent Supervisor Architecture](https://langchain-ai.github.io/langgraph/concepts/multi_agent/#supervisor) with coordinator and execution planning steps.\n",
    "\n",
    "---\n"
   ]
  },
  {
   "cell_type": "code",
   "execution_count": 1,
   "id": "initial_id",
   "metadata": {
    "ExecuteTime": {
     "end_time": "2025-09-05T14:34:37.176628Z",
     "start_time": "2025-09-05T14:34:34.595637Z"
    }
   },
   "outputs": [],
   "source": [
    "%%capture\n",
    "import json\n",
    "import os\n",
    "import nest_asyncio\n",
    "from IPython.display import Markdown, display\n",
    "from dotenv import load_dotenv\n",
    "from notebooks import experiment_utils\n",
    "from app.core.container import Container\n",
    "from app.interface.api.messages.schema import MessageRequest\n",
    "\n",
    "\n",
    "os.chdir(\"..\")\n",
    "load_dotenv()\n",
    "nest_asyncio.apply()\n",
    "\n",
    "# start dependency injection container\n",
    "container = Container()\n",
    "container.init_resources()\n",
    "container.wire(modules=[__name__])\n",
    "\n",
    "# get checkpointer instance\n",
    "graph_persistence_factory = container.graph_persistence_factory()\n",
    "checkpointer = graph_persistence_factory.build_checkpoint_saver()"
   ]
  },
  {
   "cell_type": "markdown",
   "id": "2e69a13ddec02d61",
   "metadata": {},
   "source": [
    "---\n",
    "### Anthropic Browser"
   ]
  },
  {
   "cell_type": "code",
   "execution_count": 2,
   "id": "effb2a4a66f79ddd",
   "metadata": {
    "ExecuteTime": {
     "end_time": "2025-09-05T14:34:37.401290Z",
     "start_time": "2025-09-05T14:34:37.181482Z"
    }
   },
   "outputs": [],
   "source": [
    "# Create Workflow\n",
    "anthropic_agent = experiment_utils.create_anthropic_agent(\n",
    "    agent_type=\"coordinator_planner_supervisor\", llm_tag=\"claude-sonnet-4-0\", api_key=os.getenv(\"ANTHROPIC_API_KEY\")\n",
    ")\n",
    "anthropic_browser_agent = container.coordinator_planner_supervisor_agent()\n",
    "anthropic_workflow_builder = anthropic_browser_agent.get_workflow_builder(anthropic_agent[\"id\"])\n",
    "anthropic_workflow = anthropic_workflow_builder.compile(checkpointer=checkpointer)"
   ]
  },
  {
   "cell_type": "code",
   "execution_count": 3,
   "id": "863e96a21b963e53",
   "metadata": {
    "ExecuteTime": {
     "end_time": "2025-09-05T14:36:02.861292Z",
     "start_time": "2025-09-05T14:34:37.406904Z"
    }
   },
   "outputs": [],
   "source": [
    "%%capture\n",
    "\n",
    "message = MessageRequest(\n",
    "    message_role=\"human\",\n",
    "    message_content=\"Visit https://en.wikipedia.org/wiki/Mathematical_finance and rewrite the first paragraph in a simpler way that a 12 year old would understand.\",\n",
    "    agent_id=anthropic_agent[\"id\"],\n",
    ")\n",
    "\n",
    "inputs = anthropic_browser_agent.get_input_params(message, schema=\"public\")\n",
    "config = anthropic_browser_agent.get_config(anthropic_agent[\"id\"])\n",
    "result = anthropic_workflow.invoke(inputs, config)\n",
    "ai_message_content, workflow_state = anthropic_browser_agent.format_response(result)"
   ]
  },
  {
   "cell_type": "code",
   "execution_count": 4,
   "id": "d79eb6031ba16b4",
   "metadata": {
    "ExecuteTime": {
     "end_time": "2025-09-05T14:36:02.926958Z",
     "start_time": "2025-09-05T14:36:02.922190Z"
    }
   },
   "outputs": [
    {
     "data": {
      "text/markdown": [
       "**Execution Plan:**\n",
       "```json\n",
       "{\n",
       "  \"thought\": \"The user wants me to visit a specific Wikipedia page about Mathematical finance and then rewrite the first paragraph in a way that a 12-year-old would understand. This involves two main tasks: 1) Using the browser agent to visit the Wikipedia page and extract the first paragraph, and 2) Using the reporter agent to rewrite that content in simpler language suitable for a 12-year-old audience.\",\n",
       "  \"title\": \"Simplify Mathematical Finance Wikipedia Article for 12-Year-Olds\",\n",
       "  \"steps\": [\n",
       "    {\n",
       "      \"agent_name\": \"browser\",\n",
       "      \"title\": \"Extract First Paragraph from Mathematical Finance Wikipedia Page\",\n",
       "      \"description\": \"Visit https://en.wikipedia.org/wiki/Mathematical_finance and extract the first paragraph of the article. The browser agent should navigate to the page, locate the first paragraph of content, and provide the exact text for rewriting.\"\n",
       "    },\n",
       "    {\n",
       "      \"agent_name\": \"reporter\",\n",
       "      \"title\": \"Rewrite Content for 12-Year-Old Understanding\",\n",
       "      \"description\": \"Take the first paragraph extracted from the Wikipedia page and rewrite it in simple, clear language that a 12-year-old would easily understand. Use everyday words, shorter sentences, and relatable examples while maintaining the core meaning of the original content.\"\n",
       "    }\n",
       "  ]\n",
       "}\n",
       "```"
      ],
      "text/plain": [
       "<IPython.core.display.Markdown object>"
      ]
     },
     "jetTransient": {
      "display_id": null
     },
     "metadata": {},
     "output_type": "display_data"
    }
   ],
   "source": [
    "display(\n",
    "    Markdown(\n",
    "        f\"**Execution Plan:**\\n```json\\n{json.dumps(workflow_state.get(\"execution_plan\"), indent=2)}\\n```\"\n",
    "    )\n",
    ")"
   ]
  },
  {
   "cell_type": "code",
   "execution_count": 5,
   "id": "c74e31e3a141ce8f",
   "metadata": {
    "ExecuteTime": {
     "end_time": "2025-09-05T14:36:02.943749Z",
     "start_time": "2025-09-05T14:36:02.939687Z"
    }
   },
   "outputs": [
    {
     "data": {
      "text/markdown": [
       "**AI Message Content:**\n",
       "\n",
       "Now let me rewrite this paragraph in a way that a 12-year-old would understand:\n",
       "\n",
       "**Original paragraph:**\n",
       "\"Mathematical finance, also known as quantitative finance and financial mathematics, is a field of applied mathematics, concerned with mathematical modeling in the financial field.\"\n",
       "\n",
       "**Simplified version for a 12-year-old:**\n",
       "\n",
       "Mathematical finance is like using math to understand money and how it works. It has other names too, like \"quantitative finance\" (which just means using numbers and math to study finance) and \"financial mathematics.\" \n",
       "\n",
       "Basically, it's when really smart people use math equations and formulas to figure out things like:\n",
       "- How much money you might make or lose when you invest\n",
       "- How much things will cost in the future\n",
       "- How banks and companies should handle their money\n",
       "\n",
       "Think of it like this: if regular math helps you figure out how much change you'll get at the store, mathematical finance uses much more complicated math to help grown-ups make smart decisions about really big amounts of money - like when banks decide who to lend money to, or when companies try to predict if their stock prices will go up or down.\n",
       "\n",
       "It's basically using math as a tool to solve money puzzles!"
      ],
      "text/plain": [
       "<IPython.core.display.Markdown object>"
      ]
     },
     "jetTransient": {
      "display_id": null
     },
     "metadata": {},
     "output_type": "display_data"
    }
   ],
   "source": [
    "display(Markdown(f\"**AI Message Content:**\\n\\n{ai_message_content}\"))"
   ]
  },
  {
   "cell_type": "markdown",
   "id": "e894715db6e9c66d",
   "metadata": {},
   "source": [
    "---\n",
    "### OpenAI Browser"
   ]
  },
  {
   "cell_type": "code",
   "execution_count": 19,
   "id": "7f0dd3c8f93728e3",
   "metadata": {
    "ExecuteTime": {
     "end_time": "2025-09-05T14:44:42.557115Z",
     "start_time": "2025-09-05T14:44:42.386236Z"
    }
   },
   "outputs": [],
   "source": [
    "# Create Workflow\n",
    "openai_agent = experiment_utils.create_openai_agent(\n",
    "    agent_type=\"coordinator_planner_supervisor\", llm_tag=\"gpt-5-nano\", api_key=os.getenv(\"OPENAI_API_KEY\")\n",
    ")\n",
    "openai_browser_agent = container.coordinator_planner_supervisor_agent()\n",
    "openai_workflow_builder = openai_browser_agent.get_workflow_builder(openai_agent[\"id\"])\n",
    "openai_workflow = openai_workflow_builder.compile(checkpointer=checkpointer)"
   ]
  },
  {
   "cell_type": "code",
   "execution_count": 20,
   "id": "e0b234faa3d4627",
   "metadata": {
    "ExecuteTime": {
     "end_time": "2025-09-05T14:46:36.849993Z",
     "start_time": "2025-09-05T14:44:42.690490Z"
    }
   },
   "outputs": [],
   "source": [
    "%%capture\n",
    "\n",
    "message = MessageRequest(\n",
    "    message_role=\"human\",\n",
    "    message_content=\"Visit https://en.wikipedia.org/wiki/Mathematical_finance write an executive summary from the first paragraph in a simpler way that a 12 year old would understand.\",\n",
    "    agent_id=openai_agent[\"id\"],\n",
    ")\n",
    "\n",
    "inputs = openai_browser_agent.get_input_params(message, schema=\"public\")\n",
    "config = openai_browser_agent.get_config(openai_agent[\"id\"])\n",
    "result = openai_workflow.invoke(inputs, config)\n",
    "ai_message_content, workflow_state = openai_browser_agent.format_response(result)"
   ]
  },
  {
   "cell_type": "code",
   "execution_count": 21,
   "id": "c49885bf44868bef",
   "metadata": {
    "ExecuteTime": {
     "end_time": "2025-09-05T14:46:36.884559Z",
     "start_time": "2025-09-05T14:46:36.880917Z"
    }
   },
   "outputs": [
    {
     "data": {
      "text/markdown": [
       "**Execution Plan:**\n",
       "```json\n",
       "{\n",
       "  \"thought\": \"I will restate the user's requirement, plan steps with assigned agents, and ensure math tasks go to the coder when needed. The goal is to fetch the first paragraph from the Wikipedia page on Mathematical finance, then distill it into a simple executive summary suitable for a 12-year-old, and finally present a professional report.\",\n",
       "  \"title\": \"Executive summary of Mathematical finance (first paragraph) simplified for a 12-year-old\",\n",
       "  \"steps\": [\n",
       "    {\n",
       "      \"agent_name\": \"browser\",\n",
       "      \"title\": \"Fetch first paragraph from Wikipedia\",\n",
       "      \"description\": \"Visit https://en.wikipedia.org/wiki/Mathematical_finance and extract the first paragraph of the article.\",\n",
       "      \"note\": \"Direct interaction with the web page; avoid quoting verbatim in final summary.\"\n",
       "    },\n",
       "    {\n",
       "      \"agent_name\": \"researcher\",\n",
       "      \"title\": \"Summarize for a 12-year-old\",\n",
       "      \"description\": \"Take the first paragraph text from the browser step and rewrite it in simple, kid-friendly terms. Emphasize that math is used to understand money and markets, pricing, and risk.\",\n",
       "      \"note\": \"No heavy math; keep language accessible to a 12-year-old.\"\n",
       "    },\n",
       "    {\n",
       "      \"agent_name\": \"reporter\",\n",
       "      \"title\": \"Prepare final executive report\",\n",
       "      \"description\": \"Produce a concise executive report presenting the simplified summary intended for a general audience and a 12-year-old reader.\",\n",
       "      \"note\": \"Format as a short executive summary suitable for decision-makers and educators alike.\"\n",
       "    }\n",
       "  ]\n",
       "}\n",
       "```"
      ],
      "text/plain": [
       "<IPython.core.display.Markdown object>"
      ]
     },
     "jetTransient": {
      "display_id": null
     },
     "metadata": {},
     "output_type": "display_data"
    }
   ],
   "source": [
    "display(\n",
    "    Markdown(\n",
    "        f\"**Execution Plan:**\\n```json\\n{json.dumps(workflow_state.get(\"execution_plan\"), indent=2)}\\n```\"\n",
    "    )\n",
    ")"
   ]
  },
  {
   "cell_type": "code",
   "execution_count": 22,
   "id": "c7a1affb5ab8448",
   "metadata": {
    "ExecuteTime": {
     "end_time": "2025-09-05T14:46:36.905969Z",
     "start_time": "2025-09-05T14:46:36.901661Z"
    }
   },
   "outputs": [
    {
     "data": {
      "text/markdown": [
       "**AI Message Content:**\n",
       "\n",
       "Executive summary\n",
       "- Mathematical finance is a branch of applied math that uses math to study money and financial markets. It highlights two main areas that use advanced math: pricing financial contracts that depend on other assets (derivatives) and managing risk and investments (portfolio management). It is also known as quantitative finance and financial mathematics.\n",
       "\n",
       "Key findings\n",
       "- Also known as: quantitative finance and financial mathematics.\n",
       "- Field type: a branch of applied mathematics.\n",
       "- Core activity: mathematical modeling in finance.\n",
       "- Two main areas requiring advanced math:\n",
       "  - Derivatives pricing (how much complex financial contracts should cost).\n",
       "  - Risk and portfolio management (assessing and managing investment risk).\n",
       "\n",
       "Detailed analysis\n",
       "- Simplified restatement for a younger audience:\n",
       "  - Mathematical finance uses math to understand money and markets.\n",
       "  - It focuses on two big problems that need strong math: figuring out the price of contracts based on assets (like options) and deciding how to handle risk and build investment portfolios.\n",
       "\n",
       "Conclusions and recommendations\n",
       "- This summary captures the first paragraph in plain language suitable for a 12-year-old.\n",
       "- For a fuller understanding, additional sections of the article should be consulted; information beyond the first paragraph was not provided here.\n",
       "- Source: Wikipedia, Mathematical finance (first paragraph)."
      ],
      "text/plain": [
       "<IPython.core.display.Markdown object>"
      ]
     },
     "jetTransient": {
      "display_id": null
     },
     "metadata": {},
     "output_type": "display_data"
    }
   ],
   "source": [
    "display(Markdown(f\"**AI Message Content:**\\n\\n{ai_message_content}\"))"
   ]
  },
  {
   "cell_type": "code",
   "execution_count": null,
   "id": "6c256dd795e8da55",
   "metadata": {},
   "outputs": [],
   "source": []
  }
 ],
 "metadata": {
  "kernelspec": {
   "display_name": "Python 3 (ipykernel)",
   "language": "python",
   "name": "python3"
  },
  "language_info": {
   "codemirror_mode": {
    "name": "ipython",
    "version": 3
   },
   "file_extension": ".py",
   "mimetype": "text/x-python",
   "name": "python",
   "nbconvert_exporter": "python",
   "pygments_lexer": "ipython3",
   "version": "3.12.11"
  }
 },
 "nbformat": 4,
 "nbformat_minor": 5
}
