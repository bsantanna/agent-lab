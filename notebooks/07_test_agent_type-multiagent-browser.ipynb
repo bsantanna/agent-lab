{
 "cells": [
  {
   "cell_type": "markdown",
   "id": "5574425a3bb18652",
   "metadata": {},
   "source": [
    "### Agent-Lab: Multi-Agent -> Browser\n",
    "\n",
    "Objective of this notebook is evaluating and adapting a [Multi-Agent Supervisor Architecture](https://langchain-ai.github.io/langgraph/concepts/multi_agent/#supervisor) with coordinator and execution planning steps.\n",
    "\n",
    "---\n"
   ]
  },
  {
   "cell_type": "code",
   "id": "initial_id",
   "metadata": {},
   "source": [
    "%%capture\n",
    "\n",
    "import json\n",
    "import os\n",
    "\n",
    "os.chdir(\"..\")\n",
    "\n",
    "from IPython.display import Markdown, display\n",
    "\n",
    "from dotenv import load_dotenv\n",
    "\n",
    "load_dotenv()\n",
    "\n",
    "from notebooks import experiment_utils\n",
    "from app.core.container import Container\n",
    "from app.interface.api.messages.schema import MessageRequest\n",
    "\n",
    "# graph rendering\n",
    "import nest_asyncio\n",
    "\n",
    "nest_asyncio.apply()\n",
    "\n",
    "# start dependency injection container\n",
    "container = Container()\n",
    "container.init_resources()\n",
    "container.wire(modules=[__name__])\n",
    "\n",
    "# get checkpointer instance\n",
    "graph_persistence_factory = container.graph_persistence_factory()\n",
    "checkpointer = graph_persistence_factory.build_checkpoint_saver()"
   ],
   "outputs": [],
   "execution_count": null
  },
  {
   "cell_type": "markdown",
   "id": "2e69a13ddec02d61",
   "metadata": {},
   "source": [
    "---\n",
    "### Anthropic Browser"
   ]
  },
  {
   "cell_type": "code",
   "id": "effb2a4a66f79ddd",
   "metadata": {},
   "source": [
    "# Create Workflow\n",
    "anthropic_agent = experiment_utils.create_anthropic_agent(\n",
    "    agent_type=\"coordinator_planner_supervisor\", llm_tag=\"claude-sonnet-4-0\", api_key=os.getenv(\"ANTHROPIC_API_KEY\")\n",
    ")\n",
    "anthropic_browser_agent = container.coordinator_planner_supervisor_agent()\n",
    "anthropic_workflow_builder = anthropic_browser_agent.get_workflow_builder(anthropic_agent[\"id\"])\n",
    "anthropic_workflow = anthropic_workflow_builder.compile(checkpointer=checkpointer)"
   ],
   "outputs": [],
   "execution_count": null
  },
  {
   "cell_type": "code",
   "id": "863e96a21b963e53",
   "metadata": {},
   "source": [
    "%%capture\n",
    "\n",
    "message = MessageRequest(\n",
    "    message_role=\"human\",\n",
    "    message_content=\"Using the browser, visit https://agent-lab.btech.software/docs and describe the endpoints of the REST API\",\n",
    "    agent_id=anthropic_agent[\"id\"],\n",
    ")\n",
    "\n",
    "inputs = anthropic_browser_agent.get_input_params(message, schema=\"public\")\n",
    "config = anthropic_browser_agent.get_config(anthropic_agent[\"id\"])\n",
    "result = anthropic_workflow.invoke(inputs, config)\n",
    "ai_message_content, workflow_state = anthropic_browser_agent.format_response(result)"
   ],
   "outputs": [],
   "execution_count": null
  },
  {
   "cell_type": "code",
   "id": "d79eb6031ba16b4",
   "metadata": {},
   "source": [
    "display(\n",
    "    Markdown(\n",
    "        f\"**Execution Plan:**\\n```json\\n{json.dumps(workflow_state.get(\"execution_plan\"), indent=2)}\\n```\"\n",
    "    )\n",
    ")"
   ],
   "outputs": [],
   "execution_count": null
  },
  {
   "cell_type": "code",
   "id": "c74e31e3a141ce8f",
   "metadata": {},
   "source": [
    "display(Markdown(f\"**AI Message Content:**\\n\\n{ai_message_content}\"))"
   ],
   "outputs": [],
   "execution_count": null
  },
  {
   "metadata": {},
   "cell_type": "markdown",
   "source": [
    "---\n",
    "### OpenAI Browser"
   ],
   "id": "e894715db6e9c66d"
  },
  {
   "metadata": {},
   "cell_type": "code",
   "outputs": [],
   "execution_count": null,
   "source": [
    "# Create Workflow\n",
    "openai_agent = experiment_utils.create_openai_agent(\n",
    "    agent_type=\"coordinator_planner_supervisor\", llm_tag=\"gpt-5-nano\", api_key=os.getenv(\"OPENAI_API_KEY\")\n",
    ")\n",
    "openai_browser_agent = container.coordinator_planner_supervisor_agent()\n",
    "openai_workflow_builder = openai_browser_agent.get_workflow_builder(openai_agent[\"id\"])\n",
    "openai_workflow = openai_workflow_builder.compile(checkpointer=checkpointer)"
   ],
   "id": "7f0dd3c8f93728e3"
  },
  {
   "metadata": {},
   "cell_type": "code",
   "outputs": [],
   "execution_count": null,
   "source": [
    "%%capture\n",
    "\n",
    "message = MessageRequest(\n",
    "    message_role=\"human\",\n",
    "    message_content=\"Using the browser, visit https://agent-lab.btech.software/docs and describe the endpoints of the REST API\",\n",
    "    agent_id=openai_agent[\"id\"],\n",
    ")\n",
    "\n",
    "inputs = openai_browser_agent.get_input_params(message, schema=\"public\")\n",
    "config = openai_browser_agent.get_config(openai_agent[\"id\"])\n",
    "result = openai_workflow.invoke(inputs, config)\n",
    "ai_message_content, workflow_state = openai_browser_agent.format_response(result)"
   ],
   "id": "e0b234faa3d4627"
  },
  {
   "metadata": {},
   "cell_type": "code",
   "outputs": [],
   "execution_count": null,
   "source": [
    "display(\n",
    "    Markdown(\n",
    "        f\"**Execution Plan:**\\n```json\\n{json.dumps(workflow_state.get(\"execution_plan\"), indent=2)}\\n```\"\n",
    "    )\n",
    ")"
   ],
   "id": "c49885bf44868bef"
  },
  {
   "cell_type": "code",
   "id": "c7a1affb5ab8448",
   "metadata": {},
   "source": [
    "display(Markdown(f\"**AI Message Content:**\\n\\n{ai_message_content}\"))"
   ],
   "outputs": [],
   "execution_count": null
  },
  {
   "cell_type": "code",
   "id": "6c256dd795e8da55",
   "metadata": {},
   "source": [],
   "outputs": [],
   "execution_count": null
  }
 ],
 "metadata": {
  "kernelspec": {
   "display_name": "Python 3 (ipykernel)",
   "language": "python",
   "name": "python3"
  },
  "language_info": {
   "codemirror_mode": {
    "name": "ipython",
    "version": 3
   },
   "file_extension": ".py",
   "mimetype": "text/x-python",
   "name": "python",
   "nbconvert_exporter": "python",
   "pygments_lexer": "ipython3",
   "version": "3.12.11"
  }
 },
 "nbformat": 4,
 "nbformat_minor": 5
}
