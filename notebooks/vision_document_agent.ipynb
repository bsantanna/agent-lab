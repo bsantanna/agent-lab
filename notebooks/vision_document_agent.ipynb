{
 "cells": [
  {
   "metadata": {},
   "cell_type": "markdown",
   "source": [
    "### Agent-Lab: Vision Document Agent\n",
    "\n",
    "Objective of this notebook is evaluating and adapting the implementation of [Multi-modal Agent](https://python.langchain.com/docs/integrations/llms/ollama/#multi-modal) specialized on documents.\n",
    "\n",
    "#### Preparation steps:\n",
    "\n",
    "Before executing the notebook perform the following preparation steps.\n",
    "\n",
    "1. Start Docker containers: `docker compose up -d --build`\n",
    "\n",
    "2. Verify application is up and running, with web browser: `http://localhost:18000/docs`\n",
    "\n",
    "3. Inside project root directory, create a `.env` file with env vars with correct values:\n",
    "\n",
    "    ```\n",
    "    DEVELOPING=\"True\"\n",
    "    OLLAMA_ENDPOINT=\"http://localhost:11434\"\n",
    "    ```\n",
    "\n",
    "---"
   ],
   "id": "64f16bc9dac3dcc0"
  },
  {
   "cell_type": "code",
   "id": "initial_id",
   "metadata": {
    "collapsed": true,
    "ExecuteTime": {
     "end_time": "2025-03-22T12:18:57.176645Z",
     "start_time": "2025-03-22T12:18:53.441579Z"
    }
   },
   "source": [
    "%%capture\n",
    "\n",
    "import os\n",
    "os.chdir('..')\n",
    "\n",
    "from dotenv import load_dotenv\n",
    "load_dotenv()\n",
    "\n",
    "from notebooks import experiment_utils\n",
    "from app.core.container import Container\n",
    "from app.interface.api.messages.schema import MessageRequest\n",
    "\n",
    "# start dependency injection container\n",
    "container = Container()\n",
    "container.init_resources()\n",
    "container.wire(modules=[__name__])"
   ],
   "outputs": [],
   "execution_count": 1
  },
  {
   "metadata": {
    "ExecuteTime": {
     "end_time": "2025-03-22T12:18:57.369970Z",
     "start_time": "2025-03-22T12:18:57.301005Z"
    }
   },
   "cell_type": "code",
   "source": [
    "# create agent\n",
    "agent = experiment_utils.create_ollama_agent(\n",
    "    agent_type=\"vision_document\",\n",
    "    llm_tag=\"granite3.2-vision:latest\",\n",
    "    ollama_endpoint=os.getenv(\"OLLAMA_ENDPOINT\")\n",
    ")\n",
    "\n",
    "# create first attachment\n",
    "first_attachment_id = experiment_utils.create_attachment(\n",
    "    file_path=\"tests/integration/vision_document_01.png\",\n",
    "    content_type=\"image/png\"\n",
    ")\n",
    "\n",
    "# create second attachment\n",
    "second_attachment_id = experiment_utils.create_attachment(\n",
    "    file_path=\"tests/integration/vision_document_02.png\",\n",
    "    content_type=\"image/png\"\n",
    ")"
   ],
   "id": "4c0e45f16ded36f8",
   "outputs": [],
   "execution_count": 2
  },
  {
   "metadata": {
    "ExecuteTime": {
     "end_time": "2025-03-22T12:18:58.234268Z",
     "start_time": "2025-03-22T12:18:57.376666Z"
    }
   },
   "cell_type": "code",
   "source": [
    "# get agent instance\n",
    "vision_document_agent = container.vision_document_agent()\n",
    "\n",
    "# get checkpointer instance\n",
    "graph_persistence_factory = container.graph_persistence_factory()\n",
    "checkpointer = graph_persistence_factory.build_checkpoint_saver()\n",
    "\n",
    "# Create Graph\n",
    "workflow_builder = vision_document_agent.get_workflow_builder(agent[\"id\"])\n",
    "workflow = workflow_builder.compile(checkpointer=checkpointer)\n",
    "experiment_utils.print_graph(workflow)"
   ],
   "id": "84030190a9309044",
   "outputs": [
    {
     "data": {
      "image/png": "[encoded data removed]",
      "text/plain": [
       "<IPython.core.display.Image object>"
      ]
     },
     "metadata": {},
     "output_type": "display_data"
    }
   ],
   "execution_count": 3
  },
  {
   "metadata": {
    "ExecuteTime": {
     "end_time": "2025-03-22T12:18:58.409596Z",
     "start_time": "2025-03-22T12:18:58.400277Z"
    }
   },
   "cell_type": "code",
   "source": [
    "agent_config = {\n",
    "    \"configurable\": {\n",
    "        \"thread_id\": agent[\"id\"],\n",
    "    },\n",
    "    \"recursion_limit\": 30\n",
    "}"
   ],
   "id": "a7a69fedb232edff",
   "outputs": [],
   "execution_count": 4
  },
  {
   "metadata": {
    "ExecuteTime": {
     "end_time": "2025-03-22T12:22:09.542151Z",
     "start_time": "2025-03-22T12:20:10.217935Z"
    }
   },
   "cell_type": "code",
   "source": [
    "%%capture\n",
    "\n",
    "message = MessageRequest(\n",
    "    message_role=\"human\",\n",
    "    message_content=\"Describe this image, generate data for study material. You can use up to three paragraphs to describe.\",\n",
    "    agent_id=agent[\"id\"],\n",
    "    attachment_id=first_attachment_id\n",
    ")\n",
    "\n",
    "inputs = vision_document_agent.get_input_params(message)\n",
    "result = workflow.invoke(inputs, agent_config)"
   ],
   "id": "9f3a49cff851703",
   "outputs": [],
   "execution_count": 6
  },
  {
   "metadata": {},
   "cell_type": "code",
   "source": "print(result.keys())",
   "id": "4056f931508d3b0",
   "outputs": [],
   "execution_count": null
  },
  {
   "metadata": {},
   "cell_type": "code",
   "source": "print(result['generation'])",
   "id": "bd8b66c8eed5f4d6",
   "outputs": [],
   "execution_count": null
  },
  {
   "metadata": {},
   "cell_type": "code",
   "source": [
    "%%capture\n",
    "\n",
    "message = MessageRequest(\n",
    "    message_role=\"human\",\n",
    "    message_content=\"Describe this image, generate data for study material. You can use up to three paragraphs to describe.\",\n",
    "    agent_id=agent[\"id\"],\n",
    "    attachment_id=second_attachment_id\n",
    ")\n",
    "\n",
    "inputs = vision_document_agent.get_input_params(message)\n",
    "result = workflow.invoke(inputs, agent_config)"
   ],
   "id": "4f7c7da516558e0f",
   "outputs": [],
   "execution_count": null
  },
  {
   "metadata": {},
   "cell_type": "code",
   "source": "print(result['generation'])",
   "id": "c473871e4ce94b96",
   "outputs": [],
   "execution_count": null
  },
  {
   "metadata": {},
   "cell_type": "code",
   "source": "",
   "id": "b439535b73b4d5a2",
   "outputs": [],
   "execution_count": null
  }
 ],
 "metadata": {
  "kernelspec": {
   "display_name": "Python 3",
   "language": "python",
   "name": "python3"
  },
  "language_info": {
   "codemirror_mode": {
    "name": "ipython",
    "version": 2
   },
   "file_extension": ".py",
   "mimetype": "text/x-python",
   "name": "python",
   "nbconvert_exporter": "python",
   "pygments_lexer": "ipython2",
   "version": "2.7.6"
  }
 },
 "nbformat": 4,
 "nbformat_minor": 5
}
