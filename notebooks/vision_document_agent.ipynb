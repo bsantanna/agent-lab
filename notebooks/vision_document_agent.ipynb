{
 "cells": [
  {
   "metadata": {},
   "cell_type": "markdown",
   "source": [
    "### Agent-Lab: Vision Document Agent\n",
    "\n",
    "Objective of this notebook is evaluating and adapting the implementation of [Multi-modal Agent](https://python.langchain.com/docs/integrations/llms/ollama/#multi-modal) specialized on documents.\n",
    "\n",
    "#### Preparation steps:\n",
    "\n",
    "Before executing the notebook perform the following preparation steps.\n",
    "\n",
    "1. Start Docker containers: `docker compose up -d --build`\n",
    "\n",
    "2. Verify application is up and running, with web browser: `http://localhost:18000/docs`\n",
    "\n",
    "3. Inside project root directory, create a `.env` file with env vars with correct values:\n",
    "\n",
    "    ```\n",
    "    OLLAMA_ENDPOINT=\"http://localhost:11434\"\n",
    "    OLLAMA_MODEL_TAG=\"llama3.2-vision:latest\"\n",
    "    ```\n",
    "\n",
    "---"
   ],
   "id": "64f16bc9dac3dcc0"
  },
  {
   "cell_type": "code",
   "id": "initial_id",
   "metadata": {
    "collapsed": true,
    "ExecuteTime": {
     "end_time": "2025-02-25T20:17:35.046367Z",
     "start_time": "2025-02-25T20:17:32.341733Z"
    }
   },
   "source": [
    "%%capture\n",
    "\n",
    "import os\n",
    "os.chdir('..')\n",
    "\n",
    "from dotenv import load_dotenv\n",
    "load_dotenv()\n",
    "\n",
    "from notebooks import experiment_utils\n",
    "from app.core.container import Container\n",
    "from app.interface.api.messages.schema import MessageRequest\n",
    "\n",
    "# start dependency injection container\n",
    "container = Container()\n",
    "container.init_resources()\n",
    "container.wire(modules=[__name__])"
   ],
   "outputs": [],
   "execution_count": 1
  },
  {
   "metadata": {
    "ExecuteTime": {
     "end_time": "2025-02-25T20:17:35.113379Z",
     "start_time": "2025-02-25T20:17:35.051290Z"
    }
   },
   "cell_type": "code",
   "source": [
    "# create agent\n",
    "agent_id = experiment_utils.create_ollama_agent(\n",
    "    agent_type=\"vision_document\",\n",
    "    llm_tag=\"minicpm-v:latest\",\n",
    "    ollama_endpoint=os.getenv(\"OLLAMA_ENDPOINT\")\n",
    ")\n",
    "\n",
    "# create first attachment\n",
    "first_attachment_id = experiment_utils.create_attachment(\n",
    "    file_path=\"tests/integration/vision_document_01.png\",\n",
    "    content_type=\"image/png\"\n",
    ")\n",
    "\n",
    "# create second attachment\n",
    "second_attachment_id = experiment_utils.create_attachment(\n",
    "    file_path=\"tests/integration/vision_document_02.png\",\n",
    "    content_type=\"image/png\"\n",
    ")"
   ],
   "id": "4c0e45f16ded36f8",
   "outputs": [],
   "execution_count": 2
  },
  {
   "metadata": {
    "ExecuteTime": {
     "end_time": "2025-02-25T20:17:36.007705Z",
     "start_time": "2025-02-25T20:17:35.196687Z"
    }
   },
   "cell_type": "code",
   "source": [
    "# get agent instance\n",
    "vision_document_agent = container.vision_document_agent()\n",
    "\n",
    "# get checkpointer instance\n",
    "graph_persistence_factory = container.graph_persistence_factory()\n",
    "checkpointer = graph_persistence_factory.build_checkpoint_saver()\n",
    "\n",
    "# Create Graph\n",
    "workflow_builder = vision_document_agent.get_workflow_builder(agent_id)\n",
    "workflow = workflow_builder.compile(checkpointer=checkpointer)\n",
    "experiment_utils.print_graph(workflow)"
   ],
   "id": "84030190a9309044",
   "outputs": [
    {
     "data": {
      "image/png": "[encoded data removed]",
      "text/plain": [
       "<IPython.core.display.Image object>"
      ]
     },
     "metadata": {},
     "output_type": "display_data"
    }
   ],
   "execution_count": 3
  },
  {
   "metadata": {
    "ExecuteTime": {
     "end_time": "2025-02-25T20:17:36.022372Z",
     "start_time": "2025-02-25T20:17:36.020130Z"
    }
   },
   "cell_type": "code",
   "source": [
    "agent_config = {\n",
    "    \"configurable\": {\n",
    "        \"thread_id\": agent_id,\n",
    "    },\n",
    "    \"recursion_limit\": 30\n",
    "}"
   ],
   "id": "a7a69fedb232edff",
   "outputs": [],
   "execution_count": 4
  },
  {
   "metadata": {
    "ExecuteTime": {
     "end_time": "2025-02-25T20:18:23.678778Z",
     "start_time": "2025-02-25T20:17:36.197958Z"
    }
   },
   "cell_type": "code",
   "source": [
    "%%capture\n",
    "\n",
    "message = MessageRequest(\n",
    "    message_role=\"human\",\n",
    "    message_content=\"Describe the code present on the image.\",\n",
    "    agent_id=agent_id,\n",
    "    attachment_id=first_attachment_id\n",
    ")\n",
    "\n",
    "inputs = vision_document_agent.get_input_params(message)\n",
    "result = workflow.invoke(inputs, agent_config)"
   ],
   "id": "9f3a49cff851703",
   "outputs": [],
   "execution_count": 5
  },
  {
   "metadata": {
    "ExecuteTime": {
     "end_time": "2025-02-25T20:18:23.685889Z",
     "start_time": "2025-02-25T20:18:23.683029Z"
    }
   },
   "cell_type": "code",
   "source": "print(result['generation'])",
   "id": "4056f931508d3b0",
   "outputs": [
    {
     "name": "stdout",
     "output_type": "stream",
     "text": [
      "{\n",
      "  \"short_description\": \"A screenshot showing a GitHub repository page for agent-lab/notebooks/vision_document_agent.ipynb\",\n",
      "  \"detailed_analysis\": \"<p>The image shows an open web browser displaying a GitHub repository. The title of the repository is 'agent-lab/notebooks/vision_document_agent.ipynb'. It appears to be related to vision document agents and Multi-modal Agent implementation on documents.</p><ul><li>GitHub interface elements such as code, blame tab, preview button, comments, bookmarks are visible</li><li>The language of the content is English (ISO 639-3: en)</li></ul>\",\n",
      "  \"lessons_learned\": \"<ol type='1'><li>Understanding GitHub repository structure and navigation.</li><li>Recognizing code snippets in Jupyter Notebook format (.ipynb extension).</li><li>Learning how to read and interpret information on a GitHub project page.</li></ol>\",\n",
      "  \"detected_languages\": [\"en\"],\n",
      "  \"business_value\": \"<ul type='1'><li>Understand the structure of open-source projects hosted on GitHub, such as repositories with code snippets in Jupyter Notebook format</li><li>Learn how to navigate and explore a specific project page within a repository.</li></ul>\",\n",
      "  \"number_of_words\": \"246\",\n",
      "  \"document_format\": \"GitHub repository interface displaying an IPython notebook\"\n",
      "}\n"
     ]
    }
   ],
   "execution_count": 6
  },
  {
   "metadata": {
    "ExecuteTime": {
     "end_time": "2025-02-25T20:19:07.755120Z",
     "start_time": "2025-02-25T20:18:23.733962Z"
    }
   },
   "cell_type": "code",
   "source": [
    "%%capture\n",
    "\n",
    "message = MessageRequest(\n",
    "    message_role=\"human\",\n",
    "    message_content=\"Is the code present on this image related to previous image? Can you reason about the entire code and describe what it does?\",\n",
    "    agent_id=agent_id,\n",
    "    attachment_id=second_attachment_id\n",
    ")\n",
    "\n",
    "inputs = vision_document_agent.get_input_params(message)\n",
    "result = workflow.invoke(inputs, agent_config)"
   ],
   "id": "fa9776f2225dcfe5",
   "outputs": [],
   "execution_count": 7
  },
  {
   "metadata": {
    "ExecuteTime": {
     "end_time": "2025-02-25T20:19:07.770503Z",
     "start_time": "2025-02-25T20:19:07.767981Z"
    }
   },
   "cell_type": "code",
   "source": "print(result['generation'])",
   "id": "bd8b66c8eed5f4d6",
   "outputs": [
    {
     "name": "stdout",
     "output_type": "stream",
     "text": [
      "{\n",
      "  \"short_description\": \"GitHub repository showing Python notebook for vision document agent\",\n",
      "  \"detailed_analysis\": \"The image displays an open GitHub interface with the 'agent-lab/notebooks/vision_document_agent.ipynb' project. The code snippets in Jupyter Notebook format (.ipynb extension) are visible, including functions and variables related to creating agents and managing checkpoints for vision document processing.\",\n",
      "  \"lessons Learned\": \"The image shows how Python notebook files can be used on GitHub repositories for collaborative development of software projects. Understanding the structure and navigation within a specific project page is essential when working with open-source code hosted on platforms like GitHub.\",\n",
      "  \"detected_languages\": \"English (ISO 639-3: en)\",\n",
      "  \"business_value\": \"The repository appears to be related to vision document processing, indicating potential applications in natural language understanding or computer vision tasks. The use of Jupyter Notebook format allows for easy collaboration and documentation within the development process.\",\n",
      "  \"number_of_words\": \"147\",\n",
      "  \"document_format\": \"Jupyter Notebook (.ipynb extension)\"\n",
      "}\n"
     ]
    }
   ],
   "execution_count": 8
  },
  {
   "metadata": {
    "ExecuteTime": {
     "end_time": "2025-02-25T20:19:07.816477Z",
     "start_time": "2025-02-25T20:19:07.810859Z"
    }
   },
   "cell_type": "code",
   "source": "",
   "id": "4f7c7da516558e0f",
   "outputs": [],
   "execution_count": null
  }
 ],
 "metadata": {
  "kernelspec": {
   "display_name": "Python 3",
   "language": "python",
   "name": "python3"
  },
  "language_info": {
   "codemirror_mode": {
    "name": "ipython",
    "version": 2
   },
   "file_extension": ".py",
   "mimetype": "text/x-python",
   "name": "python",
   "nbconvert_exporter": "python",
   "pygments_lexer": "ipython2",
   "version": "2.7.6"
  }
 },
 "nbformat": 4,
 "nbformat_minor": 5
}
