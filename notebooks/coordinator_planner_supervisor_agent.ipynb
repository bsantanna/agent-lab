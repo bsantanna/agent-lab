{
 "cells": [
  {
   "metadata": {},
   "cell_type": "markdown",
   "source": [
    "### Agent-Lab: Coordinator -> Planner -> Supervisor Agent\n",
    "\n",
    "Objective of this notebook is evaluating and adapting the architecture of [LangManus Hierarchical Agent](https://github.com/langmanus/langmanus?tab=readme-ov-file#architecture).\n",
    "\n",
    "#### Preparation steps:\n",
    "\n",
    "Before executing the notebook perform the following preparation steps.\n",
    "\n",
    "1. Start Docker containers: `docker compose up -d --build`\n",
    "\n",
    "2. Verify application is up and running, with web browser: `http://localhost:18000/docs`\n",
    "\n",
    "3. Inside project root directory, create a `.env` file with env vars with correct values:\n",
    "\n",
    "    ```\n",
    "    DEVELOPING=\"True\"\n",
    "    OLLAMA_ENDPOINT=\"http://localhost:11434\"\n",
    "    TAVILY_API_KEY=\"???\"\n",
    "    XAI_API_KEY=\"???\"\n",
    "    ```\n",
    "\n",
    "---"
   ],
   "id": "75fa1308211adcb0"
  },
  {
   "cell_type": "code",
   "id": "initial_id",
   "metadata": {
    "collapsed": true,
    "ExecuteTime": {
     "end_time": "2025-03-26T09:38:22.245143Z",
     "start_time": "2025-03-26T09:38:18.800973Z"
    }
   },
   "source": [
    "%%capture\n",
    "\n",
    "import os\n",
    "os.chdir('..')\n",
    "\n",
    "from dotenv import load_dotenv\n",
    "load_dotenv()\n",
    "\n",
    "from notebooks import experiment_utils\n",
    "from app.core.container import Container\n",
    "from app.interface.api.messages.schema import MessageRequest\n",
    "\n",
    "\n",
    "# start dependency injection container\n",
    "container = Container()\n",
    "container.init_resources()\n",
    "container.wire(modules=[__name__])"
   ],
   "outputs": [],
   "execution_count": 1
  },
  {
   "metadata": {
    "ExecuteTime": {
     "end_time": "2025-03-26T09:38:22.311205Z",
     "start_time": "2025-03-26T09:38:22.249971Z"
    }
   },
   "cell_type": "code",
   "source": [
    "# create agent\n",
    "agent = experiment_utils.create_ollama_agent(\n",
    "    agent_type=\"coordinator_planner_supervisor\",\n",
    "    llm_tag=\"phi4-mini:latest\",\n",
    "    ollama_endpoint=os.getenv(\"OLLAMA_ENDPOINT\")\n",
    ")"
   ],
   "id": "c308c61a3c3aa8f6",
   "outputs": [],
   "execution_count": 2
  },
  {
   "metadata": {
    "ExecuteTime": {
     "end_time": "2025-03-26T09:38:23.162667Z",
     "start_time": "2025-03-26T09:38:22.405513Z"
    }
   },
   "cell_type": "code",
   "source": [
    "# get agent instance\n",
    "coordinator_planner_supervisor_agent = container.coordinator_planner_supervisor_agent()\n",
    "\n",
    "# get checkpointer instance\n",
    "graph_persistence_factory = container.graph_persistence_factory()\n",
    "checkpointer = graph_persistence_factory.build_checkpoint_saver()\n",
    "\n",
    "# Create Graph\n",
    "workflow_builder = coordinator_planner_supervisor_agent.get_workflow_builder(agent[\"id\"])\n",
    "workflow = workflow_builder.compile(checkpointer=checkpointer)\n",
    "experiment_utils.print_graph(workflow)"
   ],
   "id": "edc87312c47a5bc4",
   "outputs": [
    {
     "data": {
      "image/png": "[encoded data removed]",
      "text/plain": [
       "<IPython.core.display.Image object>"
      ]
     },
     "metadata": {},
     "output_type": "display_data"
    }
   ],
   "execution_count": 3
  },
  {
   "metadata": {
    "ExecuteTime": {
     "end_time": "2025-03-26T09:38:23.267604Z",
     "start_time": "2025-03-26T09:38:23.263417Z"
    }
   },
   "cell_type": "code",
   "source": [
    "agent_config = {\n",
    "    \"configurable\": {\n",
    "        \"thread_id\": agent[\"id\"],\n",
    "    },\n",
    "    \"recursion_limit\": 30\n",
    "}"
   ],
   "id": "18b4ab6804272602",
   "outputs": [],
   "execution_count": 4
  },
  {
   "metadata": {
    "ExecuteTime": {
     "end_time": "2025-03-26T09:38:23.692638Z",
     "start_time": "2025-03-26T09:38:23.627505Z"
    }
   },
   "cell_type": "code",
   "source": [
    "message = MessageRequest(\n",
    "    message_role=\"human\",\n",
    "    message_content=\"What is the pinnacle of excellence?\",\n",
    "    agent_id=agent[\"id\"]\n",
    ")\n",
    "\n",
    "inputs = coordinator_planner_supervisor_agent.get_input_params(message)"
   ],
   "id": "b3dc9464dfc609d4",
   "outputs": [],
   "execution_count": 5
  },
  {
   "metadata": {
    "ExecuteTime": {
     "end_time": "2025-03-26T09:38:23.940058Z",
     "start_time": "2025-03-26T09:38:23.936048Z"
    }
   },
   "cell_type": "code",
   "source": [
    "%%capture\n",
    "# result = workflow.invoke(inputs, agent_config)\n",
    "# print(result['generation'])"
   ],
   "id": "ea3601e72acaa1ef",
   "outputs": [],
   "execution_count": 6
  }
 ],
 "metadata": {
  "kernelspec": {
   "display_name": "Python 3",
   "language": "python",
   "name": "python3"
  },
  "language_info": {
   "codemirror_mode": {
    "name": "ipython",
    "version": 2
   },
   "file_extension": ".py",
   "mimetype": "text/x-python",
   "name": "python",
   "nbconvert_exporter": "python",
   "pygments_lexer": "ipython2",
   "version": "2.7.6"
  }
 },
 "nbformat": 4,
 "nbformat_minor": 5
}
