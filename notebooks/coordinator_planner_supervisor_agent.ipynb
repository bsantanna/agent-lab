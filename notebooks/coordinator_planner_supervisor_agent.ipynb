{
 "cells": [
  {
   "cell_type": "markdown",
   "id": "75fa1308211adcb0",
   "metadata": {},
   "source": [
    "### Agent-Lab: Coordinator -> Planner -> Supervisor Agent\n",
    "\n",
    "Objective of this notebook is evaluating and adapting a [Multi-Agent Supervisor Architecture](https://langchain-ai.github.io/langgraph/concepts/multi_agent/#supervisor) with coordinator and execution planning steps.\n",
    "\n",
    "#### Preparation steps:\n",
    "\n",
    "Before executing the notebook perform the following preparation steps.\n",
    "\n",
    "1. Start Docker containers: `docker compose up -d --build`\n",
    "\n",
    "2. Verify application is up and running, with web browser: `http://localhost:18000/docs`\n",
    "\n",
    "3. Inside project root directory, create a `.env` file with env vars with correct values:\n",
    "\n",
    "    ```\n",
    "    DEVELOPING=\"True\"\n",
    "    OLLAMA_ENDPOINT=\"http://localhost:11434\"\n",
    "    TAVILY_API_KEY=\"???\"\n",
    "    XAI_API_KEY=\"???\"\n",
    "    ```\n",
    "\n",
    "---"
   ]
  },
  {
   "metadata": {},
   "cell_type": "code",
   "source": [
    "from browser_use import Agent, Browser, ChatOpenAI\n",
    "import asyncio\n",
    "\n",
    "# Connect to your existing Chrome browser\n",
    "browser = Browser(\n",
    "    cdp_url='ws://192.168.2.195:9222'\n",
    ")\n",
    "\n",
    "agent = Agent(\n",
    "    task='Visit https://duckduckgo.com and search for \"browser-use founders\"',\n",
    "    browser=browser,\n",
    "    llm=ChatOpenAI(model='gpt-4.1-mini'),\n",
    ")\n",
    "\n",
    "async def run_agent():\n",
    "    await agent.run()\n",
    "\n",
    "asyncio.run(run_agent())"
   ],
   "id": "6097c23df5d943be",
   "outputs": [],
   "execution_count": null
  },
  {
   "cell_type": "code",
   "id": "initial_id",
   "metadata": {},
   "source": [
    "%%capture\n",
    "\n",
    "import os\n",
    "\n",
    "os.chdir(\"..\")\n",
    "\n",
    "from dotenv import load_dotenv\n",
    "\n",
    "load_dotenv()\n",
    "\n",
    "from IPython.display import Image, Markdown, display\n",
    "\n",
    "from notebooks import experiment_utils\n",
    "from app.core.container import Container\n",
    "from app.interface.api.messages.schema import MessageRequest\n",
    "\n",
    "# graph rendering\n",
    "import nest_asyncio\n",
    "\n",
    "nest_asyncio.apply()\n",
    "\n",
    "# start dependency injection container\n",
    "container = Container()\n",
    "container.init_resources()\n",
    "container.wire(modules=[__name__])"
   ],
   "outputs": [],
   "execution_count": null
  },
  {
   "cell_type": "code",
   "id": "c308c61a3c3aa8f6",
   "metadata": {},
   "source": [
    "# create agent\n",
    "# agent = experiment_utils.create_ollama_agent(\n",
    "#     agent_type=\"coordinator_planner_supervisor\",\n",
    "#     llm_tag=\"granite3.2:latest\",\n",
    "#     ollama_endpoint=os.getenv(\"OLLAMA_ENDPOINT\")\n",
    "# )\n",
    "\n",
    "# vision model is required by browser-lab (uses vision to parse the rendered page)\n",
    "agent = experiment_utils.create_xai_agent(\n",
    "    agent_type=\"coordinator_planner_supervisor\",\n",
    "    llm_tag=\"grok-2-vision\",\n",
    "    api_key=os.getenv(\"XAI_API_KEY\"),\n",
    ")\n",
    "\n",
    "# updated_agent = experiment_utils.update_agent_setting(\n",
    "#     agent_id=agent[\"id\"],\n",
    "#     setting_key=\"deep_search_mode\",\n",
    "#     setting_value=\"True\"\n",
    "# )"
   ],
   "outputs": [],
   "execution_count": null
  },
  {
   "cell_type": "code",
   "id": "edc87312c47a5bc4",
   "metadata": {},
   "source": [
    "# get agent instance\n",
    "coordinator_planner_supervisor_agent = container.coordinator_planner_supervisor_agent()\n",
    "\n",
    "# get checkpointer instance\n",
    "graph_persistence_factory = container.graph_persistence_factory()\n",
    "checkpointer = graph_persistence_factory.build_checkpoint_saver()\n",
    "\n",
    "# get config\n",
    "agent_config = coordinator_planner_supervisor_agent.get_config(agent[\"id\"])\n",
    "\n",
    "# Create Graph\n",
    "workflow_builder = coordinator_planner_supervisor_agent.get_workflow_builder(\n",
    "    agent[\"id\"]\n",
    ")\n",
    "workflow = workflow_builder.compile(checkpointer=checkpointer)\n",
    "experiment_utils.print_graph(workflow)"
   ],
   "outputs": [],
   "execution_count": null
  },
  {
   "cell_type": "markdown",
   "id": "af675a06e97f1338",
   "metadata": {},
   "source": [
    "### Evaluate Researcher"
   ]
  },
  {
   "cell_type": "code",
   "id": "b3dc9464dfc609d4",
   "metadata": {},
   "source": [
    "%%capture\n",
    "message = MessageRequest(\n",
    "    message_role=\"human\",\n",
    "    message_content=\"What characterizes a good general according to Sun Tzu?\",\n",
    "    agent_id=agent[\"id\"],\n",
    ")\n",
    "\n",
    "inputs = coordinator_planner_supervisor_agent.get_input_params(message)\n",
    "result = workflow.invoke(inputs, agent_config)\n",
    "ai_message_content, workflow_state = (\n",
    "    coordinator_planner_supervisor_agent.format_response(result)\n",
    ")"
   ],
   "outputs": [],
   "execution_count": null
  },
  {
   "cell_type": "code",
   "id": "d0b0ef25de2f4a3b",
   "metadata": {},
   "source": [
    "display(Markdown(f\"**AI Message Content:**\\n\\n{ai_message_content}\"))"
   ],
   "outputs": [],
   "execution_count": null
  },
  {
   "cell_type": "markdown",
   "id": "a2bdce1ad68d2b0d",
   "metadata": {},
   "source": [
    "---\n",
    "### Evaluate Coder"
   ]
  },
  {
   "cell_type": "code",
   "id": "bb5e0705dc31c49",
   "metadata": {},
   "source": [
    "%%capture\n",
    "message = MessageRequest(\n",
    "    message_role=\"human\",\n",
    "    message_content=\"With coder, generate a simple hello world in Python.\",\n",
    "    agent_id=agent[\"id\"],\n",
    ")\n",
    "\n",
    "inputs = coordinator_planner_supervisor_agent.get_input_params(message)\n",
    "result = workflow.invoke(inputs, agent_config)\n",
    "ai_message_content, workflow_state = (\n",
    "    coordinator_planner_supervisor_agent.format_response(result)\n",
    ")"
   ],
   "outputs": [],
   "execution_count": null
  },
  {
   "cell_type": "code",
   "id": "22caa87f141ac362",
   "metadata": {},
   "source": [
    "display(Markdown(f\"**AI Message Content:**\\n\\n{ai_message_content}\"))"
   ],
   "outputs": [],
   "execution_count": null
  },
  {
   "cell_type": "markdown",
   "id": "7b50919f-a850-41fe-9c22-a10418ab2441",
   "metadata": {},
   "source": [
    "#### Evaluate coder memory (convert function to other language)"
   ]
  },
  {
   "cell_type": "code",
   "id": "4ffd66047d8a1f80",
   "metadata": {},
   "source": [
    "%%capture\n",
    "message = MessageRequest(\n",
    "    message_role=\"human\",\n",
    "    message_content=\"Please convert this python code to bash.\",\n",
    "    agent_id=agent[\"id\"],\n",
    ")\n",
    "\n",
    "inputs = coordinator_planner_supervisor_agent.get_input_params(message)\n",
    "result = workflow.invoke(inputs, agent_config)\n",
    "ai_message_content, workflow_state = (\n",
    "    coordinator_planner_supervisor_agent.format_response(result)\n",
    ")"
   ],
   "outputs": [],
   "execution_count": null
  },
  {
   "cell_type": "code",
   "id": "12419823cae4d230",
   "metadata": {},
   "source": [
    "display(Markdown(f\"**AI Message Content:**\\n\\n{ai_message_content}\"))"
   ],
   "outputs": [],
   "execution_count": null
  },
  {
   "cell_type": "markdown",
   "id": "b01b67fbb04d48fa",
   "metadata": {},
   "source": [
    "---\n",
    "### Evaluate Browser"
   ]
  },
  {
   "cell_type": "code",
   "id": "240e0f6a2df75abb",
   "metadata": {},
   "source": [
    "# %%capture\n",
    "message = MessageRequest(\n",
    "    message_role=\"human\",\n",
    "    message_content=(\n",
    "        \"With the browser, go to https://en.wikipedia.org/wiki/Mathematical_finance and summarize the article.\"\n",
    "    ),\n",
    "    agent_id=agent[\"id\"],\n",
    ")\n",
    "\n",
    "inputs = coordinator_planner_supervisor_agent.get_input_params(message)\n",
    "result = workflow.invoke(inputs, agent_config)\n",
    "ai_message_content, workflow_state = (\n",
    "    coordinator_planner_supervisor_agent.format_response(result)\n",
    ")"
   ],
   "outputs": [],
   "execution_count": null
  },
  {
   "cell_type": "code",
   "id": "a6c7008e-0bfc-4e8d-9030-d09f8f12baab",
   "metadata": {},
   "source": [
    "display(Markdown(\"**Browser Navigation:**\"))\n",
    "display(Image(filename=\"notebooks/coordinator_planner_supervisor_agent.gif\"))"
   ],
   "outputs": [],
   "execution_count": null
  },
  {
   "cell_type": "code",
   "id": "b7eee252-c2d3-4e37-bd91-923a625c12d3",
   "metadata": {},
   "source": [
    "display(Markdown(f\"**AI Message Content:**\\n\\n{ai_message_content}\"))"
   ],
   "outputs": [],
   "execution_count": null
  },
  {
   "cell_type": "code",
   "id": "830f44ef-ba99-4a34-ac3d-983517151c54",
   "metadata": {},
   "source": [],
   "outputs": [],
   "execution_count": null
  }
 ],
 "metadata": {
  "kernelspec": {
   "display_name": "Python 3 (ipykernel)",
   "language": "python",
   "name": "python3"
  },
  "language_info": {
   "codemirror_mode": {
    "name": "ipython",
    "version": 3
   },
   "file_extension": ".py",
   "mimetype": "text/x-python",
   "name": "python",
   "nbconvert_exporter": "python",
   "pygments_lexer": "ipython3",
   "version": "3.11.11"
  }
 },
 "nbformat": 4,
 "nbformat_minor": 5
}
