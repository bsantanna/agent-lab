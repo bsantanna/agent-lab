{
 "cells": [
  {
   "metadata": {},
   "cell_type": "markdown",
   "source": [
    "### Agent-Lab: Coordinator -> Planner -> Supervisor Agent\n",
    "\n",
    "Objective of this notebook is evaluating and adapting a [Multi-Agent Supervisor Architecture](https://langchain-ai.github.io/langgraph/concepts/multi_agent/#supervisor) with coordinator and execution planning steps.\n",
    "\n",
    "#### Preparation steps:\n",
    "\n",
    "Before executing the notebook perform the following preparation steps.\n",
    "\n",
    "1. Start Docker containers: `docker compose up -d --build`\n",
    "\n",
    "2. Verify application is up and running, with web browser: `http://localhost:18000/docs`\n",
    "\n",
    "3. Inside project root directory, create a `.env` file with env vars with correct values:\n",
    "\n",
    "    ```\n",
    "    DEVELOPING=\"True\"\n",
    "    OLLAMA_ENDPOINT=\"http://localhost:11434\"\n",
    "    TAVILY_API_KEY=\"???\"\n",
    "    XAI_API_KEY=\"???\"\n",
    "    ```\n",
    "\n",
    "---"
   ],
   "id": "75fa1308211adcb0"
  },
  {
   "cell_type": "code",
   "id": "initial_id",
   "metadata": {
    "collapsed": true
   },
   "source": [
    "%%capture\n",
    "\n",
    "import os\n",
    "os.chdir('..')\n",
    "\n",
    "from IPython.display import Markdown, display\n",
    "import json\n",
    "\n",
    "from dotenv import load_dotenv\n",
    "load_dotenv()\n",
    "\n",
    "from notebooks import experiment_utils\n",
    "from app.core.container import Container\n",
    "from app.interface.api.messages.schema import MessageRequest\n",
    "\n",
    "# start dependency injection container\n",
    "container = Container()\n",
    "container.init_resources()\n",
    "container.wire(modules=[__name__])"
   ],
   "outputs": [],
   "execution_count": null
  },
  {
   "metadata": {},
   "cell_type": "code",
   "source": [
    "# create agent\n",
    "agent = experiment_utils.create_ollama_agent(\n",
    "    agent_type=\"coordinator_planner_supervisor\",\n",
    "    llm_tag=\"command-r7b:latest\",\n",
    "    ollama_endpoint=os.getenv(\"OLLAMA_ENDPOINT\")\n",
    ")\n",
    "\n",
    "# agent = experiment_utils.create_xai_agent(\n",
    "#     agent_type=\"coordinator_planner_supervisor\",\n",
    "#     llm_tag=\"grok-2\",\n",
    "#     api_key=os.getenv(\"XAI_API_KEY\")\n",
    "# )\n",
    "#\n",
    "# updated_agent = experiment_utils.update_agent_setting(\n",
    "#     agent_id=agent[\"id\"],\n",
    "#     setting_key=\"deep_search_mode\",\n",
    "#     setting_value=\"True\"\n",
    "# )"
   ],
   "id": "c308c61a3c3aa8f6",
   "outputs": [],
   "execution_count": null
  },
  {
   "metadata": {},
   "cell_type": "code",
   "source": [
    "# get agent instance\n",
    "coordinator_planner_supervisor_agent = container.coordinator_planner_supervisor_agent()\n",
    "\n",
    "# get checkpointer instance\n",
    "graph_persistence_factory = container.graph_persistence_factory()\n",
    "checkpointer = graph_persistence_factory.build_checkpoint_saver()\n",
    "\n",
    "# Create Graph\n",
    "workflow_builder = coordinator_planner_supervisor_agent.get_workflow_builder(agent[\"id\"])\n",
    "workflow = workflow_builder.compile(checkpointer=checkpointer)\n",
    "experiment_utils.print_graph(workflow)"
   ],
   "id": "edc87312c47a5bc4",
   "outputs": [],
   "execution_count": null
  },
  {
   "metadata": {},
   "cell_type": "code",
   "source": [
    "agent_config = {\n",
    "    \"configurable\": {\n",
    "        \"thread_id\": agent[\"id\"],\n",
    "    },\n",
    "    \"recursion_limit\": 30\n",
    "}"
   ],
   "id": "18b4ab6804272602",
   "outputs": [],
   "execution_count": null
  },
  {
   "metadata": {},
   "cell_type": "markdown",
   "source": "### Evaluate Researcher",
   "id": "af675a06e97f1338"
  },
  {
   "metadata": {},
   "cell_type": "code",
   "source": [
    "%%capture\n",
    "message = MessageRequest(\n",
    "    message_role=\"human\",\n",
    "    message_content=\"What characterizes a good general according to Sun Tzu?\",\n",
    "    agent_id=agent[\"id\"]\n",
    ")\n",
    "\n",
    "inputs = coordinator_planner_supervisor_agent.get_input_params(message)\n",
    "result = workflow.invoke(inputs, agent_config)"
   ],
   "id": "b3dc9464dfc609d4",
   "outputs": [],
   "execution_count": null
  },
  {
   "metadata": {},
   "cell_type": "code",
   "source": "display(Markdown(f\"```json\\n{json.dumps(result['execution_plan'], indent=4)}\\n```\"))",
   "id": "a29dcd2830b24c78",
   "outputs": [],
   "execution_count": null
  },
  {
   "metadata": {},
   "cell_type": "code",
   "source": "display(Markdown(result[\"messages\"][-1].content))",
   "id": "d0b0ef25de2f4a3b",
   "outputs": [],
   "execution_count": null
  },
  {
   "metadata": {},
   "cell_type": "markdown",
   "source": "### Evaluate Coder",
   "id": "a2bdce1ad68d2b0d"
  },
  {
   "metadata": {},
   "cell_type": "code",
   "source": [
    "%%capture\n",
    "message = MessageRequest(\n",
    "    message_role=\"human\",\n",
    "    message_content=(\n",
    "        \"Please create a compound interest calculator in Python. \"\n",
    "        \"What would be interest paid on a principal of 225k with rate 3.89/year for 15 years?\"),\n",
    "    agent_id=agent[\"id\"]\n",
    ")\n",
    "\n",
    "inputs = coordinator_planner_supervisor_agent.get_input_params(message)\n",
    "result = workflow.invoke(inputs, agent_config)"
   ],
   "id": "bb5e0705dc31c49",
   "outputs": [],
   "execution_count": null
  },
  {
   "metadata": {},
   "cell_type": "code",
   "source": "display(Markdown(f\"```json\\n{json.dumps(result['execution_plan'], indent=4)}\\n```\"))",
   "id": "4d4a7a6f86d39b1b",
   "outputs": [],
   "execution_count": null
  },
  {
   "metadata": {},
   "cell_type": "code",
   "source": "display(Markdown(result[\"messages\"][-1].content))",
   "id": "22caa87f141ac362",
   "outputs": [],
   "execution_count": null
  },
  {
   "metadata": {},
   "cell_type": "code",
   "source": "",
   "id": "240e0f6a2df75abb",
   "outputs": [],
   "execution_count": null
  }
 ],
 "metadata": {
  "kernelspec": {
   "display_name": "Python 3",
   "language": "python",
   "name": "python3"
  },
  "language_info": {
   "codemirror_mode": {
    "name": "ipython",
    "version": 2
   },
   "file_extension": ".py",
   "mimetype": "text/x-python",
   "name": "python",
   "nbconvert_exporter": "python",
   "pygments_lexer": "ipython2",
   "version": "2.7.6"
  }
 },
 "nbformat": 4,
 "nbformat_minor": 5
}
