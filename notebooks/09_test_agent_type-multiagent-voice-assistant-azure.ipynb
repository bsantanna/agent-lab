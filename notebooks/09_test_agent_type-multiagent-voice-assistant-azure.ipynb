{
 "cells": [
  {
   "cell_type": "markdown",
   "id": "5574425a3bb18652",
   "metadata": {},
   "source": [
    "## Agent-Lab: Azure Entra ID Voice Memos Agent\n",
    "\n",
    "### Setup\n",
    "\n",
    "1. Login using az-cli:\n",
    "\n",
    "```bash\n",
    "az login --use-device-code\n",
    "```\n",
    "\n",
    "2. Create [App Registration](https://portal.azure.com/#view/Microsoft_AAD_RegisteredApps/ApplicationsListBlade) with the name `agent-lab`\n",
    "\n",
    "3. Adjust [App Registration API Permissions](https://github.com/bsantanna/agent-lab/blob/main/doc/azure_entra_id_voice_memos_agent/app_registration_permissions.png)\n",
    "\n",
    "4. Obtain AZURE_CLIENT_ID:\n",
    "\n",
    "```bash\n",
    "export AZURE_CLIENT_ID=$(az ad app list --display-name agent-lab --query \"[0].appId\" -o tsv)\n",
    "```\n",
    "\n",
    "5. Obtain AZURE_CLIENT_SECRET:\n",
    "\n",
    "```bash\n",
    "export AZURE_CLIENT_SECRET=$(az ad app credential reset --id ${AZURE_CLIENT_ID} --query \"password\" -o tsv)\n",
    "```\n",
    "\n",
    "6. Obtain AZURE_TENANT_ID:\n",
    "\n",
    "```bash\n",
    "export AZURE_TENANT_ID=$(az account show --query \"tenantId\" -o tsv)\n",
    "```\n",
    "\n",
    "7. Create a User\n",
    "\n",
    "```bash\n",
    "az ad user create \\\n",
    "   --display-name \"Aline Real Madre\" \\\n",
    "   --password \"???\" \\\n",
    "   --user-principal-name \"a.real.madre@mailbsantanna.onmicrosoft.com\" \\\n",
    "   --mail-nickname \"a.real.madre\"\n",
    "```\n",
    "\n",
    "8. Verify user:  [entra.microsoft.com](https://entra.microsoft.com/#view/Microsoft_AAD_UsersAndTenants/UserManagementMenuBlade/~/AllUsers/menuId/)\n",
    "\n",
    "\n",
    "\n"
   ]
  },
  {
   "cell_type": "code",
   "execution_count": null,
   "id": "initial_id",
   "metadata": {
    "ExecuteTime": {
     "end_time": "2025-09-05T14:34:37.176628Z",
     "start_time": "2025-09-05T14:34:34.595637Z"
    }
   },
   "outputs": [],
   "source": [
    "%%capture\n",
    "\n",
    "import json\n",
    "import os\n",
    "\n",
    "os.chdir(\"..\")\n",
    "\n",
    "from IPython.display import Markdown, display, Audio\n",
    "\n",
    "from dotenv import load_dotenv\n",
    "\n",
    "load_dotenv()\n",
    "\n",
    "from notebooks import experiment_utils\n",
    "from app.core.container import Container\n",
    "from app.interface.api.messages.schema import MessageRequest\n",
    "\n",
    "import nest_asyncio\n",
    "\n",
    "nest_asyncio.apply()\n",
    "\n",
    "# start dependency injection container\n",
    "container = Container()\n",
    "container.init_resources()\n",
    "container.wire(modules=[__name__])\n",
    "\n",
    "# get checkpointer instance\n",
    "graph_persistence_factory = container.graph_persistence_factory()\n",
    "checkpointer = graph_persistence_factory.build_checkpoint_saver()"
   ]
  },
  {
   "cell_type": "markdown",
   "id": "26bb54e7-66bd-489b-bf8d-c416bb497830",
   "metadata": {},
   "source": [
    "---\n",
    "### Upload Audio Attachment"
   ]
  },
  {
   "cell_type": "code",
   "execution_count": null,
   "id": "6c854410-5584-4168-906b-713c4b51c594",
   "metadata": {},
   "outputs": [],
   "source": [
    "# create attachment\n",
    "file_path = \"tests/integration/voice_memos_01_pt_BR.mp3\"\n",
    "attachment_id = experiment_utils.create_attachment(\n",
    "    file_path=file_path, content_type=\"audio/mp3\"\n",
    ")\n",
    "display(Audio(file_path))"
   ]
  },
  {
   "cell_type": "markdown",
   "id": "e894715db6e9c66d",
   "metadata": {},
   "source": [
    "---\n",
    "### OpenAI Voice Assistant"
   ]
  },
  {
   "cell_type": "code",
   "execution_count": null,
   "id": "7f0dd3c8f93728e3",
   "metadata": {
    "ExecuteTime": {
     "end_time": "2025-09-05T14:44:42.557115Z",
     "start_time": "2025-09-05T14:44:42.386236Z"
    }
   },
   "outputs": [],
   "source": [
    "# Create Workflow\n",
    "openai_agent = experiment_utils.create_openai_agent(\n",
    "    agent_type=\"azure_entra_id_voice_memos\", llm_tag=\"gpt-4o-mini\", api_key=os.getenv(\"OPENAI_API_KEY\")\n",
    ")\n",
    "openai_voice_assistant = container.voice_memos_agent()\n",
    "openai_workflow_builder = openai_voice_assistant.get_workflow_builder(openai_agent[\"id\"])\n",
    "openai_workflow = openai_workflow_builder.compile(checkpointer=checkpointer)\n",
    "experiment_utils.print_graph(openai_workflow)"
   ]
  },
  {
   "cell_type": "code",
   "execution_count": null,
   "id": "e0b234faa3d4627",
   "metadata": {
    "ExecuteTime": {
     "end_time": "2025-09-05T14:46:36.849993Z",
     "start_time": "2025-09-05T14:44:42.690490Z"
    }
   },
   "outputs": [],
   "source": [
    "%%capture\n",
    "\n",
    "message = MessageRequest(\n",
    "    message_role=\"human\",\n",
    "    message_content=(\n",
    "        \"Analyse the given audio.\"\n",
    "    ),\n",
    "    agent_id=openai_agent[\"id\"],\n",
    "    attachment_id=attachment_id,\n",
    ")\n",
    "\n",
    "inputs = openai_voice_assistant.get_input_params(message, schema=\"public\")\n",
    "config = openai_voice_assistant.get_config(openai_agent[\"id\"])\n",
    "result = openai_workflow.invoke(inputs, config)\n",
    "ai_message_content, workflow_state = openai_voice_assistant.format_response(result)"
   ]
  },
  {
   "cell_type": "code",
   "execution_count": null,
   "id": "c49885bf44868bef",
   "metadata": {
    "ExecuteTime": {
     "end_time": "2025-09-05T14:46:36.884559Z",
     "start_time": "2025-09-05T14:46:36.880917Z"
    }
   },
   "outputs": [],
   "source": [
    "display(\n",
    "    Markdown(\n",
    "        f\"**Execution Plan:**\\n```json\\n{json.dumps(workflow_state.get(\"execution_plan\"), indent=2)}\\n```\"\n",
    "    )\n",
    ")"
   ]
  },
  {
   "cell_type": "code",
   "execution_count": null,
   "id": "c7a1affb5ab8448",
   "metadata": {
    "ExecuteTime": {
     "end_time": "2025-09-05T14:46:36.905969Z",
     "start_time": "2025-09-05T14:46:36.901661Z"
    }
   },
   "outputs": [],
   "source": [
    "display(Markdown(f\"**AI Message Content:**\\n\\n{ai_message_content}\"))"
   ]
  },
  {
   "cell_type": "code",
   "execution_count": null,
   "id": "6c256dd795e8da55",
   "metadata": {},
   "outputs": [],
   "source": []
  },
  {
   "cell_type": "code",
   "execution_count": null,
   "id": "aacd6594-2c7b-4db0-9a88-91890010477f",
   "metadata": {},
   "outputs": [],
   "source": []
  }
 ],
 "metadata": {
  "kernelspec": {
   "display_name": "Python 3 (ipykernel)",
   "language": "python",
   "name": "python3"
  },
  "language_info": {
   "codemirror_mode": {
    "name": "ipython",
    "version": 3
   },
   "file_extension": ".py",
   "mimetype": "text/x-python",
   "name": "python",
   "nbconvert_exporter": "python",
   "pygments_lexer": "ipython3",
   "version": "3.12.11"
  }
 },
 "nbformat": 4,
 "nbformat_minor": 5
}
