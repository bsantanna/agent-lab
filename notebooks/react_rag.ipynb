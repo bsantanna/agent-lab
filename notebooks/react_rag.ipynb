{
 "cells": [
  {
   "metadata": {},
   "cell_type": "markdown",
   "source": [
    "### Agent-Lab: Vision Document Agent\n",
    "\n",
    "Objective of this notebook is evaluating and adapting the implementation of [Multi-modal Agent](https://python.langchain.com/docs/integrations/llms/ollama/#multi-modal) specialized on documents.\n",
    "\n",
    "#### Preparation steps:\n",
    "\n",
    "Before executing the notebook perform the following preparation steps.\n",
    "\n",
    "1. Start Docker containers: `docker compose up -d --build`\n",
    "\n",
    "2. Verify application is up and running, with web browser: `http://localhost:18000/docs`\n",
    "\n",
    "3. Inside project root directory, create a `.env` file with env vars with correct values:\n",
    "\n",
    "    ```\n",
    "    OLLAMA_ENDPOINT=\"http://localhost:11434\"\n",
    "    OLLAMA_MODEL_TAG=\"llama3.2-vision:latest\"\n",
    "    ```\n",
    "\n",
    "---"
   ],
   "id": "64f16bc9dac3dcc0"
  },
  {
   "cell_type": "code",
   "id": "initial_id",
   "metadata": {
    "collapsed": true,
    "ExecuteTime": {
     "end_time": "2025-03-17T23:47:23.638515Z",
     "start_time": "2025-03-17T23:47:20.589430Z"
    }
   },
   "source": [
    "%%capture\n",
    "\n",
    "import os\n",
    "os.chdir('..')\n",
    "\n",
    "from dotenv import load_dotenv\n",
    "load_dotenv()\n",
    "\n",
    "from notebooks import experiment_utils\n",
    "from app.core.container import Container\n",
    "from app.interface.api.messages.schema import MessageRequest\n",
    "\n",
    "# start dependency injection container\n",
    "container = Container()\n",
    "container.init_resources()\n",
    "container.wire(modules=[__name__])"
   ],
   "outputs": [],
   "execution_count": 1
  },
  {
   "metadata": {
    "ExecuteTime": {
     "end_time": "2025-03-17T23:47:23.737266Z",
     "start_time": "2025-03-17T23:47:23.642392Z"
    }
   },
   "cell_type": "code",
   "source": [
    "# create agent\n",
    "agent = experiment_utils.create_ollama_agent(\n",
    "    agent_type=\"react_rag\",\n",
    "    llm_tag=\"phi4-mini:latest\",\n",
    "    ollama_endpoint=os.getenv(\"OLLAMA_ENDPOINT\")\n",
    ")\n",
    "\n",
    "# create attachment\n",
    "# attachment_id = experiment_utils.create_attachment(\n",
    "#     file_path=\"tests/integration/sun_tzu_the_art_of_war.zip\",\n",
    "#     content_type=\"application/zip\",\n",
    "# )\n",
    "#\n",
    "# processed_attachment = experiment_utils.create_embeddings(\n",
    "#     attachment_id,\n",
    "#     language_model_id=agent[\"language_model_id\"],\n",
    "#     collection_name=\"static_document_data\"\n",
    "# )"
   ],
   "id": "4c0e45f16ded36f8",
   "outputs": [],
   "execution_count": 2
  },
  {
   "metadata": {
    "ExecuteTime": {
     "end_time": "2025-03-17T23:47:25.146285Z",
     "start_time": "2025-03-17T23:47:23.821876Z"
    }
   },
   "cell_type": "code",
   "source": [
    "# get agent instance\n",
    "react_rag_agent = container.react_rag_agent()\n",
    "\n",
    "# Create Graph\n",
    "workflow = react_rag_agent.get_workflow(agent[\"id\"])\n",
    "experiment_utils.print_graph(workflow)"
   ],
   "id": "84030190a9309044",
   "outputs": [
    {
     "data": {
      "image/png": "[encoded data removed]",
      "text/plain": [
       "<IPython.core.display.Image object>"
      ]
     },
     "metadata": {},
     "output_type": "display_data"
    }
   ],
   "execution_count": 3
  },
  {
   "metadata": {
    "ExecuteTime": {
     "end_time": "2025-03-17T23:47:25.230459Z",
     "start_time": "2025-03-17T23:47:25.221887Z"
    }
   },
   "cell_type": "code",
   "source": [
    "agent_config = {\n",
    "    \"configurable\": {\n",
    "        \"thread_id\": agent[\"id\"],\n",
    "    },\n",
    "    \"recursion_limit\": 30\n",
    "}"
   ],
   "id": "a7a69fedb232edff",
   "outputs": [],
   "execution_count": 4
  },
  {
   "metadata": {
    "ExecuteTime": {
     "end_time": "2025-03-17T23:47:33.071925Z",
     "start_time": "2025-03-17T23:47:25.394033Z"
    }
   },
   "cell_type": "code",
   "source": [
    "%%capture\n",
    "\n",
    "message = MessageRequest(\n",
    "    message_role=\"human\",\n",
    "    message_content=\"What is the pinnacle of excellence?\",\n",
    "    agent_id=agent[\"id\"]\n",
    ")\n",
    "\n",
    "inputs = react_rag_agent.get_input_params(message)\n",
    "result = workflow.invoke(inputs, agent_config)"
   ],
   "id": "9f3a49cff851703",
   "outputs": [],
   "execution_count": 5
  },
  {
   "metadata": {
    "ExecuteTime": {
     "end_time": "2025-03-17T23:47:33.084009Z",
     "start_time": "2025-03-17T23:47:33.078159Z"
    }
   },
   "cell_type": "code",
   "source": "print(result.keys())",
   "id": "4056f931508d3b0",
   "outputs": [
    {
     "name": "stdout",
     "output_type": "stream",
     "text": [
      "dict_keys(['messages'])\n"
     ]
    }
   ],
   "execution_count": 6
  },
  {
   "metadata": {
    "ExecuteTime": {
     "end_time": "2025-03-17T23:47:33.425438Z",
     "start_time": "2025-03-17T23:47:33.416270Z"
    }
   },
   "cell_type": "code",
   "source": "print(result['messages'][-1].content)",
   "id": "bd8b66c8eed5f4d6",
   "outputs": [
    {
     "name": "stdout",
     "output_type": "stream",
     "text": [
      "<thinking>\n",
      "The user appears to be asking about what constitutes 'the pinnacle' or ultimate standard of success. The context provided references philosophical ideas from ancient Chinese military strategist Sun Tzu's work \"The Art of War.\" In this text, the idea is that true excellence in conflict does not come solely through direct confrontation and victory but rather involves outmaneuvering opponents strategically without engaging them directly.\n",
      "</thinking>\n",
      "\n",
      "<response>\n",
      "The pinnacle or ultimate standard of success as derived from ancient Chinese philosophy emphasizes breaking an opponent's resistance subtly. True brilliance isn't marked by overt victories won on the battlefield, where blood is shed; instead it lies in strategic superiority—planning secretly and moving surreptitiously to foil enemy intentions without direct conflict.\n",
      "</response>\n"
     ]
    }
   ],
   "execution_count": 7
  },
  {
   "metadata": {
    "ExecuteTime": {
     "end_time": "2025-03-17T23:47:38.694340Z",
     "start_time": "2025-03-17T23:47:33.706733Z"
    }
   },
   "cell_type": "code",
   "source": [
    "%%capture\n",
    "\n",
    "message = MessageRequest(\n",
    "    message_role=\"human\",\n",
    "    message_content=\"Kun je mijn vorige vraag en jouw antwoord herhalen in Nederlands alstublieft? Niet lang tekst.\",\n",
    "    agent_id=agent[\"id\"]\n",
    ")\n",
    "\n",
    "inputs = react_rag_agent.get_input_params(message)\n",
    "result = workflow.invoke(inputs, agent_config)"
   ],
   "id": "8a1b771dff7a1f24",
   "outputs": [],
   "execution_count": 8
  },
  {
   "metadata": {
    "ExecuteTime": {
     "end_time": "2025-03-17T23:47:38.706957Z",
     "start_time": "2025-03-17T23:47:38.703226Z"
    }
   },
   "cell_type": "code",
   "source": "print(result['messages'][-1].content)",
   "id": "2345b2d7bfb44d20",
   "outputs": [
    {
     "name": "stdout",
     "output_type": "stream",
     "text": [
      "<thinking>\n",
      "The user is asking for their previous question, concerning what constitutes supreme excellence in conflict based on Sun Tzu's teachings and my response translated into Dutch.\n",
      "</thinking>\n",
      "\n",
      "<response>\n",
      "Vraag: Wat betreft de hoogste mate van excellentie op basis van het werk van Sun Tzu en mijn vorige antwoord.\n",
      "\n",
      "Antwoord: De ultieme standaard van succes is subtiel doorbreken van tegenstander weerstanden, waarbij strategische superioriteit prioritet wordt boven directe oorlogsbewinning.\n",
      "</response>\n"
     ]
    }
   ],
   "execution_count": 9
  },
  {
   "metadata": {
    "ExecuteTime": {
     "end_time": "2025-03-17T23:47:38.750643Z",
     "start_time": "2025-03-17T23:47:38.747990Z"
    }
   },
   "cell_type": "code",
   "source": "",
   "id": "59958e23600b40c1",
   "outputs": [],
   "execution_count": null
  }
 ],
 "metadata": {
  "kernelspec": {
   "display_name": "Python 3",
   "language": "python",
   "name": "python3"
  },
  "language_info": {
   "codemirror_mode": {
    "name": "ipython",
    "version": 2
   },
   "file_extension": ".py",
   "mimetype": "text/x-python",
   "name": "python",
   "nbconvert_exporter": "python",
   "pygments_lexer": "ipython2",
   "version": "2.7.6"
  }
 },
 "nbformat": 4,
 "nbformat_minor": 5
}
