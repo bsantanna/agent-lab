{
 "cells": [
  {
   "cell_type": "markdown",
   "id": "64f16bc9dac3dcc0",
   "metadata": {},
   "source": [
    "### Agent-Lab: ReACT RAG Agent\n",
    "\n",
    "Objective of this notebook is evaluating and adapting the implementation of [ReAct Agent](https://langchain-ai.github.io/langgraph/how-tos/create-react-agent/) with retrieval evaluation.\n",
    "\n",
    "#### Preparation steps:\n",
    "\n",
    "Before executing the notebook perform the following preparation steps.\n",
    "\n",
    "1. Start Docker containers: `docker compose up -d --build`\n",
    "\n",
    "2. Verify application is up and running, with web browser: `http://localhost:18000/docs`\n",
    "\n",
    "3. Inside project root directory, create a `.env` file with env vars with correct values:\n",
    "\n",
    "    ```\n",
    "    DEVELOPING=\"True\"\n",
    "    TAVILY_API_KEY=\"???\"\n",
    "    OLLAMA_ENDPOINT=\"http://localhost:11434\"\n",
    "    ```\n",
    "\n",
    "---"
   ]
  },
  {
   "cell_type": "code",
   "id": "initial_id",
   "metadata": {
    "ExecuteTime": {
     "end_time": "2025-05-12T19:56:16.056954Z",
     "start_time": "2025-05-12T19:56:12.008220Z"
    }
   },
   "source": [
    "%%capture\n",
    "\n",
    "import json\n",
    "import os\n",
    "\n",
    "os.chdir(\"..\")\n",
    "\n",
    "from dotenv import load_dotenv\n",
    "\n",
    "load_dotenv()\n",
    "\n",
    "from IPython.display import Markdown, display\n",
    "\n",
    "from notebooks import experiment_utils\n",
    "from app.core.container import Container\n",
    "from app.interface.api.messages.schema import MessageRequest\n",
    "\n",
    "# graph rendering\n",
    "import nest_asyncio\n",
    "nest_asyncio.apply()\n",
    "\n",
    "# start dependency injection container\n",
    "container = Container()\n",
    "container.init_resources()\n",
    "container.wire(modules=[__name__])"
   ],
   "outputs": [],
   "execution_count": 1
  },
  {
   "cell_type": "code",
   "id": "797e52d2-0565-4fee-8a08-463ec7c91b09",
   "metadata": {
    "ExecuteTime": {
     "end_time": "2025-05-12T19:56:18.745439Z",
     "start_time": "2025-05-12T19:56:18.695453Z"
    }
   },
   "source": [
    "# create agent\n",
    "# agent = experiment_utils.create_ollama_agent(\n",
    "#    agent_type=\"react_rag\",\n",
    "#    llm_tag=\"phi4-mini:latest\",\n",
    "#    ollama_endpoint=os.getenv(\"OLLAMA_ENDPOINT\")\n",
    "# )\n",
    "\n",
    "agent = experiment_utils.create_xai_agent(\n",
    "    agent_type=\"adaptive_rag\", llm_tag=\"grok-2-vision\", api_key=os.getenv(\"XAI_API_KEY\")\n",
    ")"
   ],
   "outputs": [],
   "execution_count": 2
  },
  {
   "cell_type": "code",
   "id": "4c0e45f16ded36f8",
   "metadata": {
    "ExecuteTime": {
     "end_time": "2025-05-12T19:56:22.114358Z",
     "start_time": "2025-05-12T19:56:22.111665Z"
    }
   },
   "source": [
    "# create attachment\n",
    "# attachment_id = experiment_utils.create_attachment(\n",
    "#     file_path=\"tests/integration/sun_tzu_the_art_of_war.zip\",\n",
    "#     content_type=\"application/zip\",\n",
    "# )\n",
    "#\n",
    "# processed_attachment = experiment_utils.create_embeddings(\n",
    "#     attachment_id,\n",
    "#     language_model_id=agent[\"language_model_id\"],\n",
    "#     collection_name=\"static_document_data\"\n",
    "# )"
   ],
   "outputs": [],
   "execution_count": 3
  },
  {
   "cell_type": "code",
   "id": "84030190a9309044",
   "metadata": {
    "ExecuteTime": {
     "end_time": "2025-05-12T19:56:24.582900Z",
     "start_time": "2025-05-12T19:56:22.661951Z"
    }
   },
   "source": [
    "# get agent instance\n",
    "react_rag_agent = container.react_rag_agent()\n",
    "\n",
    "# Create Graph\n",
    "workflow = react_rag_agent.get_workflow(agent[\"id\"])\n",
    "experiment_utils.print_graph(workflow)"
   ],
   "outputs": [
    {
     "data": {
      "image/png": "[encoded data removed]",
      "text/plain": [
       "<IPython.core.display.Image object>"
      ]
     },
     "metadata": {},
     "output_type": "display_data"
    }
   ],
   "execution_count": 4
  },
  {
   "cell_type": "code",
   "id": "a7a69fedb232edff",
   "metadata": {
    "ExecuteTime": {
     "end_time": "2025-05-12T19:56:27.081107Z",
     "start_time": "2025-05-12T19:56:27.078124Z"
    }
   },
   "source": [
    "agent_config = {\n",
    "    \"configurable\": {\n",
    "        \"thread_id\": agent[\"id\"],\n",
    "    },\n",
    "    \"recursion_limit\": 30,\n",
    "}"
   ],
   "outputs": [],
   "execution_count": 5
  },
  {
   "cell_type": "code",
   "id": "9f3a49cff851703",
   "metadata": {
    "ExecuteTime": {
     "end_time": "2025-05-12T19:56:34.788039Z",
     "start_time": "2025-05-12T19:56:28.472091Z"
    }
   },
   "source": [
    "%%capture\n",
    "\n",
    "message = MessageRequest(\n",
    "    message_role=\"human\",\n",
    "    message_content=\"What is the pinnacle of excellence?\",\n",
    "    agent_id=agent[\"id\"],\n",
    ")\n",
    "\n",
    "inputs = react_rag_agent.get_input_params(message)\n",
    "result = workflow.invoke(inputs, agent_config)\n",
    "ai_message_content, workflow_state = react_rag_agent.format_response(result)"
   ],
   "outputs": [],
   "execution_count": 6
  },
  {
   "cell_type": "code",
   "id": "4056f931508d3b0",
   "metadata": {
    "ExecuteTime": {
     "end_time": "2025-05-12T19:56:35.562915Z",
     "start_time": "2025-05-12T19:56:35.557501Z"
    }
   },
   "source": [
    "display(Markdown(f\"**AI Message Content:**\\n\\n{ai_message_content}\"))"
   ],
   "outputs": [
    {
     "data": {
      "text/plain": [
       "<IPython.core.display.Markdown object>"
      ],
      "text/markdown": "**AI Message Content:**\n\nBased on the context provided, the pinnacle of excellence, according to Sun Tzu, is not merely to fight and win battles, but to achieve victory by breaking the enemy's resistance without engaging in combat. This involves strategic planning, secrecy, and the ability to foil the enemy's plans so effectively that conflict can be avoided, thus preserving resources and lives. True excellence is demonstrated when one can achieve victory in ways that are not immediately obvious to the common observer, showcasing wisdom, strategic foresight, and the ability to control outcomes through superior planning and positioning."
     },
     "metadata": {},
     "output_type": "display_data"
    }
   ],
   "execution_count": 7
  },
  {
   "cell_type": "code",
   "execution_count": 9,
   "id": "8a1b771dff7a1f24",
   "metadata": {
    "ExecuteTime": {
     "end_time": "2025-03-29T18:49:42.186059Z",
     "start_time": "2025-03-29T18:49:35.839380Z"
    }
   },
   "outputs": [],
   "source": [
    "%%capture\n",
    "\n",
    "message = MessageRequest(\n",
    "    message_role=\"human\",\n",
    "    message_content=\"Kun je mijn vorige vraag en jouw antwoord herhalen in Nederlands alstublieft? Gebruik maximaal tien zinnen.\",\n",
    "    agent_id=agent[\"id\"],\n",
    ")\n",
    "\n",
    "inputs = react_rag_agent.get_input_params(message)\n",
    "result = workflow.invoke(inputs, agent_config)\n",
    "ai_message_content, workflow_state = react_rag_agent.format_response(result)"
   ]
  },
  {
   "cell_type": "code",
   "execution_count": 10,
   "id": "2345b2d7bfb44d20",
   "metadata": {
    "ExecuteTime": {
     "end_time": "2025-03-29T18:49:42.197315Z",
     "start_time": "2025-03-29T18:49:42.192172Z"
    }
   },
   "outputs": [
    {
     "data": {
      "text/markdown": [
       "**AI Message Content:**\n",
       "\n",
       "Je vroeg: \"Wat is de top van uitmuntendheid?\" Volgens Sun Tzu's principes is de top van uitmuntendheid niet alleen vechten en winnen. Het is het breken van de vijandelijke weerstand zonder te vechten, door heimelijk te plannen en de vijandelijke plannen te dwarsbomen, zodat overwinning zonder bloedvergieten wordt bereikt."
      ],
      "text/plain": [
       "<IPython.core.display.Markdown object>"
      ]
     },
     "metadata": {},
     "output_type": "display_data"
    }
   ],
   "source": [
    "display(Markdown(f\"**AI Message Content:**\\n\\n{ai_message_content}\"))"
   ]
  },
  {
   "cell_type": "code",
   "execution_count": null,
   "id": "49439622-0dcb-4ad6-8d7b-7991c7010356",
   "metadata": {},
   "outputs": [],
   "source": []
  }
 ],
 "metadata": {
  "kernelspec": {
   "display_name": "Python 3 (ipykernel)",
   "language": "python",
   "name": "python3"
  },
  "language_info": {
   "codemirror_mode": {
    "name": "ipython",
    "version": 3
   },
   "file_extension": ".py",
   "mimetype": "text/x-python",
   "name": "python",
   "nbconvert_exporter": "python",
   "pygments_lexer": "ipython3",
   "version": "3.11.11"
  }
 },
 "nbformat": 4,
 "nbformat_minor": 5
}
