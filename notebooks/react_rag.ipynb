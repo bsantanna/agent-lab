{
 "cells": [
  {
   "metadata": {},
   "cell_type": "markdown",
   "source": [
    "### Agent-Lab: ReACT RAG Agent\n",
    "\n",
    "Objective of this notebook is evaluating and adapting the implementation of [ReAct Agent](https://langchain-ai.github.io/langgraph/how-tos/create-react-agent/) with retrieval evaluation.\n",
    "\n",
    "#### Preparation steps:\n",
    "\n",
    "Before executing the notebook perform the following preparation steps.\n",
    "\n",
    "1. Start Docker containers: `docker compose up -d --build`\n",
    "\n",
    "2. Verify application is up and running, with web browser: `http://localhost:18000/docs`\n",
    "\n",
    "3. Inside project root directory, create a `.env` file with env vars with correct values:\n",
    "\n",
    "    ```\n",
    "    OLLAMA_ENDPOINT=\"http://localhost:11434\"\n",
    "    OLLAMA_MODEL_TAG=\"phi4-mini:latest\"\n",
    "    ```\n",
    "\n",
    "---"
   ],
   "id": "64f16bc9dac3dcc0"
  },
  {
   "cell_type": "code",
   "id": "initial_id",
   "metadata": {
    "collapsed": true,
    "ExecuteTime": {
     "end_time": "2025-03-18T13:33:16.130512Z",
     "start_time": "2025-03-18T13:33:11.630384Z"
    }
   },
   "source": [
    "%%capture\n",
    "\n",
    "import os\n",
    "os.chdir('..')\n",
    "\n",
    "from dotenv import load_dotenv\n",
    "load_dotenv()\n",
    "\n",
    "from notebooks import experiment_utils\n",
    "from app.core.container import Container\n",
    "from app.interface.api.messages.schema import MessageRequest\n",
    "\n",
    "# start dependency injection container\n",
    "container = Container()\n",
    "container.init_resources()\n",
    "container.wire(modules=[__name__])"
   ],
   "outputs": [],
   "execution_count": 1
  },
  {
   "metadata": {
    "ExecuteTime": {
     "end_time": "2025-03-18T13:33:16.753526Z",
     "start_time": "2025-03-18T13:33:16.659947Z"
    }
   },
   "cell_type": "code",
   "source": [
    "# create agent\n",
    "agent = experiment_utils.create_ollama_agent(\n",
    "    agent_type=\"react_rag\",\n",
    "    llm_tag=\"phi4-mini:latest\",\n",
    "    ollama_endpoint=os.getenv(\"OLLAMA_ENDPOINT\")\n",
    ")\n",
    "\n",
    "# create attachment\n",
    "# attachment_id = experiment_utils.create_attachment(\n",
    "#     file_path=\"tests/integration/sun_tzu_the_art_of_war.zip\",\n",
    "#     content_type=\"application/zip\",\n",
    "# )\n",
    "#\n",
    "# processed_attachment = experiment_utils.create_embeddings(\n",
    "#     attachment_id,\n",
    "#     language_model_id=agent[\"language_model_id\"],\n",
    "#     collection_name=\"static_document_data\"\n",
    "# )"
   ],
   "id": "4c0e45f16ded36f8",
   "outputs": [],
   "execution_count": 2
  },
  {
   "metadata": {
    "ExecuteTime": {
     "end_time": "2025-03-18T13:33:18.450452Z",
     "start_time": "2025-03-18T13:33:17.817073Z"
    }
   },
   "cell_type": "code",
   "source": [
    "# get agent instance\n",
    "react_rag_agent = container.react_rag_agent()\n",
    "\n",
    "# Create Graph\n",
    "workflow = react_rag_agent.get_workflow(agent[\"id\"])\n",
    "experiment_utils.print_graph(workflow)"
   ],
   "id": "84030190a9309044",
   "outputs": [
    {
     "data": {
      "image/png": "[encoded data removed]",
      "text/plain": [
       "<IPython.core.display.Image object>"
      ]
     },
     "metadata": {},
     "output_type": "display_data"
    }
   ],
   "execution_count": 3
  },
  {
   "metadata": {
    "ExecuteTime": {
     "end_time": "2025-03-18T13:33:19.507478Z",
     "start_time": "2025-03-18T13:33:19.505595Z"
    }
   },
   "cell_type": "code",
   "source": [
    "agent_config = {\n",
    "    \"configurable\": {\n",
    "        \"thread_id\": agent[\"id\"],\n",
    "    },\n",
    "    \"recursion_limit\": 30\n",
    "}"
   ],
   "id": "a7a69fedb232edff",
   "outputs": [],
   "execution_count": 4
  },
  {
   "metadata": {
    "ExecuteTime": {
     "end_time": "2025-03-18T13:33:36.247759Z",
     "start_time": "2025-03-18T13:33:21.599873Z"
    }
   },
   "cell_type": "code",
   "source": [
    "%%capture\n",
    "\n",
    "message = MessageRequest(\n",
    "    message_role=\"human\",\n",
    "    message_content=\"What is the pinnacle of excellence?\",\n",
    "    agent_id=agent[\"id\"]\n",
    ")\n",
    "\n",
    "inputs = react_rag_agent.get_input_params(message)\n",
    "result = workflow.invoke(inputs, agent_config)"
   ],
   "id": "9f3a49cff851703",
   "outputs": [],
   "execution_count": 5
  },
  {
   "metadata": {
    "ExecuteTime": {
     "end_time": "2025-03-18T13:33:36.257930Z",
     "start_time": "2025-03-18T13:33:36.255600Z"
    }
   },
   "cell_type": "code",
   "source": "print(result.keys())",
   "id": "4056f931508d3b0",
   "outputs": [
    {
     "name": "stdout",
     "output_type": "stream",
     "text": [
      "dict_keys(['messages'])\n"
     ]
    }
   ],
   "execution_count": 6
  },
  {
   "metadata": {
    "ExecuteTime": {
     "end_time": "2025-03-18T13:33:36.328652Z",
     "start_time": "2025-03-18T13:33:36.326473Z"
    }
   },
   "cell_type": "code",
   "source": "print(result['messages'][-1].content)",
   "id": "bd8b66c8eed5f4d6",
   "outputs": [
    {
     "name": "stdout",
     "output_type": "stream",
     "text": [
      "<thinking>\n",
      "The user is asking for the highest standard or peak level in a general context. The provided text comes from Sun Tzu's \"Art of War,\" which discusses excellence not only as it pertains to war but also metaphorically applies these ideas broadly.\n",
      "\n",
      "Key points extracted include that supreme excellence involves avoiding direct confrontation, deceiving and outmaneuvering an opponent without engaging them directly (\"breaking the enemy’s resistance without fighting\"), planning secretly with strategic forethought (foiling one's enemies), ensuring victories are not obvious or expected by others (\"the common herd\"), achieving certainty in victory through perfectionist tactics devoid of mistakes.\n",
      "\n",
      "The ultimate peak is a state where one controls success, adheres to moral laws and discipline strictly while also being methodical. The pinnacle encompasses understanding measurement as Earth signifies the base foundation; estimation quantifies it further which leads to calculation (a more complex level). Balancing chances equates with victory - this final step suggests mastering all previous steps leading up to a point where success is guaranteed.\n",
      "</thinking>\n",
      "\n",
      "<response>\n",
      "The highest standard or peak of excellence, according to Sun Tzu's principles in \"Art of War,\" can be understood as achieving perfection through strategic thought and careful planning. It involves avoiding direct confrontation by outsmarting the opponent silently (\"breaking the enemy’s resistance without fighting\"), ensuring victories are not apparent at first glance (not evident when others witness them), making no mistakes to ensure victory is already secured before engagement, strictly adhering to moral laws while being disciplined in methodical ways that allow one total control over success. This pinnacle includes mastering foundational principles of measurement and estimation which leads into calculation; finally achieving a balance where chances are weighted towards guaranteed triumph (Victory). Essentially it encompasses wisdom for strategy rather than brute force or direct combat.\n",
      "</response>\n"
     ]
    }
   ],
   "execution_count": 7
  },
  {
   "metadata": {
    "ExecuteTime": {
     "end_time": "2025-03-18T14:11:15.611923Z",
     "start_time": "2025-03-18T14:10:57.768807Z"
    }
   },
   "cell_type": "code",
   "source": [
    "%%capture\n",
    "\n",
    "message = MessageRequest(\n",
    "    message_role=\"human\",\n",
    "    message_content=\"Kun je mijn vorige vraag en jouw antwoord herhalen in Nederlands alstublieft? Gebruik maximaal tien zinnen.\",\n",
    "    agent_id=agent[\"id\"]\n",
    ")\n",
    "\n",
    "inputs = react_rag_agent.get_input_params(message)\n",
    "result = workflow.invoke(inputs, agent_config)"
   ],
   "id": "8a1b771dff7a1f24",
   "outputs": [],
   "execution_count": 10
  },
  {
   "metadata": {
    "ExecuteTime": {
     "end_time": "2025-03-18T14:11:15.623657Z",
     "start_time": "2025-03-18T14:11:15.620892Z"
    }
   },
   "cell_type": "code",
   "source": "print(result['messages'][-1].content)",
   "id": "2345b2d7bfb44d20",
   "outputs": [
    {
     "name": "stdout",
     "output_type": "stream",
     "text": [
      "<thinking>\n",
      "The user requests a summary of Sun Tzu's strategies from his \"Art of War\" translated into Dutch. The context provided includes advice on choosing battlefields and tactics based on the terrain type (flat ground for not attacking; easy land where one should halt, contentious to avoid attack). It also details rewards in chariot battles after capturing ten enemy units as a form of leveraging conquered enemies' strength.\n",
      "\n",
      "Additionally included are various principles from Sun Tzu's work:\n",
      "\n",
      "- The importance placed upon victory over prolonged campaigns.\n",
      "- Military virtues adjusted with humanity or benevolence and courage/sincerity taking precedence, along with an explanation involving the rearrangement of virtue names in translation for clarity (e.g., 'uprightness' becomes one of military terms like \"courage\").\n",
      "- Strategies against a disciplined enemy force: surround if outnumbered ten to one; attack when five to one. Divide forces into smaller units instead of relying on numerical superiority.\n",
      "</thinking> \n",
      "\n",
      "<response>\n",
      "Sun Tzu's strategieën uit zijn 'De Kunst van de Oorlog' in het Nederlands:\n",
      "\n",
      "Het is belangrijk om te streven naar overwinning, niet langdurige campagnes.\n",
      "\n",
      "In boeterschachten: 10 tegen 1 - omring je vijand; 5 tegen 1 - voer een aanval door. Als twee keer zoveel, deel je leger in segmenten (Stratagem).\n",
      "\n",
      "De virtussen van de krijgskunst zijn herarrangeerd voor duidelijkheid: 'humaniteit' en 'belijdenis'. De Chinese teksten bevatten dubbele betekenissen die variëren van het behouden van wapens tot militaire tactieken.\n",
      "</response>\n"
     ]
    }
   ],
   "execution_count": 11
  },
  {
   "metadata": {
    "ExecuteTime": {
     "end_time": "2025-03-18T14:11:15.710183Z",
     "start_time": "2025-03-18T14:11:15.708548Z"
    }
   },
   "cell_type": "code",
   "source": "",
   "id": "59958e23600b40c1",
   "outputs": [],
   "execution_count": null
  },
  {
   "metadata": {},
   "cell_type": "code",
   "outputs": [],
   "execution_count": null,
   "source": "",
   "id": "7e519ca262b1bc5"
  }
 ],
 "metadata": {
  "kernelspec": {
   "display_name": "Python 3",
   "language": "python",
   "name": "python3"
  },
  "language_info": {
   "codemirror_mode": {
    "name": "ipython",
    "version": 2
   },
   "file_extension": ".py",
   "mimetype": "text/x-python",
   "name": "python",
   "nbconvert_exporter": "python",
   "pygments_lexer": "ipython2",
   "version": "2.7.6"
  }
 },
 "nbformat": 4,
 "nbformat_minor": 5
}
