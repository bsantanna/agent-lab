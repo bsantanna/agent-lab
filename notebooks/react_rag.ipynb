{
 "cells": [
  {
   "metadata": {},
   "cell_type": "markdown",
   "source": [
    "### Agent-Lab: Vision Document Agent\n",
    "\n",
    "Objective of this notebook is evaluating and adapting the implementation of [Multi-modal Agent](https://python.langchain.com/docs/integrations/llms/ollama/#multi-modal) specialized on documents.\n",
    "\n",
    "#### Preparation steps:\n",
    "\n",
    "Before executing the notebook perform the following preparation steps.\n",
    "\n",
    "1. Start Docker containers: `docker compose up -d --build`\n",
    "\n",
    "2. Verify application is up and running, with web browser: `http://localhost:18000/docs`\n",
    "\n",
    "3. Inside project root directory, create a `.env` file with env vars with correct values:\n",
    "\n",
    "    ```\n",
    "    OLLAMA_ENDPOINT=\"http://localhost:11434\"\n",
    "    OLLAMA_MODEL_TAG=\"llama3.2-vision:latest\"\n",
    "    ```\n",
    "\n",
    "---"
   ],
   "id": "64f16bc9dac3dcc0"
  },
  {
   "cell_type": "code",
   "id": "initial_id",
   "metadata": {
    "collapsed": true,
    "ExecuteTime": {
     "end_time": "2025-03-16T10:39:49.735680Z",
     "start_time": "2025-03-16T10:39:46.584847Z"
    }
   },
   "source": [
    "%%capture\n",
    "\n",
    "import os\n",
    "os.chdir('..')\n",
    "\n",
    "from dotenv import load_dotenv\n",
    "load_dotenv()\n",
    "\n",
    "from notebooks import experiment_utils\n",
    "from app.core.container import Container\n",
    "from app.interface.api.messages.schema import MessageRequest\n",
    "\n",
    "# start dependency injection container\n",
    "container = Container()\n",
    "container.init_resources()\n",
    "container.wire(modules=[__name__])"
   ],
   "outputs": [],
   "execution_count": 1
  },
  {
   "metadata": {
    "ExecuteTime": {
     "end_time": "2025-03-16T10:43:55.702207Z",
     "start_time": "2025-03-16T10:39:50.308485Z"
    }
   },
   "cell_type": "code",
   "source": [
    "# create agent\n",
    "agent = experiment_utils.create_ollama_agent(\n",
    "    agent_type=\"react_rag\",\n",
    "    llm_tag=\"phi4-mini:latest\",\n",
    "    ollama_endpoint=os.getenv(\"OLLAMA_ENDPOINT\")\n",
    ")\n",
    "\n",
    "# create attachment\n",
    "# attachment_id = experiment_utils.create_attachment(\n",
    "#     file_path=\"tests/integration/sun_tzu_the_art_of_war.zip\",\n",
    "#     content_type=\"application/zip\",\n",
    "# )\n",
    "#\n",
    "# processed_attachment = experiment_utils.create_embeddings(\n",
    "#     attachment_id,\n",
    "#     language_model_id=agent[\"language_model_id\"],\n",
    "#     collection_name=\"static_document_data\"\n",
    "# )"
   ],
   "id": "4c0e45f16ded36f8",
   "outputs": [],
   "execution_count": 2
  },
  {
   "metadata": {
    "ExecuteTime": {
     "end_time": "2025-03-16T10:44:11.219268Z",
     "start_time": "2025-03-16T10:44:10.198405Z"
    }
   },
   "cell_type": "code",
   "source": [
    "# get agent instance\n",
    "react_rag_agent = container.react_rag_agent()\n",
    "\n",
    "# Create Graph\n",
    "workflow = react_rag_agent.get_workflow(agent[\"id\"])\n",
    "experiment_utils.print_graph(workflow)"
   ],
   "id": "84030190a9309044",
   "outputs": [
    {
     "data": {
      "image/png": "[encoded data removed]",
      "text/plain": [
       "<IPython.core.display.Image object>"
      ]
     },
     "metadata": {},
     "output_type": "display_data"
    }
   ],
   "execution_count": 3
  },
  {
   "metadata": {
    "ExecuteTime": {
     "end_time": "2025-03-16T10:44:18.667643Z",
     "start_time": "2025-03-16T10:44:18.662885Z"
    }
   },
   "cell_type": "code",
   "source": [
    "agent_config = {\n",
    "    \"configurable\": {\n",
    "        \"thread_id\": agent[\"id\"],\n",
    "    },\n",
    "    \"recursion_limit\": 30\n",
    "}"
   ],
   "id": "a7a69fedb232edff",
   "outputs": [],
   "execution_count": 4
  },
  {
   "metadata": {
    "ExecuteTime": {
     "end_time": "2025-03-16T10:46:21.252228Z",
     "start_time": "2025-03-16T10:46:12.803597Z"
    }
   },
   "cell_type": "code",
   "source": [
    "%%capture\n",
    "\n",
    "message = MessageRequest(\n",
    "    message_role=\"human\",\n",
    "    message_content=\"Search: what is the relation between heaven and land in The Art of War Book?\",\n",
    "    agent_id=agent[\"id\"]\n",
    ")\n",
    "\n",
    "inputs = react_rag_agent.get_input_params(message)\n",
    "result = workflow.invoke(inputs, agent_config)"
   ],
   "id": "9f3a49cff851703",
   "outputs": [],
   "execution_count": 11
  },
  {
   "metadata": {
    "ExecuteTime": {
     "end_time": "2025-03-16T10:46:25.169979Z",
     "start_time": "2025-03-16T10:46:25.161671Z"
    }
   },
   "cell_type": "code",
   "source": "print(result.keys())",
   "id": "4056f931508d3b0",
   "outputs": [
    {
     "name": "stdout",
     "output_type": "stream",
     "text": [
      "dict_keys(['messages'])\n"
     ]
    }
   ],
   "execution_count": 12
  },
  {
   "metadata": {
    "ExecuteTime": {
     "end_time": "2025-03-16T10:46:25.717869Z",
     "start_time": "2025-03-16T10:46:25.714792Z"
    }
   },
   "cell_type": "code",
   "source": "print(result['messages'][-1].content)",
   "id": "bd8b66c8eed5f4d6",
   "outputs": [
    {
     "name": "stdout",
     "output_type": "stream",
     "text": [
      "The original text by Sun Tzu, known simply as \"The Art of War,\" doesn't directly discuss concepts like 'heaven' or divine right related to governance over territory ('land'). It primarily focuses on military strategy rather than metaphysical relationships.\n",
      "\n",
      "However, understanding the contextual relationship between Heaven (a spiritual/religious concept in Chinese culture implying moral authority and cosmic order) could be metaphorically interpreted through Sun Tzu's emphasis:\n",
      "- Governance aligned with 'Heaven' as an ideal reflects justice/moral righteousness—suggesting rulers should align their strategies to reflect higher wisdom/ethical principles akin heavenly ways.\n",
      "  \n",
      "In practice, it implies that the ruler (or general strategist in warfare terms) acts justly and wisely — ideally following moral laws perceived analogous from Heaven's order.\n",
      "\n",
      "To directly quote Sun Tzu:\n",
      "> \"He who knows others is wise; he who understands himself is enlightened. The supreme art of war is to subdue enemies without fighting.\"\n",
      "\n",
      "This stresses strategic wisdom over direct confrontation—an essential principle for achieving victory through superior strategy, which indirectly aligns leadership as moral and just ('heavenly') governance.\n",
      "\n",
      "So while not directly connecting 'Heaven' with land in literal sense but rather ideal ethical alignment/righteousness expected from a ruler akin to Heaven's order guiding wise conduct.\n"
     ]
    }
   ],
   "execution_count": 13
  },
  {
   "metadata": {},
   "cell_type": "code",
   "outputs": [],
   "execution_count": null,
   "source": "",
   "id": "8a1b771dff7a1f24"
  }
 ],
 "metadata": {
  "kernelspec": {
   "display_name": "Python 3",
   "language": "python",
   "name": "python3"
  },
  "language_info": {
   "codemirror_mode": {
    "name": "ipython",
    "version": 2
   },
   "file_extension": ".py",
   "mimetype": "text/x-python",
   "name": "python",
   "nbconvert_exporter": "python",
   "pygments_lexer": "ipython2",
   "version": "2.7.6"
  }
 },
 "nbformat": 4,
 "nbformat_minor": 5
}
