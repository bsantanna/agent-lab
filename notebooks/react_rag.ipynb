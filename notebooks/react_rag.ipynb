{
 "cells": [
  {
   "cell_type": "markdown",
   "id": "64f16bc9dac3dcc0",
   "metadata": {},
   "source": [
    "### Agent-Lab: ReACT RAG Agent\n",
    "\n",
    "Objective of this notebook is evaluating and adapting the implementation of [ReAct Agent](https://langchain-ai.github.io/langgraph/how-tos/create-react-agent/) with retrieval evaluation.\n",
    "\n",
    "#### Preparation steps:\n",
    "\n",
    "Before executing the notebook perform the following preparation steps.\n",
    "\n",
    "1. Start Docker containers: `docker compose up -d --build`\n",
    "\n",
    "2. Verify application is up and running, with web browser: `http://localhost:18000/docs`\n",
    "\n",
    "3. Inside project root directory, create a `.env` file with env vars with correct values:\n",
    "\n",
    "    ```\n",
    "    DEVELOPING=\"True\"\n",
    "    TAVILY_API_KEY=\"???\"\n",
    "    OLLAMA_ENDPOINT=\"http://localhost:11434\"\n",
    "    ```\n",
    "\n",
    "---"
   ]
  },
  {
   "cell_type": "code",
   "execution_count": 1,
   "id": "initial_id",
   "metadata": {
    "ExecuteTime": {
     "end_time": "2025-03-29T18:49:24.861922Z",
     "start_time": "2025-03-29T18:49:21.432372Z"
    }
   },
   "outputs": [],
   "source": [
    "%%capture\n",
    "\n",
    "import json\n",
    "import os\n",
    "\n",
    "os.chdir(\"..\")\n",
    "\n",
    "from dotenv import load_dotenv\n",
    "\n",
    "load_dotenv()\n",
    "\n",
    "from IPython.display import Markdown, display\n",
    "\n",
    "from notebooks import experiment_utils\n",
    "from app.core.container import Container\n",
    "from app.interface.api.messages.schema import MessageRequest\n",
    "\n",
    "# start dependency injection container\n",
    "container = Container()\n",
    "container.init_resources()\n",
    "container.wire(modules=[__name__])"
   ]
  },
  {
   "cell_type": "code",
   "execution_count": 2,
   "id": "797e52d2-0565-4fee-8a08-463ec7c91b09",
   "metadata": {},
   "outputs": [],
   "source": [
    "# create agent\n",
    "# agent = experiment_utils.create_ollama_agent(\n",
    "#    agent_type=\"react_rag\",\n",
    "#    llm_tag=\"phi4-mini:latest\",\n",
    "#    ollama_endpoint=os.getenv(\"OLLAMA_ENDPOINT\")\n",
    "# )\n",
    "\n",
    "agent = experiment_utils.create_xai_agent(\n",
    "    agent_type=\"adaptive_rag\", llm_tag=\"grok-2-vision\", api_key=os.getenv(\"XAI_API_KEY\")\n",
    ")"
   ]
  },
  {
   "cell_type": "code",
   "execution_count": 3,
   "id": "4c0e45f16ded36f8",
   "metadata": {
    "ExecuteTime": {
     "end_time": "2025-03-29T18:49:24.915574Z",
     "start_time": "2025-03-29T18:49:24.866859Z"
    }
   },
   "outputs": [],
   "source": [
    "# create attachment\n",
    "# attachment_id = experiment_utils.create_attachment(\n",
    "#     file_path=\"tests/integration/sun_tzu_the_art_of_war.zip\",\n",
    "#     content_type=\"application/zip\",\n",
    "# )\n",
    "#\n",
    "# processed_attachment = experiment_utils.create_embeddings(\n",
    "#     attachment_id,\n",
    "#     language_model_id=agent[\"language_model_id\"],\n",
    "#     collection_name=\"static_document_data\"\n",
    "# )"
   ]
  },
  {
   "cell_type": "code",
   "execution_count": 4,
   "id": "84030190a9309044",
   "metadata": {
    "ExecuteTime": {
     "end_time": "2025-03-29T18:49:25.974769Z",
     "start_time": "2025-03-29T18:49:25.064947Z"
    }
   },
   "outputs": [
    {
     "data": {
      "image/png": "[encoded data removed]",
      "text/plain": [
       "<IPython.core.display.Image object>"
      ]
     },
     "metadata": {},
     "output_type": "display_data"
    }
   ],
   "source": [
    "# get agent instance\n",
    "react_rag_agent = container.react_rag_agent()\n",
    "\n",
    "# Create Graph\n",
    "workflow = react_rag_agent.get_workflow(agent[\"id\"])\n",
    "experiment_utils.print_graph(workflow)"
   ]
  },
  {
   "cell_type": "code",
   "execution_count": 5,
   "id": "a7a69fedb232edff",
   "metadata": {
    "ExecuteTime": {
     "end_time": "2025-03-29T18:49:25.988008Z",
     "start_time": "2025-03-29T18:49:25.984475Z"
    }
   },
   "outputs": [],
   "source": [
    "agent_config = {\n",
    "    \"configurable\": {\n",
    "        \"thread_id\": agent[\"id\"],\n",
    "    },\n",
    "    \"recursion_limit\": 30,\n",
    "}"
   ]
  },
  {
   "cell_type": "code",
   "execution_count": 6,
   "id": "9f3a49cff851703",
   "metadata": {
    "ExecuteTime": {
     "end_time": "2025-03-29T18:49:35.718382Z",
     "start_time": "2025-03-29T18:49:26.113611Z"
    }
   },
   "outputs": [],
   "source": [
    "%%capture\n",
    "\n",
    "message = MessageRequest(\n",
    "    message_role=\"human\",\n",
    "    message_content=\"What is the pinnacle of excellence?\",\n",
    "    agent_id=agent[\"id\"],\n",
    ")\n",
    "\n",
    "inputs = react_rag_agent.get_input_params(message)\n",
    "result = workflow.invoke(inputs, agent_config)\n",
    "ai_message_content, workflow_state = react_rag_agent.format_response(result)"
   ]
  },
  {
   "cell_type": "code",
   "execution_count": 7,
   "id": "4056f931508d3b0",
   "metadata": {
    "ExecuteTime": {
     "end_time": "2025-03-29T18:49:35.790862Z",
     "start_time": "2025-03-29T18:49:35.785706Z"
    }
   },
   "outputs": [
    {
     "data": {
      "text/markdown": [
       "**AI Message Content:**\n",
       "\n",
       "According to Sun Tzu's principles outlined in the provided context, the pinnacle of excellence in military strategy is not merely fighting and winning battles. Instead, **supreme excellence** is achieved by **breaking the enemy's resistance without fighting**. This involves planning secretly, moving surreptitiously, and foiling the enemy's plans so that victory can be secured without bloodshed. This approach not only preserves resources and lives but also demonstrates a higher level of strategic mastery."
      ],
      "text/plain": [
       "<IPython.core.display.Markdown object>"
      ]
     },
     "metadata": {},
     "output_type": "display_data"
    }
   ],
   "source": [
    "display(Markdown(f\"**AI Message Content:**\\n\\n{ai_message_content}\"))"
   ]
  },
  {
   "cell_type": "code",
   "execution_count": 8,
   "id": "0daa35d2-9405-45f6-8a1d-d4c19c6622b4",
   "metadata": {},
   "outputs": [
    {
     "data": {
      "text/markdown": [
       "**Workflow state:**\n",
       "```json\n",
       "{\n",
       "  \"messages\": [\n",
       "    {\n",
       "      \"content\": \"<query>What is the pinnacle of excellence?</query> <context>Hence to fight and conquer in all your battles is not supreme excellence; supreme excellence consists in breaking the enemy\\u2019s resistance without fighting.\\n\\n[Here again, no modern strategist but will approve the words of the old Chinese general. Moltke\\u2019s greatest triumph, the capitulation of the huge French army at Sedan, was won practically without bloodshed.]\\n\\nThus the highest form of generalship is to baulk the enemy\\u2019s plans;\\n---\\nNeither is it the acme of excellence if you fight and conquer and the whole Empire says, \\\"Well done!\\\"\\n\\n[True excellence being, as Tu Mu says: \\\"To plan secretly, to move surreptitiously, to foil the enemy\\u2019s intentions and balk his schemes, so that at last the day may be won without shedding a drop of blood.\\\" Sun Tz\\u016d reserves his approbation for things that\\n\\n\\\"the world\\u2019s coarse thumb And finger fail to plumb.\\\"\\n\\nTo lift an autumn hair is no sign of great strength;\\n---\\nThus on the one hand we have ability to protect ourselves; on the other, a victory that is complete.\\n\\nTo see victory only when it is within the ken of the common herd is not the acme of excellence.\\n---\\nThe Commander stands for the virtues of wisdom, sincerity, benevolence, courage and strictness.\\n---\\n[Literally, \\\"hides under the ninth earth,\\\" which is a metaphor indicating the utmost secrecy and concealment, so that the enemy may not know his whereabouts.\\\"]\\n\\nhe who is skilled in attack flashes forth from the topmost heights of heaven.\\n\\n[Another metaphor, implying that he falls on his adversary like a thunderbolt, against which there is no time to prepare. This is the opinion of most of the commentators.]\\n---\\nMaking no mistakes is what establishes the certainty of victory, for it means conquering an enemy that is already defeated.\\n\\nHence the skilful fighter puts himself into a position which makes defeat impossible, and does not miss the moment for defeating the enemy.\\n\\n[A \\\"counsel of perfection\\\" as Tu Mu truly observes. \\\"Position\\\" need not be confined to the actual ground occupied by the troops. It includes all the arrangements and preparations which a wise general will make to increase the safety of his army.]\\n---\\nThe consummate leader cultivates the moral law, and strictly adheres to method and discipline; thus it is in his power to control success.\\n\\nIn respect of military method, we have, firstly, Measurement; secondly, Estimation of quantity; thirdly, Calculation; fourthly, Balancing of chances; fifthly, Victory.\\n\\nMeasurement owes its existence to Earth; Estimation of quantity to Measurement; Calculation to Estimation of quantity; Balancing of chances to Calculation; and Victory to Balancing of chances.</context>\",\n",
       "      \"additional_kwargs\": {},\n",
       "      \"response_metadata\": {},\n",
       "      \"type\": \"human\",\n",
       "      \"name\": null,\n",
       "      \"id\": \"06393f06-2a11-4232-bd72-e5c753a0d67d\",\n",
       "      \"example\": false\n",
       "    },\n",
       "    {\n",
       "      \"content\": \"According to Sun Tzu's principles outlined in the provided context, the pinnacle of excellence in military strategy is not merely fighting and winning battles. Instead, **supreme excellence** is achieved by **breaking the enemy's resistance without fighting**. This involves planning secretly, moving surreptitiously, and foiling the enemy's plans so that victory can be secured without bloodshed. This approach not only preserves resources and lives but also demonstrates a higher level of strategic mastery.\",\n",
       "      \"additional_kwargs\": {\n",
       "        \"refusal\": null\n",
       "      },\n",
       "      \"response_metadata\": {\n",
       "        \"token_usage\": {\n",
       "          \"completion_tokens\": 91,\n",
       "          \"prompt_tokens\": 631,\n",
       "          \"total_tokens\": 722,\n",
       "          \"completion_tokens_details\": {\n",
       "            \"accepted_prediction_tokens\": 0,\n",
       "            \"audio_tokens\": 0,\n",
       "            \"reasoning_tokens\": 0,\n",
       "            \"rejected_prediction_tokens\": 0\n",
       "          },\n",
       "          \"prompt_tokens_details\": {\n",
       "            \"audio_tokens\": 0,\n",
       "            \"cached_tokens\": 0,\n",
       "            \"text_tokens\": 631,\n",
       "            \"image_tokens\": 0\n",
       "          }\n",
       "        },\n",
       "        \"model_name\": \"grok-2-vision-1212\",\n",
       "        \"system_fingerprint\": \"fp_3858f1c03e\",\n",
       "        \"id\": \"fbea61a6-d30a-48c1-9dca-87b572a1e49b\",\n",
       "        \"finish_reason\": \"stop\",\n",
       "        \"logprobs\": null\n",
       "      },\n",
       "      \"type\": \"ai\",\n",
       "      \"name\": null,\n",
       "      \"id\": \"run-ff043de3-dd5f-406e-8c7f-ac69e0046222-0\",\n",
       "      \"example\": false,\n",
       "      \"tool_calls\": [],\n",
       "      \"invalid_tool_calls\": [],\n",
       "      \"usage_metadata\": {\n",
       "        \"input_tokens\": 631,\n",
       "        \"output_tokens\": 91,\n",
       "        \"total_tokens\": 722,\n",
       "        \"input_token_details\": {\n",
       "          \"audio\": 0,\n",
       "          \"cache_read\": 0\n",
       "        },\n",
       "        \"output_token_details\": {\n",
       "          \"audio\": 0,\n",
       "          \"reasoning\": 0\n",
       "        }\n",
       "      }\n",
       "    }\n",
       "  ]\n",
       "}\n",
       "```"
      ],
      "text/plain": [
       "<IPython.core.display.Markdown object>"
      ]
     },
     "metadata": {},
     "output_type": "display_data"
    }
   ],
   "source": [
    "display(\n",
    "    Markdown(\n",
    "        f\"**Workflow state:**\\n```json\\n{json.dumps(workflow_state, indent=2)}\\n```\"\n",
    "    )\n",
    ")"
   ]
  },
  {
   "cell_type": "code",
   "execution_count": 9,
   "id": "8a1b771dff7a1f24",
   "metadata": {
    "ExecuteTime": {
     "end_time": "2025-03-29T18:49:42.186059Z",
     "start_time": "2025-03-29T18:49:35.839380Z"
    }
   },
   "outputs": [],
   "source": [
    "%%capture\n",
    "\n",
    "message = MessageRequest(\n",
    "    message_role=\"human\",\n",
    "    message_content=\"Kun je mijn vorige vraag en jouw antwoord herhalen in Nederlands alstublieft? Gebruik maximaal tien zinnen.\",\n",
    "    agent_id=agent[\"id\"],\n",
    ")\n",
    "\n",
    "inputs = react_rag_agent.get_input_params(message)\n",
    "result = workflow.invoke(inputs, agent_config)\n",
    "ai_message_content, workflow_state = react_rag_agent.format_response(result)"
   ]
  },
  {
   "cell_type": "code",
   "execution_count": 10,
   "id": "2345b2d7bfb44d20",
   "metadata": {
    "ExecuteTime": {
     "end_time": "2025-03-29T18:49:42.197315Z",
     "start_time": "2025-03-29T18:49:42.192172Z"
    }
   },
   "outputs": [
    {
     "data": {
      "text/markdown": [
       "**AI Message Content:**\n",
       "\n",
       "Je vroeg: \"Wat is de top van uitmuntendheid?\" Volgens Sun Tzu's principes is de top van uitmuntendheid niet alleen vechten en winnen. Het is het breken van de vijandelijke weerstand zonder te vechten, door heimelijk te plannen en de vijandelijke plannen te dwarsbomen, zodat overwinning zonder bloedvergieten wordt bereikt."
      ],
      "text/plain": [
       "<IPython.core.display.Markdown object>"
      ]
     },
     "metadata": {},
     "output_type": "display_data"
    }
   ],
   "source": [
    "display(Markdown(f\"**AI Message Content:**\\n\\n{ai_message_content}\"))"
   ]
  },
  {
   "cell_type": "code",
   "execution_count": 11,
   "id": "7e519ca262b1bc5",
   "metadata": {
    "ExecuteTime": {
     "end_time": "2025-03-29T18:49:42.244070Z",
     "start_time": "2025-03-29T18:49:42.241635Z"
    }
   },
   "outputs": [
    {
     "data": {
      "text/markdown": [
       "**Workflow state:**\n",
       "```json\n",
       "{\n",
       "  \"messages\": [\n",
       "    {\n",
       "      \"content\": \"<query>What is the pinnacle of excellence?</query> <context>Hence to fight and conquer in all your battles is not supreme excellence; supreme excellence consists in breaking the enemy\\u2019s resistance without fighting.\\n\\n[Here again, no modern strategist but will approve the words of the old Chinese general. Moltke\\u2019s greatest triumph, the capitulation of the huge French army at Sedan, was won practically without bloodshed.]\\n\\nThus the highest form of generalship is to baulk the enemy\\u2019s plans;\\n---\\nNeither is it the acme of excellence if you fight and conquer and the whole Empire says, \\\"Well done!\\\"\\n\\n[True excellence being, as Tu Mu says: \\\"To plan secretly, to move surreptitiously, to foil the enemy\\u2019s intentions and balk his schemes, so that at last the day may be won without shedding a drop of blood.\\\" Sun Tz\\u016d reserves his approbation for things that\\n\\n\\\"the world\\u2019s coarse thumb And finger fail to plumb.\\\"\\n\\nTo lift an autumn hair is no sign of great strength;\\n---\\nThus on the one hand we have ability to protect ourselves; on the other, a victory that is complete.\\n\\nTo see victory only when it is within the ken of the common herd is not the acme of excellence.\\n---\\nThe Commander stands for the virtues of wisdom, sincerity, benevolence, courage and strictness.\\n---\\n[Literally, \\\"hides under the ninth earth,\\\" which is a metaphor indicating the utmost secrecy and concealment, so that the enemy may not know his whereabouts.\\\"]\\n\\nhe who is skilled in attack flashes forth from the topmost heights of heaven.\\n\\n[Another metaphor, implying that he falls on his adversary like a thunderbolt, against which there is no time to prepare. This is the opinion of most of the commentators.]\\n---\\nMaking no mistakes is what establishes the certainty of victory, for it means conquering an enemy that is already defeated.\\n\\nHence the skilful fighter puts himself into a position which makes defeat impossible, and does not miss the moment for defeating the enemy.\\n\\n[A \\\"counsel of perfection\\\" as Tu Mu truly observes. \\\"Position\\\" need not be confined to the actual ground occupied by the troops. It includes all the arrangements and preparations which a wise general will make to increase the safety of his army.]\\n---\\nThe consummate leader cultivates the moral law, and strictly adheres to method and discipline; thus it is in his power to control success.\\n\\nIn respect of military method, we have, firstly, Measurement; secondly, Estimation of quantity; thirdly, Calculation; fourthly, Balancing of chances; fifthly, Victory.\\n\\nMeasurement owes its existence to Earth; Estimation of quantity to Measurement; Calculation to Estimation of quantity; Balancing of chances to Calculation; and Victory to Balancing of chances.</context>\",\n",
       "      \"additional_kwargs\": {},\n",
       "      \"response_metadata\": {},\n",
       "      \"type\": \"human\",\n",
       "      \"name\": null,\n",
       "      \"id\": \"06393f06-2a11-4232-bd72-e5c753a0d67d\",\n",
       "      \"example\": false\n",
       "    },\n",
       "    {\n",
       "      \"content\": \"According to Sun Tzu's principles outlined in the provided context, the pinnacle of excellence in military strategy is not merely fighting and winning battles. Instead, **supreme excellence** is achieved by **breaking the enemy's resistance without fighting**. This involves planning secretly, moving surreptitiously, and foiling the enemy's plans so that victory can be secured without bloodshed. This approach not only preserves resources and lives but also demonstrates a higher level of strategic mastery.\",\n",
       "      \"additional_kwargs\": {\n",
       "        \"refusal\": null\n",
       "      },\n",
       "      \"response_metadata\": {\n",
       "        \"token_usage\": {\n",
       "          \"completion_tokens\": 91,\n",
       "          \"prompt_tokens\": 631,\n",
       "          \"total_tokens\": 722,\n",
       "          \"completion_tokens_details\": {\n",
       "            \"accepted_prediction_tokens\": 0,\n",
       "            \"audio_tokens\": 0,\n",
       "            \"reasoning_tokens\": 0,\n",
       "            \"rejected_prediction_tokens\": 0\n",
       "          },\n",
       "          \"prompt_tokens_details\": {\n",
       "            \"audio_tokens\": 0,\n",
       "            \"cached_tokens\": 0,\n",
       "            \"text_tokens\": 631,\n",
       "            \"image_tokens\": 0\n",
       "          }\n",
       "        },\n",
       "        \"model_name\": \"grok-2-vision-1212\",\n",
       "        \"system_fingerprint\": \"fp_3858f1c03e\",\n",
       "        \"id\": \"fbea61a6-d30a-48c1-9dca-87b572a1e49b\",\n",
       "        \"finish_reason\": \"stop\",\n",
       "        \"logprobs\": null\n",
       "      },\n",
       "      \"type\": \"ai\",\n",
       "      \"name\": null,\n",
       "      \"id\": \"run-ff043de3-dd5f-406e-8c7f-ac69e0046222-0\",\n",
       "      \"example\": false,\n",
       "      \"tool_calls\": [],\n",
       "      \"invalid_tool_calls\": [],\n",
       "      \"usage_metadata\": {\n",
       "        \"input_tokens\": 631,\n",
       "        \"output_tokens\": 91,\n",
       "        \"total_tokens\": 722,\n",
       "        \"input_token_details\": {\n",
       "          \"audio\": 0,\n",
       "          \"cache_read\": 0\n",
       "        },\n",
       "        \"output_token_details\": {\n",
       "          \"audio\": 0,\n",
       "          \"reasoning\": 0\n",
       "        }\n",
       "      }\n",
       "    },\n",
       "    {\n",
       "      \"content\": \"<query>Kun je mijn vorige vraag en jouw antwoord herhalen in Nederlands alstublieft? Gebruik maximaal tien zinnen.</query> <context>[Mei Yao-ch\\u2019en says: \\\"plentifully provided with roads and means of communications.\\\"]\\n\\n(2) entangling ground;\\n\\n[The same commentator says: \\\"Net-like country, venturing into which you become entangled.\\\"]\\n\\n(3) temporising ground;\\n\\n[Ground which allows you to \\\"stave off\\\" or \\\"delay.\\\"]\\n\\n(4) narrow passes; (5) precipitous heights; (6) positions at a great distance from the enemy.\\n---\\nTherefore in chariot fighting, when ten or more chariots have been taken, those should be rewarded who took the first. Our own flags should be substituted for those of the enemy, and the chariots mingled and used in conjunction with ours. The captured soldiers should be kindly treated and kept.\\n\\nThis is called, using the conquered foe to augment one\\u2019s own strength.\\n\\nIn war, then, let your great object be victory, not lengthy campaigns.\\n---\\n[The five cardinal virtues of the Chinese are (1) humanity or benevolence; (2) uprightness of mind; (3) self-respect, self-control, or \\\"proper feeling;\\\" (4) wisdom; (5) sincerity or good faith. Here \\\"wisdom\\\" and \\\"sincerity\\\" are put before \\\"humanity or benevolence,\\\" and the two military virtues of \\\"courage\\\" and \\\"strictness\\\" substituted for \\\"uprightness of mind\\\" and \\\"self-respect, self-control, or \\u2018proper feeling.\\u2019\\\"]\\n---\\nBy persistently hanging on the enemy\\u2019s flank,\\n\\n[I understand the first four words to mean \\\"accompanying the enemy in one direction.\\\" Ts\\u2019ao Kung says: \\\"unite the soldiers and make for the enemy.\\\" But such a violent displacement of characters is quite indefensible.]\\n\\nwe shall succeed in the long run\\n\\n[Literally, \\\"after a thousand li.\\\"]\\n\\nin killing the commander-in-chief.\\n\\n[Always a great point with the Chinese.]\\n\\nThis is called ability to accomplish a thing by sheer cunning.\\n---\\n[That is, cutting up the army into regiments, companies, etc., with subordinate officers in command of each. Tu Mu reminds us of Han Hsin\\u2019s famous reply to the first Han Emperor, who once said to him: \\\"How large an army do you think I could lead?\\\" \\\"Not more than 100,000 men, your Majesty.\\\" \\\"And you?\\\" asked the Emperor. \\\"Oh!\\\" he answered, \\\"the more the better.\\\"]\\n---\\nIf asked how to cope with a great host of the enemy in orderly array and on the point of marching to the attack, I should say: \\\"Begin by seizing something which your opponent holds dear; then he will be amenable to your will.\\\"\\n---\\n[Owing to the double meanings in the Chinese text, the latter part of the sentence is susceptible of quite a different meaning: \\\"And thus, the weapon not being blunted by use, its keenness remains perfect.\\\"]\\n\\nThis is the method of attacking by stratagem.\\n\\nIt is the rule in war, if our forces are ten to the enemy\\u2019s one, to surround him; if five to one, to attack him;\\n\\n[Straightway, without waiting for any further advantage.]\\n\\nif twice as numerous, to divide our army into two.</context>\",\n",
       "      \"additional_kwargs\": {},\n",
       "      \"response_metadata\": {},\n",
       "      \"type\": \"human\",\n",
       "      \"name\": null,\n",
       "      \"id\": \"c7ad6213-4e0f-4bf9-8548-701f6cc99fab\",\n",
       "      \"example\": false\n",
       "    },\n",
       "    {\n",
       "      \"content\": \"Je vroeg: \\\"Wat is de top van uitmuntendheid?\\\" Volgens Sun Tzu's principes is de top van uitmuntendheid niet alleen vechten en winnen. Het is het breken van de vijandelijke weerstand zonder te vechten, door heimelijk te plannen en de vijandelijke plannen te dwarsbomen, zodat overwinning zonder bloedvergieten wordt bereikt.\",\n",
       "      \"additional_kwargs\": {\n",
       "        \"refusal\": null\n",
       "      },\n",
       "      \"response_metadata\": {\n",
       "        \"token_usage\": {\n",
       "          \"completion_tokens\": 87,\n",
       "          \"prompt_tokens\": 1424,\n",
       "          \"total_tokens\": 1511,\n",
       "          \"completion_tokens_details\": {\n",
       "            \"accepted_prediction_tokens\": 0,\n",
       "            \"audio_tokens\": 0,\n",
       "            \"reasoning_tokens\": 0,\n",
       "            \"rejected_prediction_tokens\": 0\n",
       "          },\n",
       "          \"prompt_tokens_details\": {\n",
       "            \"audio_tokens\": 0,\n",
       "            \"cached_tokens\": 0,\n",
       "            \"text_tokens\": 1424,\n",
       "            \"image_tokens\": 0\n",
       "          }\n",
       "        },\n",
       "        \"model_name\": \"grok-2-vision-1212\",\n",
       "        \"system_fingerprint\": \"fp_3858f1c03e\",\n",
       "        \"id\": \"4eb5f9d0-6b1e-49d6-ba7b-96f99493a174\",\n",
       "        \"finish_reason\": \"stop\",\n",
       "        \"logprobs\": null\n",
       "      },\n",
       "      \"type\": \"ai\",\n",
       "      \"name\": null,\n",
       "      \"id\": \"run-64964fc4-6555-4d1c-b0df-f75a41e2ee0a-0\",\n",
       "      \"example\": false,\n",
       "      \"tool_calls\": [],\n",
       "      \"invalid_tool_calls\": [],\n",
       "      \"usage_metadata\": {\n",
       "        \"input_tokens\": 1424,\n",
       "        \"output_tokens\": 87,\n",
       "        \"total_tokens\": 1511,\n",
       "        \"input_token_details\": {\n",
       "          \"audio\": 0,\n",
       "          \"cache_read\": 0\n",
       "        },\n",
       "        \"output_token_details\": {\n",
       "          \"audio\": 0,\n",
       "          \"reasoning\": 0\n",
       "        }\n",
       "      }\n",
       "    }\n",
       "  ]\n",
       "}\n",
       "```"
      ],
      "text/plain": [
       "<IPython.core.display.Markdown object>"
      ]
     },
     "metadata": {},
     "output_type": "display_data"
    }
   ],
   "source": [
    "display(\n",
    "    Markdown(\n",
    "        f\"**Workflow state:**\\n```json\\n{json.dumps(workflow_state, indent=2)}\\n```\"\n",
    "    )\n",
    ")"
   ]
  },
  {
   "cell_type": "code",
   "execution_count": null,
   "id": "49439622-0dcb-4ad6-8d7b-7991c7010356",
   "metadata": {},
   "outputs": [],
   "source": []
  }
 ],
 "metadata": {
  "kernelspec": {
   "display_name": "Python 3 (ipykernel)",
   "language": "python",
   "name": "python3"
  },
  "language_info": {
   "codemirror_mode": {
    "name": "ipython",
    "version": 3
   },
   "file_extension": ".py",
   "mimetype": "text/x-python",
   "name": "python",
   "nbconvert_exporter": "python",
   "pygments_lexer": "ipython3",
   "version": "3.11.11"
  }
 },
 "nbformat": 4,
 "nbformat_minor": 5
}
